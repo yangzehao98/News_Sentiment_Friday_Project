{
 "cells": [
  {
   "cell_type": "code",
   "execution_count": 12,
   "id": "initial_id",
   "metadata": {
    "collapsed": true,
    "ExecuteTime": {
     "end_time": "2024-02-25T04:59:36.675166Z",
     "start_time": "2024-02-25T04:59:36.668166Z"
    }
   },
   "outputs": [],
   "source": [
    "import pandas as pd"
   ]
  },
  {
   "cell_type": "code",
   "outputs": [],
   "source": [
    "df = pd.read_csv('news_attributes.csv', index_col=0)"
   ],
   "metadata": {
    "collapsed": false,
    "ExecuteTime": {
     "end_time": "2024-02-25T04:59:36.809079Z",
     "start_time": "2024-02-25T04:59:36.803109Z"
    }
   },
   "id": "7517fc4c34d8567b",
   "execution_count": 13
  },
  {
   "cell_type": "code",
   "outputs": [
    {
     "data": {
      "text/plain": "             attribute0 attribute1 attribute2  \\\n0  2024-02-21T21:53:56Z   Newsdesk    wrap-up   \n1  2024-02-21T10:09:04Z   Insights    wrap-up   \n2  2024-02-14T19:15:24Z   Insights    wrap-up   \n\n                                          attribute3  attribute4  attribute5  \\\n0  Coca-Cola Consolidated Q4 Adj $13.39 Down From...         0.0           0   \n1           Earnings Scheduled For February 21, 2024         1.0           0   \n2  How Is The Market Feeling About Coca-Cola Cons...         1.0           0   \n\n   attribute6  attribute7  attribute8  attribute9  attribute10  attribute11  \\\n0    0.000000         NaN           0           0           -1            5   \n1    0.000578         0.0         164         162           -1         1729   \n2    0.005618         0.0          17           0           -1          178   \n\n   attribute12  attribute13  attribute14  attribute15  attribute16  \\\n0            0            0            1     0.000000            0   \n1            0            0            2     0.000000            0   \n2            0            0            3     0.055082            0   \n\n                                         attribute17  \\\n0                                                 []   \n1  ['ACVA', 'ADI', 'AGI', 'AGR', 'ALIT', 'AMK', '...   \n2                                                 []   \n\n                                         attribute18  \n0  {'index': 0, 'url': 'https://www.benzinga.com/...  \n1  {'index': 1, 'url': 'https://www.benzinga.com/...  \n2  {'index': 2, 'url': 'https://www.benzinga.com/...  ",
      "text/html": "<div>\n<style scoped>\n    .dataframe tbody tr th:only-of-type {\n        vertical-align: middle;\n    }\n\n    .dataframe tbody tr th {\n        vertical-align: top;\n    }\n\n    .dataframe thead th {\n        text-align: right;\n    }\n</style>\n<table border=\"1\" class=\"dataframe\">\n  <thead>\n    <tr style=\"text-align: right;\">\n      <th></th>\n      <th>attribute0</th>\n      <th>attribute1</th>\n      <th>attribute2</th>\n      <th>attribute3</th>\n      <th>attribute4</th>\n      <th>attribute5</th>\n      <th>attribute6</th>\n      <th>attribute7</th>\n      <th>attribute8</th>\n      <th>attribute9</th>\n      <th>attribute10</th>\n      <th>attribute11</th>\n      <th>attribute12</th>\n      <th>attribute13</th>\n      <th>attribute14</th>\n      <th>attribute15</th>\n      <th>attribute16</th>\n      <th>attribute17</th>\n      <th>attribute18</th>\n    </tr>\n  </thead>\n  <tbody>\n    <tr>\n      <th>0</th>\n      <td>2024-02-21T21:53:56Z</td>\n      <td>Newsdesk</td>\n      <td>wrap-up</td>\n      <td>Coca-Cola Consolidated Q4 Adj $13.39 Down From...</td>\n      <td>0.0</td>\n      <td>0</td>\n      <td>0.000000</td>\n      <td>NaN</td>\n      <td>0</td>\n      <td>0</td>\n      <td>-1</td>\n      <td>5</td>\n      <td>0</td>\n      <td>0</td>\n      <td>1</td>\n      <td>0.000000</td>\n      <td>0</td>\n      <td>[]</td>\n      <td>{'index': 0, 'url': 'https://www.benzinga.com/...</td>\n    </tr>\n    <tr>\n      <th>1</th>\n      <td>2024-02-21T10:09:04Z</td>\n      <td>Insights</td>\n      <td>wrap-up</td>\n      <td>Earnings Scheduled For February 21, 2024</td>\n      <td>1.0</td>\n      <td>0</td>\n      <td>0.000578</td>\n      <td>0.0</td>\n      <td>164</td>\n      <td>162</td>\n      <td>-1</td>\n      <td>1729</td>\n      <td>0</td>\n      <td>0</td>\n      <td>2</td>\n      <td>0.000000</td>\n      <td>0</td>\n      <td>['ACVA', 'ADI', 'AGI', 'AGR', 'ALIT', 'AMK', '...</td>\n      <td>{'index': 1, 'url': 'https://www.benzinga.com/...</td>\n    </tr>\n    <tr>\n      <th>2</th>\n      <td>2024-02-14T19:15:24Z</td>\n      <td>Insights</td>\n      <td>wrap-up</td>\n      <td>How Is The Market Feeling About Coca-Cola Cons...</td>\n      <td>1.0</td>\n      <td>0</td>\n      <td>0.005618</td>\n      <td>0.0</td>\n      <td>17</td>\n      <td>0</td>\n      <td>-1</td>\n      <td>178</td>\n      <td>0</td>\n      <td>0</td>\n      <td>3</td>\n      <td>0.055082</td>\n      <td>0</td>\n      <td>[]</td>\n      <td>{'index': 2, 'url': 'https://www.benzinga.com/...</td>\n    </tr>\n  </tbody>\n</table>\n</div>"
     },
     "execution_count": 14,
     "metadata": {},
     "output_type": "execute_result"
    }
   ],
   "source": [
    "df.head(3)"
   ],
   "metadata": {
    "collapsed": false,
    "ExecuteTime": {
     "end_time": "2024-02-25T04:59:37.063545Z",
     "start_time": "2024-02-25T04:59:37.057096Z"
    }
   },
   "id": "159b63d5aff1b7aa",
   "execution_count": 14
  },
  {
   "cell_type": "code",
   "outputs": [
    {
     "data": {
      "text/plain": "               attribute0 attribute1 attribute2  \\\n0    2024-02-21T21:53:56Z   Newsdesk    wrap-up   \n1    2024-02-21T10:09:04Z   Insights    wrap-up   \n2    2024-02-14T19:15:24Z   Insights    wrap-up   \n3    2024-01-22T14:45:50Z   Insights    wrap-up   \n4    2024-01-17T13:19:08Z    article  Exclusive   \n..                    ...        ...        ...   \n166  2015-05-05T21:37:28Z        NaN    wrap-up   \n167  2015-03-04T21:13:53Z        NaN    wrap-up   \n168  2015-03-04T21:10:58Z        NaN    wrap-up   \n169  2015-03-04T10:09:57Z        NaN    wrap-up   \n170  2015-02-17T21:24:24Z        NaN    wrap-up   \n\n                                            attribute3  attribute4  \\\n0    Coca-Cola Consolidated Q4 Adj $13.39 Down From...         0.0   \n1             Earnings Scheduled For February 21, 2024         1.0   \n2    How Is The Market Feeling About Coca-Cola Cons...         1.0   \n3            Coca-Cola Consolidated: Dividend Insights         1.0   \n4    Top 3 Defensive Stocks That May Fall Off A Cli...         0.0   \n..                                                 ...         ...   \n166  Coca-Cola Bottling Reports Q1 EPS $0.24, Sales...         0.0   \n167  UPDATE: Coca Cola Bottling Reports Q4 Adj EPS ...         0.0   \n168  Coca Cola Bottling Reports Q4 EPS $0.32 Vs Est...         0.0   \n169               Earnings Scheduled For March 4, 2015         0.0   \n170  Coca-Cola Bottling Co. Consolidated Announces ...         0.0   \n\n     attribute5  attribute6  attribute7  attribute8  attribute9  attribute10  \\\n0             0    0.000000         NaN           0           0           -1   \n1             0    0.000578         0.0         164         162           -1   \n2             0    0.005618         0.0          17           0           -1   \n3             0    0.011494         0.0           9           0           -1   \n4             0    0.042254         NaN           6           2           -1   \n..          ...         ...         ...         ...         ...          ...   \n166           0    0.000000         NaN           0           0           -1   \n167           0    0.000000         NaN           0           0           -1   \n168           0    0.000000         NaN           0           0           -1   \n169           0    0.000000         NaN           0          26           -1   \n170           0    0.000000         NaN           0           1           -1   \n\n     attribute11  attribute12  attribute13  attribute14  attribute15  \\\n0              5            0            0            1     0.000000   \n1           1729            0            0            2     0.000000   \n2            178            0            0            3     0.055082   \n3             87            0            0            4     0.112546   \n4             71            0            0            5     0.145718   \n..           ...          ...          ...          ...          ...   \n166            4            0            0            5     0.000000   \n167            7            0            0            1     0.000000   \n168            8            0            0            2     1.000000   \n169            3            0            0            3     1.000000   \n170            8            0            0            4     1.000000   \n\n     attribute16                                        attribute17  \\\n0              0                                                 []   \n1              0  ['ACVA', 'ADI', 'AGI', 'AGR', 'ALIT', 'AMK', '...   \n2              0                                                 []   \n3              0                                                 []   \n4              0                                   ['NHTC', 'NOMD']   \n..           ...                                                ...   \n166            0                                                 []   \n167            0                                                 []   \n168            0                                                 []   \n169            0  ['AEO', 'ALG', 'ALSK', 'AMED', 'ANF', 'ATHM', ...   \n170            0                                             ['KO']   \n\n                                           attribute18  \n0    {'index': 0, 'url': 'https://www.benzinga.com/...  \n1    {'index': 1, 'url': 'https://www.benzinga.com/...  \n2    {'index': 2, 'url': 'https://www.benzinga.com/...  \n3    {'index': 3, 'url': 'https://www.benzinga.com/...  \n4    {'index': 4, 'url': 'https://www.benzinga.com/...  \n..                                                 ...  \n166  {'index': 166, 'url': 'https://www.benzinga.co...  \n167  {'index': 167, 'url': 'https://www.benzinga.co...  \n168  {'index': 168, 'url': 'https://www.benzinga.co...  \n169  {'index': 169, 'url': 'https://www.benzinga.co...  \n170  {'index': 170, 'url': 'https://www.benzinga.co...  \n\n[171 rows x 19 columns]",
      "text/html": "<div>\n<style scoped>\n    .dataframe tbody tr th:only-of-type {\n        vertical-align: middle;\n    }\n\n    .dataframe tbody tr th {\n        vertical-align: top;\n    }\n\n    .dataframe thead th {\n        text-align: right;\n    }\n</style>\n<table border=\"1\" class=\"dataframe\">\n  <thead>\n    <tr style=\"text-align: right;\">\n      <th></th>\n      <th>attribute0</th>\n      <th>attribute1</th>\n      <th>attribute2</th>\n      <th>attribute3</th>\n      <th>attribute4</th>\n      <th>attribute5</th>\n      <th>attribute6</th>\n      <th>attribute7</th>\n      <th>attribute8</th>\n      <th>attribute9</th>\n      <th>attribute10</th>\n      <th>attribute11</th>\n      <th>attribute12</th>\n      <th>attribute13</th>\n      <th>attribute14</th>\n      <th>attribute15</th>\n      <th>attribute16</th>\n      <th>attribute17</th>\n      <th>attribute18</th>\n    </tr>\n  </thead>\n  <tbody>\n    <tr>\n      <th>0</th>\n      <td>2024-02-21T21:53:56Z</td>\n      <td>Newsdesk</td>\n      <td>wrap-up</td>\n      <td>Coca-Cola Consolidated Q4 Adj $13.39 Down From...</td>\n      <td>0.0</td>\n      <td>0</td>\n      <td>0.000000</td>\n      <td>NaN</td>\n      <td>0</td>\n      <td>0</td>\n      <td>-1</td>\n      <td>5</td>\n      <td>0</td>\n      <td>0</td>\n      <td>1</td>\n      <td>0.000000</td>\n      <td>0</td>\n      <td>[]</td>\n      <td>{'index': 0, 'url': 'https://www.benzinga.com/...</td>\n    </tr>\n    <tr>\n      <th>1</th>\n      <td>2024-02-21T10:09:04Z</td>\n      <td>Insights</td>\n      <td>wrap-up</td>\n      <td>Earnings Scheduled For February 21, 2024</td>\n      <td>1.0</td>\n      <td>0</td>\n      <td>0.000578</td>\n      <td>0.0</td>\n      <td>164</td>\n      <td>162</td>\n      <td>-1</td>\n      <td>1729</td>\n      <td>0</td>\n      <td>0</td>\n      <td>2</td>\n      <td>0.000000</td>\n      <td>0</td>\n      <td>['ACVA', 'ADI', 'AGI', 'AGR', 'ALIT', 'AMK', '...</td>\n      <td>{'index': 1, 'url': 'https://www.benzinga.com/...</td>\n    </tr>\n    <tr>\n      <th>2</th>\n      <td>2024-02-14T19:15:24Z</td>\n      <td>Insights</td>\n      <td>wrap-up</td>\n      <td>How Is The Market Feeling About Coca-Cola Cons...</td>\n      <td>1.0</td>\n      <td>0</td>\n      <td>0.005618</td>\n      <td>0.0</td>\n      <td>17</td>\n      <td>0</td>\n      <td>-1</td>\n      <td>178</td>\n      <td>0</td>\n      <td>0</td>\n      <td>3</td>\n      <td>0.055082</td>\n      <td>0</td>\n      <td>[]</td>\n      <td>{'index': 2, 'url': 'https://www.benzinga.com/...</td>\n    </tr>\n    <tr>\n      <th>3</th>\n      <td>2024-01-22T14:45:50Z</td>\n      <td>Insights</td>\n      <td>wrap-up</td>\n      <td>Coca-Cola Consolidated: Dividend Insights</td>\n      <td>1.0</td>\n      <td>0</td>\n      <td>0.011494</td>\n      <td>0.0</td>\n      <td>9</td>\n      <td>0</td>\n      <td>-1</td>\n      <td>87</td>\n      <td>0</td>\n      <td>0</td>\n      <td>4</td>\n      <td>0.112546</td>\n      <td>0</td>\n      <td>[]</td>\n      <td>{'index': 3, 'url': 'https://www.benzinga.com/...</td>\n    </tr>\n    <tr>\n      <th>4</th>\n      <td>2024-01-17T13:19:08Z</td>\n      <td>article</td>\n      <td>Exclusive</td>\n      <td>Top 3 Defensive Stocks That May Fall Off A Cli...</td>\n      <td>0.0</td>\n      <td>0</td>\n      <td>0.042254</td>\n      <td>NaN</td>\n      <td>6</td>\n      <td>2</td>\n      <td>-1</td>\n      <td>71</td>\n      <td>0</td>\n      <td>0</td>\n      <td>5</td>\n      <td>0.145718</td>\n      <td>0</td>\n      <td>['NHTC', 'NOMD']</td>\n      <td>{'index': 4, 'url': 'https://www.benzinga.com/...</td>\n    </tr>\n    <tr>\n      <th>...</th>\n      <td>...</td>\n      <td>...</td>\n      <td>...</td>\n      <td>...</td>\n      <td>...</td>\n      <td>...</td>\n      <td>...</td>\n      <td>...</td>\n      <td>...</td>\n      <td>...</td>\n      <td>...</td>\n      <td>...</td>\n      <td>...</td>\n      <td>...</td>\n      <td>...</td>\n      <td>...</td>\n      <td>...</td>\n      <td>...</td>\n      <td>...</td>\n    </tr>\n    <tr>\n      <th>166</th>\n      <td>2015-05-05T21:37:28Z</td>\n      <td>NaN</td>\n      <td>wrap-up</td>\n      <td>Coca-Cola Bottling Reports Q1 EPS $0.24, Sales...</td>\n      <td>0.0</td>\n      <td>0</td>\n      <td>0.000000</td>\n      <td>NaN</td>\n      <td>0</td>\n      <td>0</td>\n      <td>-1</td>\n      <td>4</td>\n      <td>0</td>\n      <td>0</td>\n      <td>5</td>\n      <td>0.000000</td>\n      <td>0</td>\n      <td>[]</td>\n      <td>{'index': 166, 'url': 'https://www.benzinga.co...</td>\n    </tr>\n    <tr>\n      <th>167</th>\n      <td>2015-03-04T21:13:53Z</td>\n      <td>NaN</td>\n      <td>wrap-up</td>\n      <td>UPDATE: Coca Cola Bottling Reports Q4 Adj EPS ...</td>\n      <td>0.0</td>\n      <td>0</td>\n      <td>0.000000</td>\n      <td>NaN</td>\n      <td>0</td>\n      <td>0</td>\n      <td>-1</td>\n      <td>7</td>\n      <td>0</td>\n      <td>0</td>\n      <td>1</td>\n      <td>0.000000</td>\n      <td>0</td>\n      <td>[]</td>\n      <td>{'index': 167, 'url': 'https://www.benzinga.co...</td>\n    </tr>\n    <tr>\n      <th>168</th>\n      <td>2015-03-04T21:10:58Z</td>\n      <td>NaN</td>\n      <td>wrap-up</td>\n      <td>Coca Cola Bottling Reports Q4 EPS $0.32 Vs Est...</td>\n      <td>0.0</td>\n      <td>0</td>\n      <td>0.000000</td>\n      <td>NaN</td>\n      <td>0</td>\n      <td>0</td>\n      <td>-1</td>\n      <td>8</td>\n      <td>0</td>\n      <td>0</td>\n      <td>2</td>\n      <td>1.000000</td>\n      <td>0</td>\n      <td>[]</td>\n      <td>{'index': 168, 'url': 'https://www.benzinga.co...</td>\n    </tr>\n    <tr>\n      <th>169</th>\n      <td>2015-03-04T10:09:57Z</td>\n      <td>NaN</td>\n      <td>wrap-up</td>\n      <td>Earnings Scheduled For March 4, 2015</td>\n      <td>0.0</td>\n      <td>0</td>\n      <td>0.000000</td>\n      <td>NaN</td>\n      <td>0</td>\n      <td>26</td>\n      <td>-1</td>\n      <td>3</td>\n      <td>0</td>\n      <td>0</td>\n      <td>3</td>\n      <td>1.000000</td>\n      <td>0</td>\n      <td>['AEO', 'ALG', 'ALSK', 'AMED', 'ANF', 'ATHM', ...</td>\n      <td>{'index': 169, 'url': 'https://www.benzinga.co...</td>\n    </tr>\n    <tr>\n      <th>170</th>\n      <td>2015-02-17T21:24:24Z</td>\n      <td>NaN</td>\n      <td>wrap-up</td>\n      <td>Coca-Cola Bottling Co. Consolidated Announces ...</td>\n      <td>0.0</td>\n      <td>0</td>\n      <td>0.000000</td>\n      <td>NaN</td>\n      <td>0</td>\n      <td>1</td>\n      <td>-1</td>\n      <td>8</td>\n      <td>0</td>\n      <td>0</td>\n      <td>4</td>\n      <td>1.000000</td>\n      <td>0</td>\n      <td>['KO']</td>\n      <td>{'index': 170, 'url': 'https://www.benzinga.co...</td>\n    </tr>\n  </tbody>\n</table>\n<p>171 rows × 19 columns</p>\n</div>"
     },
     "execution_count": 15,
     "metadata": {},
     "output_type": "execute_result"
    }
   ],
   "source": [
    "df"
   ],
   "metadata": {
    "collapsed": false,
    "ExecuteTime": {
     "end_time": "2024-02-25T04:59:37.466904Z",
     "start_time": "2024-02-25T04:59:37.464618Z"
    }
   },
   "id": "aaa38f97e03d93c6",
   "execution_count": 15
  },
  {
   "cell_type": "code",
   "outputs": [],
   "source": [],
   "metadata": {
    "collapsed": false
   },
   "id": "2ef272e21a02369c"
  }
 ],
 "metadata": {
  "kernelspec": {
   "display_name": "Python 3",
   "language": "python",
   "name": "python3"
  },
  "language_info": {
   "codemirror_mode": {
    "name": "ipython",
    "version": 2
   },
   "file_extension": ".py",
   "mimetype": "text/x-python",
   "name": "python",
   "nbconvert_exporter": "python",
   "pygments_lexer": "ipython2",
   "version": "2.7.6"
  }
 },
 "nbformat": 4,
 "nbformat_minor": 5
}
