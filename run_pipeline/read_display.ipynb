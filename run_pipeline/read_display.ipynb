{
 "cells": [
  {
   "cell_type": "code",
   "execution_count": 1,
   "id": "initial_id",
   "metadata": {
    "collapsed": true,
    "ExecuteTime": {
     "end_time": "2024-02-25T05:02:28.164811800Z",
     "start_time": "2024-02-25T05:02:27.304326100Z"
    }
   },
   "outputs": [
    {
     "name": "stderr",
     "output_type": "stream",
     "text": [
      "C:\\Users\\wzy\\AppData\\Local\\Temp\\ipykernel_48272\\2035458946.py:1: DeprecationWarning: \n",
      "Pyarrow will become a required dependency of pandas in the next major release of pandas (pandas 3.0),\n",
      "(to allow more performant data types, such as the Arrow string type, and better interoperability with other libraries)\n",
      "but was not found to be installed on your system.\n",
      "If this would cause problems for you,\n",
      "please provide us feedback at https://github.com/pandas-dev/pandas/issues/54466\n",
      "        \n",
      "  import pandas as pd\n"
     ]
    }
   ],
   "source": [
    "import pandas as pd"
   ]
  },
  {
   "cell_type": "code",
   "outputs": [],
   "source": [
    "df = pd.read_csv('news_attributes.csv', index_col=0)"
   ],
   "metadata": {
    "collapsed": false,
    "ExecuteTime": {
     "end_time": "2024-02-25T06:39:39.736357400Z",
     "start_time": "2024-02-25T06:39:39.678725800Z"
    }
   },
   "id": "7517fc4c34d8567b",
   "execution_count": 11
  },
  {
   "cell_type": "code",
   "outputs": [
    {
     "data": {
      "text/plain": "             attribute0 attribute1 attribute2  \\\n0  2024-02-21T21:53:56Z   Newsdesk    wrap-up   \n1  2024-02-21T10:09:04Z   Insights    wrap-up   \n2  2024-02-14T19:15:24Z   Insights    wrap-up   \n\n                                          attribute3  attribute4  attribute5  \\\n0  Coca-Cola Consolidated Q4 Adj $13.39 Down From...         0.0           0   \n1           Earnings Scheduled For February 21, 2024         1.0           0   \n2  How Is The Market Feeling About Coca-Cola Cons...         1.0           0   \n\n   attribute6  attribute7  attribute8  attribute9  attribute10  attribute11  \\\n0    0.000000         NaN           0           0           -1            5   \n1    0.000578         0.0         164         162           -1         1729   \n2    0.005618         0.0          17           0           -1          178   \n\n   attribute12  attribute13  attribute14  attribute15  attribute16  \\\n0            0            0            1     0.000000            0   \n1            0            0            2     0.000000            0   \n2            0            0            3     0.055082            0   \n\n                                         attribute17  \\\n0                                                 []   \n1  ['ACVA', 'ADI', 'AGI', 'AGR', 'ALIT', 'AMK', '...   \n2                                                 []   \n\n                                         attribute18  \n0  {'index': 0, 'url': 'https://www.benzinga.com/...  \n1  {'index': 1, 'url': 'https://www.benzinga.com/...  \n2  {'index': 2, 'url': 'https://www.benzinga.com/...  ",
      "text/html": "<div>\n<style scoped>\n    .dataframe tbody tr th:only-of-type {\n        vertical-align: middle;\n    }\n\n    .dataframe tbody tr th {\n        vertical-align: top;\n    }\n\n    .dataframe thead th {\n        text-align: right;\n    }\n</style>\n<table border=\"1\" class=\"dataframe\">\n  <thead>\n    <tr style=\"text-align: right;\">\n      <th></th>\n      <th>attribute0</th>\n      <th>attribute1</th>\n      <th>attribute2</th>\n      <th>attribute3</th>\n      <th>attribute4</th>\n      <th>attribute5</th>\n      <th>attribute6</th>\n      <th>attribute7</th>\n      <th>attribute8</th>\n      <th>attribute9</th>\n      <th>attribute10</th>\n      <th>attribute11</th>\n      <th>attribute12</th>\n      <th>attribute13</th>\n      <th>attribute14</th>\n      <th>attribute15</th>\n      <th>attribute16</th>\n      <th>attribute17</th>\n      <th>attribute18</th>\n    </tr>\n  </thead>\n  <tbody>\n    <tr>\n      <th>0</th>\n      <td>2024-02-21T21:53:56Z</td>\n      <td>Newsdesk</td>\n      <td>wrap-up</td>\n      <td>Coca-Cola Consolidated Q4 Adj $13.39 Down From...</td>\n      <td>0.0</td>\n      <td>0</td>\n      <td>0.000000</td>\n      <td>NaN</td>\n      <td>0</td>\n      <td>0</td>\n      <td>-1</td>\n      <td>5</td>\n      <td>0</td>\n      <td>0</td>\n      <td>1</td>\n      <td>0.000000</td>\n      <td>0</td>\n      <td>[]</td>\n      <td>{'index': 0, 'url': 'https://www.benzinga.com/...</td>\n    </tr>\n    <tr>\n      <th>1</th>\n      <td>2024-02-21T10:09:04Z</td>\n      <td>Insights</td>\n      <td>wrap-up</td>\n      <td>Earnings Scheduled For February 21, 2024</td>\n      <td>1.0</td>\n      <td>0</td>\n      <td>0.000578</td>\n      <td>0.0</td>\n      <td>164</td>\n      <td>162</td>\n      <td>-1</td>\n      <td>1729</td>\n      <td>0</td>\n      <td>0</td>\n      <td>2</td>\n      <td>0.000000</td>\n      <td>0</td>\n      <td>['ACVA', 'ADI', 'AGI', 'AGR', 'ALIT', 'AMK', '...</td>\n      <td>{'index': 1, 'url': 'https://www.benzinga.com/...</td>\n    </tr>\n    <tr>\n      <th>2</th>\n      <td>2024-02-14T19:15:24Z</td>\n      <td>Insights</td>\n      <td>wrap-up</td>\n      <td>How Is The Market Feeling About Coca-Cola Cons...</td>\n      <td>1.0</td>\n      <td>0</td>\n      <td>0.005618</td>\n      <td>0.0</td>\n      <td>17</td>\n      <td>0</td>\n      <td>-1</td>\n      <td>178</td>\n      <td>0</td>\n      <td>0</td>\n      <td>3</td>\n      <td>0.055082</td>\n      <td>0</td>\n      <td>[]</td>\n      <td>{'index': 2, 'url': 'https://www.benzinga.com/...</td>\n    </tr>\n  </tbody>\n</table>\n</div>"
     },
     "execution_count": 12,
     "metadata": {},
     "output_type": "execute_result"
    }
   ],
   "source": [
    "df.head(3)"
   ],
   "metadata": {
    "collapsed": false,
    "ExecuteTime": {
     "end_time": "2024-02-25T06:39:40.514204500Z",
     "start_time": "2024-02-25T06:39:40.478459100Z"
    }
   },
   "id": "159b63d5aff1b7aa",
   "execution_count": 12
  },
  {
   "cell_type": "code",
   "outputs": [
    {
     "data": {
      "text/plain": "\"{'index': 13, 'url': 'https://www.benzinga.com/news/earnings/23/08/33514056/earnings-scheduled-for-august-2-2023', 'summary': 'Companies Reporting Before The Bell\\\\n\\\\n• Vanguard Extended Duration Treasury ETF (NYSE:EDV) is estimated to report quarterly earnings at $0.37 per share on revenue of $784.53 million.', 'image': [{'size': 'large', 'url': 'https://cdn.benzinga.com/files/imagecache/2048x1536xUP/images/story/2023/earnings_image.jpeg'}, {'size': 'small', 'url': 'https://cdn.benzinga.com/files/imagecache/1024x768xUP/images/story/2023/earnings_image.jpeg'}, {'size': 'thumb', 'url': 'https://cdn.benzinga.com/files/imagecache/250x187xUP/images/story/2023/earnings_image.jpeg'}]}\""
     },
     "execution_count": 17,
     "metadata": {},
     "output_type": "execute_result"
    }
   ],
   "source": [
    "df.iloc[13,18]"
   ],
   "metadata": {
    "collapsed": false,
    "ExecuteTime": {
     "end_time": "2024-02-25T07:10:35.100476700Z",
     "start_time": "2024-02-25T07:10:35.070354400Z"
    }
   },
   "id": "61b296bd46d1fec",
   "execution_count": 17
  },
  {
   "cell_type": "code",
   "outputs": [],
   "source": [
    "df.iloc[:, 16] = df.iloc[:, 16].astype(str)"
   ],
   "metadata": {
    "collapsed": false,
    "ExecuteTime": {
     "end_time": "2024-02-25T07:28:56.826990200Z",
     "start_time": "2024-02-25T07:28:56.820989Z"
    }
   },
   "id": "566850b772920140",
   "execution_count": 21
  },
  {
   "cell_type": "code",
   "outputs": [],
   "source": [
    "df.iloc[13,16] = 'EO' ##Event Outcome"
   ],
   "metadata": {
    "collapsed": false,
    "ExecuteTime": {
     "end_time": "2024-02-25T07:28:58.267882200Z",
     "start_time": "2024-02-25T07:28:58.257726900Z"
    }
   },
   "id": "a9c1758e069bd87b",
   "execution_count": 22
  },
  {
   "cell_type": "code",
   "outputs": [
    {
     "data": {
      "text/plain": "\"{'index': 13, 'url': 'https://www.benzinga.com/news/earnings/23/08/33514056/earnings-scheduled-for-august-2-2023', 'summary': 'Companies Reporting Before The Bell\\\\n\\\\n• Vanguard Extended Duration Treasury ETF (NYSE:EDV) is estimated to report quarterly earnings at $0.37 per share on revenue of $784.53 million.', 'image': [{'size': 'large', 'url': 'https://cdn.benzinga.com/files/imagecache/2048x1536xUP/images/story/2023/earnings_image.jpeg'}, {'size': 'small', 'url': 'https://cdn.benzinga.com/files/imagecache/1024x768xUP/images/story/2023/earnings_image.jpeg'}, {'size': 'thumb', 'url': 'https://cdn.benzinga.com/files/imagecache/250x187xUP/images/story/2023/earnings_image.jpeg'}]}\""
     },
     "execution_count": 23,
     "metadata": {},
     "output_type": "execute_result"
    }
   ],
   "source": [
    "df.iloc[13,18] "
   ],
   "metadata": {
    "collapsed": false,
    "ExecuteTime": {
     "end_time": "2024-02-25T07:29:12.861566100Z",
     "start_time": "2024-02-25T07:29:12.849183100Z"
    }
   },
   "id": "84b5a6b8d3485a68",
   "execution_count": 23
  },
  {
   "cell_type": "code",
   "outputs": [
    {
     "data": {
      "text/plain": "\"{'index': 8, 'url': 'https://www.benzinga.com/news/earnings/23/11/35530611/earnings-scheduled-for-november-1-2023', 'summary': 'Companies Reporting Before The Bell\\\\n\\\\n• GSK (NYSE:GSK) is expected to report quarterly earnings at $1.07 per share on revenue of $9.37 billion.', 'image': [{'size': 'large', 'url': 'https://cdn.benzinga.com/files/imagecache/2048x1536xUP/images/story/2023/earnings_image.jpeg'}, {'size': 'small', 'url': 'https://cdn.benzinga.com/files/imagecache/1024x768xUP/images/story/2023/earnings_image.jpeg'}, {'size': 'thumb', 'url': 'https://cdn.benzinga.com/files/imagecache/250x187xUP/images/story/2023/earnings_image.jpeg'}]}\""
     },
     "execution_count": 18,
     "metadata": {},
     "output_type": "execute_result"
    }
   ],
   "source": [
    "df.iloc[8,18]"
   ],
   "metadata": {
    "collapsed": false,
    "ExecuteTime": {
     "end_time": "2024-02-25T07:10:44.069779300Z",
     "start_time": "2024-02-25T07:10:44.049683300Z"
    }
   },
   "id": "67eb520652289648",
   "execution_count": 18
  },
  {
   "cell_type": "code",
   "outputs": [],
   "source": [
    "df.iloc[8,16] = 'EO' ##Event Outcome"
   ],
   "metadata": {
    "collapsed": false,
    "ExecuteTime": {
     "end_time": "2024-02-25T07:29:59.210541Z",
     "start_time": "2024-02-25T07:29:59.184508700Z"
    }
   },
   "id": "20411431139774a7",
   "execution_count": 24
  },
  {
   "cell_type": "code",
   "outputs": [
    {
     "data": {
      "text/plain": "\"{'index': 52, 'url': 'https://www.benzinga.com/news/earnings/21/11/23974533/earnings-scheduled-for-november-9-2021', 'summary': '\\\\xa0\\\\n\\\\nCompanies Reporting Before The Bell\\\\n\\\\n• Imara (NASDAQ:IMRA) is projected to report earnings for its third quarter.\\\\n\\\\n• KT (NYSE:KT) is projected to report earnings for its third quarter.', 'image': [{'size': 'large', 'url': 'https://cdn.benzinga.com/files/imagecache/2048x1536xUP/images/story/2021/earnings_image_688.jpeg'}, {'size': 'small', 'url': 'https://cdn.benzinga.com/files/imagecache/1024x768xUP/images/story/2021/earnings_image_688.jpeg'}, {'size': 'thumb', 'url': 'https://cdn.benzinga.com/files/imagecache/250x187xUP/images/story/2021/earnings_image_688.jpeg'}]}\""
     },
     "execution_count": 19,
     "metadata": {},
     "output_type": "execute_result"
    }
   ],
   "source": [
    "df.iloc[52,18]"
   ],
   "metadata": {
    "collapsed": false,
    "ExecuteTime": {
     "end_time": "2024-02-25T07:10:51.450132100Z",
     "start_time": "2024-02-25T07:10:51.436111400Z"
    }
   },
   "id": "afc9db83a54ddd22",
   "execution_count": 19
  },
  {
   "cell_type": "code",
   "outputs": [],
   "source": [
    "df.iloc[52,16] = 'EO' ##Event Outcome"
   ],
   "metadata": {
    "collapsed": false,
    "ExecuteTime": {
     "end_time": "2024-02-25T07:30:18.437181300Z",
     "start_time": "2024-02-25T07:30:18.414170700Z"
    }
   },
   "id": "2e7c34592bdd3507",
   "execution_count": 25
  },
  {
   "cell_type": "code",
   "outputs": [
    {
     "data": {
      "text/plain": "               attribute0 attribute1 attribute2  \\\n0    2024-02-21T21:53:56Z   Newsdesk    wrap-up   \n1    2024-02-21T10:09:04Z   Insights    wrap-up   \n2    2024-02-14T19:15:24Z   Insights    wrap-up   \n3    2024-01-22T14:45:50Z   Insights    wrap-up   \n4    2024-01-17T13:19:08Z    article  Exclusive   \n..                    ...        ...        ...   \n166  2015-05-05T21:37:28Z        NaN    wrap-up   \n167  2015-03-04T21:13:53Z        NaN    wrap-up   \n168  2015-03-04T21:10:58Z        NaN    wrap-up   \n169  2015-03-04T10:09:57Z        NaN    wrap-up   \n170  2015-02-17T21:24:24Z        NaN    wrap-up   \n\n                                            attribute3  attribute4  \\\n0    Coca-Cola Consolidated Q4 Adj $13.39 Down From...         0.0   \n1             Earnings Scheduled For February 21, 2024         1.0   \n2    How Is The Market Feeling About Coca-Cola Cons...         1.0   \n3            Coca-Cola Consolidated: Dividend Insights         1.0   \n4    Top 3 Defensive Stocks That May Fall Off A Cli...         0.0   \n..                                                 ...         ...   \n166  Coca-Cola Bottling Reports Q1 EPS $0.24, Sales...         0.0   \n167  UPDATE: Coca Cola Bottling Reports Q4 Adj EPS ...         0.0   \n168  Coca Cola Bottling Reports Q4 EPS $0.32 Vs Est...         0.0   \n169               Earnings Scheduled For March 4, 2015         0.0   \n170  Coca-Cola Bottling Co. Consolidated Announces ...         0.0   \n\n     attribute5  attribute6  attribute7  attribute8  attribute9  attribute10  \\\n0             0    0.000000         NaN           0           0           -1   \n1             0    0.000578         0.0         164         162           -1   \n2             0    0.005618         0.0          17           0           -1   \n3             0    0.011494         0.0           9           0           -1   \n4             0    0.042254         NaN           6           2           -1   \n..          ...         ...         ...         ...         ...          ...   \n166           0    0.000000         NaN           0           0           -1   \n167           0    0.000000         NaN           0           0           -1   \n168           0    0.000000         NaN           0           0           -1   \n169           0    0.000000         NaN           0          26           -1   \n170           0    0.000000         NaN           0           1           -1   \n\n     attribute11  attribute12  attribute13  attribute14  attribute15  \\\n0              5            0            0            1     0.000000   \n1           1729            0            0            2     0.000000   \n2            178            0            0            3     0.055082   \n3             87            0            0            4     0.112546   \n4             71            0            0            5     0.145718   \n..           ...          ...          ...          ...          ...   \n166            4            0            0            5     0.000000   \n167            7            0            0            1     0.000000   \n168            8            0            0            2     1.000000   \n169            3            0            0            3     1.000000   \n170            8            0            0            4     1.000000   \n\n    attribute16                                        attribute17  \\\n0             0                                                 []   \n1             0  ['ACVA', 'ADI', 'AGI', 'AGR', 'ALIT', 'AMK', '...   \n2             0                                                 []   \n3             0                                                 []   \n4             0                                   ['NHTC', 'NOMD']   \n..          ...                                                ...   \n166           0                                                 []   \n167           0                                                 []   \n168           0                                                 []   \n169           0  ['AEO', 'ALG', 'ALSK', 'AMED', 'ANF', 'ATHM', ...   \n170           0                                             ['KO']   \n\n                                           attribute18  \n0    {'index': 0, 'url': 'https://www.benzinga.com/...  \n1    {'index': 1, 'url': 'https://www.benzinga.com/...  \n2    {'index': 2, 'url': 'https://www.benzinga.com/...  \n3    {'index': 3, 'url': 'https://www.benzinga.com/...  \n4    {'index': 4, 'url': 'https://www.benzinga.com/...  \n..                                                 ...  \n166  {'index': 166, 'url': 'https://www.benzinga.co...  \n167  {'index': 167, 'url': 'https://www.benzinga.co...  \n168  {'index': 168, 'url': 'https://www.benzinga.co...  \n169  {'index': 169, 'url': 'https://www.benzinga.co...  \n170  {'index': 170, 'url': 'https://www.benzinga.co...  \n\n[171 rows x 19 columns]",
      "text/html": "<div>\n<style scoped>\n    .dataframe tbody tr th:only-of-type {\n        vertical-align: middle;\n    }\n\n    .dataframe tbody tr th {\n        vertical-align: top;\n    }\n\n    .dataframe thead th {\n        text-align: right;\n    }\n</style>\n<table border=\"1\" class=\"dataframe\">\n  <thead>\n    <tr style=\"text-align: right;\">\n      <th></th>\n      <th>attribute0</th>\n      <th>attribute1</th>\n      <th>attribute2</th>\n      <th>attribute3</th>\n      <th>attribute4</th>\n      <th>attribute5</th>\n      <th>attribute6</th>\n      <th>attribute7</th>\n      <th>attribute8</th>\n      <th>attribute9</th>\n      <th>attribute10</th>\n      <th>attribute11</th>\n      <th>attribute12</th>\n      <th>attribute13</th>\n      <th>attribute14</th>\n      <th>attribute15</th>\n      <th>attribute16</th>\n      <th>attribute17</th>\n      <th>attribute18</th>\n    </tr>\n  </thead>\n  <tbody>\n    <tr>\n      <th>0</th>\n      <td>2024-02-21T21:53:56Z</td>\n      <td>Newsdesk</td>\n      <td>wrap-up</td>\n      <td>Coca-Cola Consolidated Q4 Adj $13.39 Down From...</td>\n      <td>0.0</td>\n      <td>0</td>\n      <td>0.000000</td>\n      <td>NaN</td>\n      <td>0</td>\n      <td>0</td>\n      <td>-1</td>\n      <td>5</td>\n      <td>0</td>\n      <td>0</td>\n      <td>1</td>\n      <td>0.000000</td>\n      <td>0</td>\n      <td>[]</td>\n      <td>{'index': 0, 'url': 'https://www.benzinga.com/...</td>\n    </tr>\n    <tr>\n      <th>1</th>\n      <td>2024-02-21T10:09:04Z</td>\n      <td>Insights</td>\n      <td>wrap-up</td>\n      <td>Earnings Scheduled For February 21, 2024</td>\n      <td>1.0</td>\n      <td>0</td>\n      <td>0.000578</td>\n      <td>0.0</td>\n      <td>164</td>\n      <td>162</td>\n      <td>-1</td>\n      <td>1729</td>\n      <td>0</td>\n      <td>0</td>\n      <td>2</td>\n      <td>0.000000</td>\n      <td>0</td>\n      <td>['ACVA', 'ADI', 'AGI', 'AGR', 'ALIT', 'AMK', '...</td>\n      <td>{'index': 1, 'url': 'https://www.benzinga.com/...</td>\n    </tr>\n    <tr>\n      <th>2</th>\n      <td>2024-02-14T19:15:24Z</td>\n      <td>Insights</td>\n      <td>wrap-up</td>\n      <td>How Is The Market Feeling About Coca-Cola Cons...</td>\n      <td>1.0</td>\n      <td>0</td>\n      <td>0.005618</td>\n      <td>0.0</td>\n      <td>17</td>\n      <td>0</td>\n      <td>-1</td>\n      <td>178</td>\n      <td>0</td>\n      <td>0</td>\n      <td>3</td>\n      <td>0.055082</td>\n      <td>0</td>\n      <td>[]</td>\n      <td>{'index': 2, 'url': 'https://www.benzinga.com/...</td>\n    </tr>\n    <tr>\n      <th>3</th>\n      <td>2024-01-22T14:45:50Z</td>\n      <td>Insights</td>\n      <td>wrap-up</td>\n      <td>Coca-Cola Consolidated: Dividend Insights</td>\n      <td>1.0</td>\n      <td>0</td>\n      <td>0.011494</td>\n      <td>0.0</td>\n      <td>9</td>\n      <td>0</td>\n      <td>-1</td>\n      <td>87</td>\n      <td>0</td>\n      <td>0</td>\n      <td>4</td>\n      <td>0.112546</td>\n      <td>0</td>\n      <td>[]</td>\n      <td>{'index': 3, 'url': 'https://www.benzinga.com/...</td>\n    </tr>\n    <tr>\n      <th>4</th>\n      <td>2024-01-17T13:19:08Z</td>\n      <td>article</td>\n      <td>Exclusive</td>\n      <td>Top 3 Defensive Stocks That May Fall Off A Cli...</td>\n      <td>0.0</td>\n      <td>0</td>\n      <td>0.042254</td>\n      <td>NaN</td>\n      <td>6</td>\n      <td>2</td>\n      <td>-1</td>\n      <td>71</td>\n      <td>0</td>\n      <td>0</td>\n      <td>5</td>\n      <td>0.145718</td>\n      <td>0</td>\n      <td>['NHTC', 'NOMD']</td>\n      <td>{'index': 4, 'url': 'https://www.benzinga.com/...</td>\n    </tr>\n    <tr>\n      <th>...</th>\n      <td>...</td>\n      <td>...</td>\n      <td>...</td>\n      <td>...</td>\n      <td>...</td>\n      <td>...</td>\n      <td>...</td>\n      <td>...</td>\n      <td>...</td>\n      <td>...</td>\n      <td>...</td>\n      <td>...</td>\n      <td>...</td>\n      <td>...</td>\n      <td>...</td>\n      <td>...</td>\n      <td>...</td>\n      <td>...</td>\n      <td>...</td>\n    </tr>\n    <tr>\n      <th>166</th>\n      <td>2015-05-05T21:37:28Z</td>\n      <td>NaN</td>\n      <td>wrap-up</td>\n      <td>Coca-Cola Bottling Reports Q1 EPS $0.24, Sales...</td>\n      <td>0.0</td>\n      <td>0</td>\n      <td>0.000000</td>\n      <td>NaN</td>\n      <td>0</td>\n      <td>0</td>\n      <td>-1</td>\n      <td>4</td>\n      <td>0</td>\n      <td>0</td>\n      <td>5</td>\n      <td>0.000000</td>\n      <td>0</td>\n      <td>[]</td>\n      <td>{'index': 166, 'url': 'https://www.benzinga.co...</td>\n    </tr>\n    <tr>\n      <th>167</th>\n      <td>2015-03-04T21:13:53Z</td>\n      <td>NaN</td>\n      <td>wrap-up</td>\n      <td>UPDATE: Coca Cola Bottling Reports Q4 Adj EPS ...</td>\n      <td>0.0</td>\n      <td>0</td>\n      <td>0.000000</td>\n      <td>NaN</td>\n      <td>0</td>\n      <td>0</td>\n      <td>-1</td>\n      <td>7</td>\n      <td>0</td>\n      <td>0</td>\n      <td>1</td>\n      <td>0.000000</td>\n      <td>0</td>\n      <td>[]</td>\n      <td>{'index': 167, 'url': 'https://www.benzinga.co...</td>\n    </tr>\n    <tr>\n      <th>168</th>\n      <td>2015-03-04T21:10:58Z</td>\n      <td>NaN</td>\n      <td>wrap-up</td>\n      <td>Coca Cola Bottling Reports Q4 EPS $0.32 Vs Est...</td>\n      <td>0.0</td>\n      <td>0</td>\n      <td>0.000000</td>\n      <td>NaN</td>\n      <td>0</td>\n      <td>0</td>\n      <td>-1</td>\n      <td>8</td>\n      <td>0</td>\n      <td>0</td>\n      <td>2</td>\n      <td>1.000000</td>\n      <td>0</td>\n      <td>[]</td>\n      <td>{'index': 168, 'url': 'https://www.benzinga.co...</td>\n    </tr>\n    <tr>\n      <th>169</th>\n      <td>2015-03-04T10:09:57Z</td>\n      <td>NaN</td>\n      <td>wrap-up</td>\n      <td>Earnings Scheduled For March 4, 2015</td>\n      <td>0.0</td>\n      <td>0</td>\n      <td>0.000000</td>\n      <td>NaN</td>\n      <td>0</td>\n      <td>26</td>\n      <td>-1</td>\n      <td>3</td>\n      <td>0</td>\n      <td>0</td>\n      <td>3</td>\n      <td>1.000000</td>\n      <td>0</td>\n      <td>['AEO', 'ALG', 'ALSK', 'AMED', 'ANF', 'ATHM', ...</td>\n      <td>{'index': 169, 'url': 'https://www.benzinga.co...</td>\n    </tr>\n    <tr>\n      <th>170</th>\n      <td>2015-02-17T21:24:24Z</td>\n      <td>NaN</td>\n      <td>wrap-up</td>\n      <td>Coca-Cola Bottling Co. Consolidated Announces ...</td>\n      <td>0.0</td>\n      <td>0</td>\n      <td>0.000000</td>\n      <td>NaN</td>\n      <td>0</td>\n      <td>1</td>\n      <td>-1</td>\n      <td>8</td>\n      <td>0</td>\n      <td>0</td>\n      <td>4</td>\n      <td>1.000000</td>\n      <td>0</td>\n      <td>['KO']</td>\n      <td>{'index': 170, 'url': 'https://www.benzinga.co...</td>\n    </tr>\n  </tbody>\n</table>\n<p>171 rows × 19 columns</p>\n</div>"
     },
     "execution_count": 26,
     "metadata": {},
     "output_type": "execute_result"
    }
   ],
   "source": [
    "df"
   ],
   "metadata": {
    "collapsed": false,
    "ExecuteTime": {
     "end_time": "2024-02-25T07:30:21.312345800Z",
     "start_time": "2024-02-25T07:30:21.280168Z"
    }
   },
   "id": "aaa38f97e03d93c6",
   "execution_count": 26
  },
  {
   "cell_type": "code",
   "outputs": [],
   "source": [
    "def set_attribute5(row):\n",
    "    if row['attribute6'] <= 0.020:\n",
    "        return -1\n",
    "    elif 0.21 <= row['attribute6'] <= 0.30:\n",
    "        return 0\n",
    "    elif row['attribute6'] > 0.31:\n",
    "        return 1\n",
    "    else:\n",
    "        return row['attribute5']  \n",
    "\n",
    "df['attribute5'] = df.apply(set_attribute5, axis=1)"
   ],
   "metadata": {
    "collapsed": false,
    "ExecuteTime": {
     "end_time": "2024-02-25T07:38:06.464009500Z",
     "start_time": "2024-02-25T07:38:06.340983700Z"
    }
   },
   "id": "2ef272e21a02369c",
   "execution_count": 29
  },
  {
   "cell_type": "code",
   "outputs": [
    {
     "data": {
      "text/plain": "               attribute0 attribute1 attribute2  \\\n0    2024-02-21T21:53:56Z   Newsdesk    wrap-up   \n1    2024-02-21T10:09:04Z   Insights    wrap-up   \n2    2024-02-14T19:15:24Z   Insights    wrap-up   \n3    2024-01-22T14:45:50Z   Insights    wrap-up   \n4    2024-01-17T13:19:08Z    article  Exclusive   \n..                    ...        ...        ...   \n166  2015-05-05T21:37:28Z        NaN    wrap-up   \n167  2015-03-04T21:13:53Z        NaN    wrap-up   \n168  2015-03-04T21:10:58Z        NaN    wrap-up   \n169  2015-03-04T10:09:57Z        NaN    wrap-up   \n170  2015-02-17T21:24:24Z        NaN    wrap-up   \n\n                                            attribute3  attribute4  \\\n0    Coca-Cola Consolidated Q4 Adj $13.39 Down From...         0.0   \n1             Earnings Scheduled For February 21, 2024         1.0   \n2    How Is The Market Feeling About Coca-Cola Cons...         1.0   \n3            Coca-Cola Consolidated: Dividend Insights         1.0   \n4    Top 3 Defensive Stocks That May Fall Off A Cli...         0.0   \n..                                                 ...         ...   \n166  Coca-Cola Bottling Reports Q1 EPS $0.24, Sales...         0.0   \n167  UPDATE: Coca Cola Bottling Reports Q4 Adj EPS ...         0.0   \n168  Coca Cola Bottling Reports Q4 EPS $0.32 Vs Est...         0.0   \n169               Earnings Scheduled For March 4, 2015         0.0   \n170  Coca-Cola Bottling Co. Consolidated Announces ...         0.0   \n\n     attribute5  attribute6  attribute7  attribute8  attribute9  attribute10  \\\n0            -1    0.000000         NaN           0           0           -1   \n1            -1    0.000578         0.0         164         162           -1   \n2            -1    0.005618         0.0          17           0           -1   \n3            -1    0.011494         0.0           9           0           -1   \n4            -1    0.042254         NaN           6           2           -1   \n..          ...         ...         ...         ...         ...          ...   \n166          -1    0.000000         NaN           0           0           -1   \n167          -1    0.000000         NaN           0           0           -1   \n168          -1    0.000000         NaN           0           0           -1   \n169          -1    0.000000         NaN           0          26           -1   \n170          -1    0.000000         NaN           0           1           -1   \n\n     attribute11  attribute12  attribute13  attribute14  attribute15  \\\n0              5            0            0            1     0.000000   \n1           1729            0            0            2     0.000000   \n2            178            0            0            3     0.055082   \n3             87            0            0            4     0.112546   \n4             71            0            0            5     0.145718   \n..           ...          ...          ...          ...          ...   \n166            4            0            0            5     0.000000   \n167            7            0            0            1     0.000000   \n168            8            0            0            2     1.000000   \n169            3            0            0            3     1.000000   \n170            8            0            0            4     1.000000   \n\n    attribute16                                        attribute17  \\\n0             0                                                 []   \n1             0  ['ACVA', 'ADI', 'AGI', 'AGR', 'ALIT', 'AMK', '...   \n2             0                                                 []   \n3             0                                                 []   \n4             0                                   ['NHTC', 'NOMD']   \n..          ...                                                ...   \n166           0                                                 []   \n167           0                                                 []   \n168           0                                                 []   \n169           0  ['AEO', 'ALG', 'ALSK', 'AMED', 'ANF', 'ATHM', ...   \n170           0                                             ['KO']   \n\n                                           attribute18  \n0    {'index': 0, 'url': 'https://www.benzinga.com/...  \n1    {'index': 1, 'url': 'https://www.benzinga.com/...  \n2    {'index': 2, 'url': 'https://www.benzinga.com/...  \n3    {'index': 3, 'url': 'https://www.benzinga.com/...  \n4    {'index': 4, 'url': 'https://www.benzinga.com/...  \n..                                                 ...  \n166  {'index': 166, 'url': 'https://www.benzinga.co...  \n167  {'index': 167, 'url': 'https://www.benzinga.co...  \n168  {'index': 168, 'url': 'https://www.benzinga.co...  \n169  {'index': 169, 'url': 'https://www.benzinga.co...  \n170  {'index': 170, 'url': 'https://www.benzinga.co...  \n\n[171 rows x 19 columns]",
      "text/html": "<div>\n<style scoped>\n    .dataframe tbody tr th:only-of-type {\n        vertical-align: middle;\n    }\n\n    .dataframe tbody tr th {\n        vertical-align: top;\n    }\n\n    .dataframe thead th {\n        text-align: right;\n    }\n</style>\n<table border=\"1\" class=\"dataframe\">\n  <thead>\n    <tr style=\"text-align: right;\">\n      <th></th>\n      <th>attribute0</th>\n      <th>attribute1</th>\n      <th>attribute2</th>\n      <th>attribute3</th>\n      <th>attribute4</th>\n      <th>attribute5</th>\n      <th>attribute6</th>\n      <th>attribute7</th>\n      <th>attribute8</th>\n      <th>attribute9</th>\n      <th>attribute10</th>\n      <th>attribute11</th>\n      <th>attribute12</th>\n      <th>attribute13</th>\n      <th>attribute14</th>\n      <th>attribute15</th>\n      <th>attribute16</th>\n      <th>attribute17</th>\n      <th>attribute18</th>\n    </tr>\n  </thead>\n  <tbody>\n    <tr>\n      <th>0</th>\n      <td>2024-02-21T21:53:56Z</td>\n      <td>Newsdesk</td>\n      <td>wrap-up</td>\n      <td>Coca-Cola Consolidated Q4 Adj $13.39 Down From...</td>\n      <td>0.0</td>\n      <td>-1</td>\n      <td>0.000000</td>\n      <td>NaN</td>\n      <td>0</td>\n      <td>0</td>\n      <td>-1</td>\n      <td>5</td>\n      <td>0</td>\n      <td>0</td>\n      <td>1</td>\n      <td>0.000000</td>\n      <td>0</td>\n      <td>[]</td>\n      <td>{'index': 0, 'url': 'https://www.benzinga.com/...</td>\n    </tr>\n    <tr>\n      <th>1</th>\n      <td>2024-02-21T10:09:04Z</td>\n      <td>Insights</td>\n      <td>wrap-up</td>\n      <td>Earnings Scheduled For February 21, 2024</td>\n      <td>1.0</td>\n      <td>-1</td>\n      <td>0.000578</td>\n      <td>0.0</td>\n      <td>164</td>\n      <td>162</td>\n      <td>-1</td>\n      <td>1729</td>\n      <td>0</td>\n      <td>0</td>\n      <td>2</td>\n      <td>0.000000</td>\n      <td>0</td>\n      <td>['ACVA', 'ADI', 'AGI', 'AGR', 'ALIT', 'AMK', '...</td>\n      <td>{'index': 1, 'url': 'https://www.benzinga.com/...</td>\n    </tr>\n    <tr>\n      <th>2</th>\n      <td>2024-02-14T19:15:24Z</td>\n      <td>Insights</td>\n      <td>wrap-up</td>\n      <td>How Is The Market Feeling About Coca-Cola Cons...</td>\n      <td>1.0</td>\n      <td>-1</td>\n      <td>0.005618</td>\n      <td>0.0</td>\n      <td>17</td>\n      <td>0</td>\n      <td>-1</td>\n      <td>178</td>\n      <td>0</td>\n      <td>0</td>\n      <td>3</td>\n      <td>0.055082</td>\n      <td>0</td>\n      <td>[]</td>\n      <td>{'index': 2, 'url': 'https://www.benzinga.com/...</td>\n    </tr>\n    <tr>\n      <th>3</th>\n      <td>2024-01-22T14:45:50Z</td>\n      <td>Insights</td>\n      <td>wrap-up</td>\n      <td>Coca-Cola Consolidated: Dividend Insights</td>\n      <td>1.0</td>\n      <td>-1</td>\n      <td>0.011494</td>\n      <td>0.0</td>\n      <td>9</td>\n      <td>0</td>\n      <td>-1</td>\n      <td>87</td>\n      <td>0</td>\n      <td>0</td>\n      <td>4</td>\n      <td>0.112546</td>\n      <td>0</td>\n      <td>[]</td>\n      <td>{'index': 3, 'url': 'https://www.benzinga.com/...</td>\n    </tr>\n    <tr>\n      <th>4</th>\n      <td>2024-01-17T13:19:08Z</td>\n      <td>article</td>\n      <td>Exclusive</td>\n      <td>Top 3 Defensive Stocks That May Fall Off A Cli...</td>\n      <td>0.0</td>\n      <td>-1</td>\n      <td>0.042254</td>\n      <td>NaN</td>\n      <td>6</td>\n      <td>2</td>\n      <td>-1</td>\n      <td>71</td>\n      <td>0</td>\n      <td>0</td>\n      <td>5</td>\n      <td>0.145718</td>\n      <td>0</td>\n      <td>['NHTC', 'NOMD']</td>\n      <td>{'index': 4, 'url': 'https://www.benzinga.com/...</td>\n    </tr>\n    <tr>\n      <th>...</th>\n      <td>...</td>\n      <td>...</td>\n      <td>...</td>\n      <td>...</td>\n      <td>...</td>\n      <td>...</td>\n      <td>...</td>\n      <td>...</td>\n      <td>...</td>\n      <td>...</td>\n      <td>...</td>\n      <td>...</td>\n      <td>...</td>\n      <td>...</td>\n      <td>...</td>\n      <td>...</td>\n      <td>...</td>\n      <td>...</td>\n      <td>...</td>\n    </tr>\n    <tr>\n      <th>166</th>\n      <td>2015-05-05T21:37:28Z</td>\n      <td>NaN</td>\n      <td>wrap-up</td>\n      <td>Coca-Cola Bottling Reports Q1 EPS $0.24, Sales...</td>\n      <td>0.0</td>\n      <td>-1</td>\n      <td>0.000000</td>\n      <td>NaN</td>\n      <td>0</td>\n      <td>0</td>\n      <td>-1</td>\n      <td>4</td>\n      <td>0</td>\n      <td>0</td>\n      <td>5</td>\n      <td>0.000000</td>\n      <td>0</td>\n      <td>[]</td>\n      <td>{'index': 166, 'url': 'https://www.benzinga.co...</td>\n    </tr>\n    <tr>\n      <th>167</th>\n      <td>2015-03-04T21:13:53Z</td>\n      <td>NaN</td>\n      <td>wrap-up</td>\n      <td>UPDATE: Coca Cola Bottling Reports Q4 Adj EPS ...</td>\n      <td>0.0</td>\n      <td>-1</td>\n      <td>0.000000</td>\n      <td>NaN</td>\n      <td>0</td>\n      <td>0</td>\n      <td>-1</td>\n      <td>7</td>\n      <td>0</td>\n      <td>0</td>\n      <td>1</td>\n      <td>0.000000</td>\n      <td>0</td>\n      <td>[]</td>\n      <td>{'index': 167, 'url': 'https://www.benzinga.co...</td>\n    </tr>\n    <tr>\n      <th>168</th>\n      <td>2015-03-04T21:10:58Z</td>\n      <td>NaN</td>\n      <td>wrap-up</td>\n      <td>Coca Cola Bottling Reports Q4 EPS $0.32 Vs Est...</td>\n      <td>0.0</td>\n      <td>-1</td>\n      <td>0.000000</td>\n      <td>NaN</td>\n      <td>0</td>\n      <td>0</td>\n      <td>-1</td>\n      <td>8</td>\n      <td>0</td>\n      <td>0</td>\n      <td>2</td>\n      <td>1.000000</td>\n      <td>0</td>\n      <td>[]</td>\n      <td>{'index': 168, 'url': 'https://www.benzinga.co...</td>\n    </tr>\n    <tr>\n      <th>169</th>\n      <td>2015-03-04T10:09:57Z</td>\n      <td>NaN</td>\n      <td>wrap-up</td>\n      <td>Earnings Scheduled For March 4, 2015</td>\n      <td>0.0</td>\n      <td>-1</td>\n      <td>0.000000</td>\n      <td>NaN</td>\n      <td>0</td>\n      <td>26</td>\n      <td>-1</td>\n      <td>3</td>\n      <td>0</td>\n      <td>0</td>\n      <td>3</td>\n      <td>1.000000</td>\n      <td>0</td>\n      <td>['AEO', 'ALG', 'ALSK', 'AMED', 'ANF', 'ATHM', ...</td>\n      <td>{'index': 169, 'url': 'https://www.benzinga.co...</td>\n    </tr>\n    <tr>\n      <th>170</th>\n      <td>2015-02-17T21:24:24Z</td>\n      <td>NaN</td>\n      <td>wrap-up</td>\n      <td>Coca-Cola Bottling Co. Consolidated Announces ...</td>\n      <td>0.0</td>\n      <td>-1</td>\n      <td>0.000000</td>\n      <td>NaN</td>\n      <td>0</td>\n      <td>1</td>\n      <td>-1</td>\n      <td>8</td>\n      <td>0</td>\n      <td>0</td>\n      <td>4</td>\n      <td>1.000000</td>\n      <td>0</td>\n      <td>['KO']</td>\n      <td>{'index': 170, 'url': 'https://www.benzinga.co...</td>\n    </tr>\n  </tbody>\n</table>\n<p>171 rows × 19 columns</p>\n</div>"
     },
     "execution_count": 30,
     "metadata": {},
     "output_type": "execute_result"
    }
   ],
   "source": [
    "df"
   ],
   "metadata": {
    "collapsed": false,
    "ExecuteTime": {
     "end_time": "2024-02-25T07:38:16.480269200Z",
     "start_time": "2024-02-25T07:38:16.444278100Z"
    }
   },
   "id": "e845cead7825a3f6",
   "execution_count": 30
  },
  {
   "cell_type": "code",
   "outputs": [],
   "source": [
    "new_df = df[['attribute0', 'attribute4', 'attribute5', 'attribute6']]"
   ],
   "metadata": {
    "collapsed": false,
    "ExecuteTime": {
     "end_time": "2024-02-25T08:28:27.399203700Z",
     "start_time": "2024-02-25T08:28:27.377805300Z"
    }
   },
   "id": "348a266dd71187c4",
   "execution_count": 55
  },
  {
   "cell_type": "code",
   "outputs": [
    {
     "data": {
      "text/plain": "               attribute0  attribute4  attribute5  attribute6\n0    2024-02-21T21:53:56Z         0.0          -1    0.000000\n1    2024-02-21T10:09:04Z         1.0          -1    0.000578\n2    2024-02-14T19:15:24Z         1.0          -1    0.005618\n3    2024-01-22T14:45:50Z         1.0          -1    0.011494\n4    2024-01-17T13:19:08Z         0.0          -1    0.042254\n..                    ...         ...         ...         ...\n166  2015-05-05T21:37:28Z         0.0          -1    0.000000\n167  2015-03-04T21:13:53Z         0.0          -1    0.000000\n168  2015-03-04T21:10:58Z         0.0          -1    0.000000\n169  2015-03-04T10:09:57Z         0.0          -1    0.000000\n170  2015-02-17T21:24:24Z         0.0          -1    0.000000\n\n[171 rows x 4 columns]",
      "text/html": "<div>\n<style scoped>\n    .dataframe tbody tr th:only-of-type {\n        vertical-align: middle;\n    }\n\n    .dataframe tbody tr th {\n        vertical-align: top;\n    }\n\n    .dataframe thead th {\n        text-align: right;\n    }\n</style>\n<table border=\"1\" class=\"dataframe\">\n  <thead>\n    <tr style=\"text-align: right;\">\n      <th></th>\n      <th>attribute0</th>\n      <th>attribute4</th>\n      <th>attribute5</th>\n      <th>attribute6</th>\n    </tr>\n  </thead>\n  <tbody>\n    <tr>\n      <th>0</th>\n      <td>2024-02-21T21:53:56Z</td>\n      <td>0.0</td>\n      <td>-1</td>\n      <td>0.000000</td>\n    </tr>\n    <tr>\n      <th>1</th>\n      <td>2024-02-21T10:09:04Z</td>\n      <td>1.0</td>\n      <td>-1</td>\n      <td>0.000578</td>\n    </tr>\n    <tr>\n      <th>2</th>\n      <td>2024-02-14T19:15:24Z</td>\n      <td>1.0</td>\n      <td>-1</td>\n      <td>0.005618</td>\n    </tr>\n    <tr>\n      <th>3</th>\n      <td>2024-01-22T14:45:50Z</td>\n      <td>1.0</td>\n      <td>-1</td>\n      <td>0.011494</td>\n    </tr>\n    <tr>\n      <th>4</th>\n      <td>2024-01-17T13:19:08Z</td>\n      <td>0.0</td>\n      <td>-1</td>\n      <td>0.042254</td>\n    </tr>\n    <tr>\n      <th>...</th>\n      <td>...</td>\n      <td>...</td>\n      <td>...</td>\n      <td>...</td>\n    </tr>\n    <tr>\n      <th>166</th>\n      <td>2015-05-05T21:37:28Z</td>\n      <td>0.0</td>\n      <td>-1</td>\n      <td>0.000000</td>\n    </tr>\n    <tr>\n      <th>167</th>\n      <td>2015-03-04T21:13:53Z</td>\n      <td>0.0</td>\n      <td>-1</td>\n      <td>0.000000</td>\n    </tr>\n    <tr>\n      <th>168</th>\n      <td>2015-03-04T21:10:58Z</td>\n      <td>0.0</td>\n      <td>-1</td>\n      <td>0.000000</td>\n    </tr>\n    <tr>\n      <th>169</th>\n      <td>2015-03-04T10:09:57Z</td>\n      <td>0.0</td>\n      <td>-1</td>\n      <td>0.000000</td>\n    </tr>\n    <tr>\n      <th>170</th>\n      <td>2015-02-17T21:24:24Z</td>\n      <td>0.0</td>\n      <td>-1</td>\n      <td>0.000000</td>\n    </tr>\n  </tbody>\n</table>\n<p>171 rows × 4 columns</p>\n</div>"
     },
     "execution_count": 56,
     "metadata": {},
     "output_type": "execute_result"
    }
   ],
   "source": [
    "new_df"
   ],
   "metadata": {
    "collapsed": false,
    "ExecuteTime": {
     "end_time": "2024-02-25T08:28:27.967519Z",
     "start_time": "2024-02-25T08:28:27.947510200Z"
    }
   },
   "id": "c20ae70a1ee7c9dc",
   "execution_count": 56
  },
  {
   "cell_type": "code",
   "outputs": [],
   "source": [
    "# 创建新的DataFrame来避免在视图上操作\n",
    "new_df = new_df.copy()\n",
    "\n",
    "# 转换日期格式\n",
    "new_df['attribute0'] = pd.to_datetime(new_df['attribute0']).dt.strftime('%Y-%m-%d')\n",
    "new_df['attribute0'] = pd.to_datetime(new_df['attribute0'])\n",
    "# new_df = new_df.assign(attribute0=pd.to_datetime(new_df['attribute0']).dt.strftime('%Y-%m-%d'))\n"
   ],
   "metadata": {
    "collapsed": false,
    "ExecuteTime": {
     "end_time": "2024-02-25T08:28:28.556401400Z",
     "start_time": "2024-02-25T08:28:28.540093500Z"
    }
   },
   "id": "e8367181a442434b",
   "execution_count": 57
  },
  {
   "cell_type": "code",
   "outputs": [
    {
     "data": {
      "text/plain": "    attribute0  attribute4  attribute5  attribute6\n0   2024-02-21         0.0          -1    0.000000\n1   2024-02-21         1.0          -1    0.000578\n2   2024-02-14         1.0          -1    0.005618\n3   2024-01-22         1.0          -1    0.011494\n4   2024-01-17         0.0          -1    0.042254\n..         ...         ...         ...         ...\n166 2015-05-05         0.0          -1    0.000000\n167 2015-03-04         0.0          -1    0.000000\n168 2015-03-04         0.0          -1    0.000000\n169 2015-03-04         0.0          -1    0.000000\n170 2015-02-17         0.0          -1    0.000000\n\n[171 rows x 4 columns]",
      "text/html": "<div>\n<style scoped>\n    .dataframe tbody tr th:only-of-type {\n        vertical-align: middle;\n    }\n\n    .dataframe tbody tr th {\n        vertical-align: top;\n    }\n\n    .dataframe thead th {\n        text-align: right;\n    }\n</style>\n<table border=\"1\" class=\"dataframe\">\n  <thead>\n    <tr style=\"text-align: right;\">\n      <th></th>\n      <th>attribute0</th>\n      <th>attribute4</th>\n      <th>attribute5</th>\n      <th>attribute6</th>\n    </tr>\n  </thead>\n  <tbody>\n    <tr>\n      <th>0</th>\n      <td>2024-02-21</td>\n      <td>0.0</td>\n      <td>-1</td>\n      <td>0.000000</td>\n    </tr>\n    <tr>\n      <th>1</th>\n      <td>2024-02-21</td>\n      <td>1.0</td>\n      <td>-1</td>\n      <td>0.000578</td>\n    </tr>\n    <tr>\n      <th>2</th>\n      <td>2024-02-14</td>\n      <td>1.0</td>\n      <td>-1</td>\n      <td>0.005618</td>\n    </tr>\n    <tr>\n      <th>3</th>\n      <td>2024-01-22</td>\n      <td>1.0</td>\n      <td>-1</td>\n      <td>0.011494</td>\n    </tr>\n    <tr>\n      <th>4</th>\n      <td>2024-01-17</td>\n      <td>0.0</td>\n      <td>-1</td>\n      <td>0.042254</td>\n    </tr>\n    <tr>\n      <th>...</th>\n      <td>...</td>\n      <td>...</td>\n      <td>...</td>\n      <td>...</td>\n    </tr>\n    <tr>\n      <th>166</th>\n      <td>2015-05-05</td>\n      <td>0.0</td>\n      <td>-1</td>\n      <td>0.000000</td>\n    </tr>\n    <tr>\n      <th>167</th>\n      <td>2015-03-04</td>\n      <td>0.0</td>\n      <td>-1</td>\n      <td>0.000000</td>\n    </tr>\n    <tr>\n      <th>168</th>\n      <td>2015-03-04</td>\n      <td>0.0</td>\n      <td>-1</td>\n      <td>0.000000</td>\n    </tr>\n    <tr>\n      <th>169</th>\n      <td>2015-03-04</td>\n      <td>0.0</td>\n      <td>-1</td>\n      <td>0.000000</td>\n    </tr>\n    <tr>\n      <th>170</th>\n      <td>2015-02-17</td>\n      <td>0.0</td>\n      <td>-1</td>\n      <td>0.000000</td>\n    </tr>\n  </tbody>\n</table>\n<p>171 rows × 4 columns</p>\n</div>"
     },
     "execution_count": 58,
     "metadata": {},
     "output_type": "execute_result"
    }
   ],
   "source": [
    "new_df"
   ],
   "metadata": {
    "collapsed": false,
    "ExecuteTime": {
     "end_time": "2024-02-25T08:28:29.151064400Z",
     "start_time": "2024-02-25T08:28:29.094619400Z"
    }
   },
   "id": "e4ba6da2aec11e9f",
   "execution_count": 58
  },
  {
   "cell_type": "code",
   "outputs": [
    {
     "name": "stderr",
     "output_type": "stream",
     "text": [
      "C:\\Users\\wzy\\AppData\\Local\\Programs\\Python\\Python311\\Lib\\site-packages\\yfinance\\utils.py:775: FutureWarning: The 'unit' keyword in TimedeltaIndex construction is deprecated and will be removed in a future version. Use pd.to_timedelta instead.\n",
      "  df.index += _pd.TimedeltaIndex(dst_error_hours, 'h')\n",
      "[*********************100%%**********************]  1 of 1 completed\n"
     ]
    }
   ],
   "source": [
    "import yfinance as yf\n",
    "dates = new_df['attribute0']\n",
    "ko_data = yf.download('KO', start=min(dates), end=max(dates) + pd.Timedelta(days=1))\n",
    "\n",
    "# Calculate the daily returns\n",
    "ko_data['Daily_Return'] = ko_data['Adj Close'].pct_change()\n",
    "\n",
    "# Filter the dates to only those in your list\n",
    "ko_returns_on_dates = ko_data.loc[ko_data.index.isin(dates)]\n"
   ],
   "metadata": {
    "collapsed": false,
    "ExecuteTime": {
     "end_time": "2024-02-25T08:28:29.765382500Z",
     "start_time": "2024-02-25T08:28:29.663180100Z"
    }
   },
   "id": "a4753e5fdd796e87",
   "execution_count": 59
  },
  {
   "cell_type": "code",
   "outputs": [
    {
     "data": {
      "text/plain": "                 Open       High        Low      Close  Adj Close    Volume  \\\nDate                                                                          \n2015-02-17  41.810001  41.880001  41.639999  41.810001  31.351137  12804200   \n2015-03-04  42.919998  42.980000  42.470001  42.500000  31.868525  16263000   \n2015-05-05  41.139999  41.139999  40.680000  40.750000  30.809839  11721300   \n2015-05-13  40.750000  41.360001  40.720001  41.049999  31.036657  13183700   \n2015-05-22  41.119999  41.240002  41.040001  41.209999  31.157637  11909500   \n...               ...        ...        ...        ...        ...       ...   \n2023-12-15  58.830002  59.169998  57.799999  58.599998  58.599998  65172300   \n2024-01-17  59.860001  60.209999  59.820000  59.990002  59.990002   8982100   \n2024-01-22  59.759998  60.070000  59.439999  59.570000  59.570000  14314300   \n2024-02-14  59.169998  59.590000  59.040001  59.290001  59.290001  15872500   \n2024-02-21  60.990002  61.279999  60.830002  61.240002  61.240002  14378300   \n\n            Daily_Return  \nDate                      \n2015-02-17           NaN  \n2015-03-04     -0.010478  \n2015-05-05     -0.005127  \n2015-05-13      0.008847  \n2015-05-22     -0.000485  \n...                  ...  \n2023-12-15     -0.007453  \n2024-01-17      0.000000  \n2024-01-22     -0.004346  \n2024-02-14     -0.001011  \n2024-02-21      0.008896  \n\n[137 rows x 7 columns]",
      "text/html": "<div>\n<style scoped>\n    .dataframe tbody tr th:only-of-type {\n        vertical-align: middle;\n    }\n\n    .dataframe tbody tr th {\n        vertical-align: top;\n    }\n\n    .dataframe thead th {\n        text-align: right;\n    }\n</style>\n<table border=\"1\" class=\"dataframe\">\n  <thead>\n    <tr style=\"text-align: right;\">\n      <th></th>\n      <th>Open</th>\n      <th>High</th>\n      <th>Low</th>\n      <th>Close</th>\n      <th>Adj Close</th>\n      <th>Volume</th>\n      <th>Daily_Return</th>\n    </tr>\n    <tr>\n      <th>Date</th>\n      <th></th>\n      <th></th>\n      <th></th>\n      <th></th>\n      <th></th>\n      <th></th>\n      <th></th>\n    </tr>\n  </thead>\n  <tbody>\n    <tr>\n      <th>2015-02-17</th>\n      <td>41.810001</td>\n      <td>41.880001</td>\n      <td>41.639999</td>\n      <td>41.810001</td>\n      <td>31.351137</td>\n      <td>12804200</td>\n      <td>NaN</td>\n    </tr>\n    <tr>\n      <th>2015-03-04</th>\n      <td>42.919998</td>\n      <td>42.980000</td>\n      <td>42.470001</td>\n      <td>42.500000</td>\n      <td>31.868525</td>\n      <td>16263000</td>\n      <td>-0.010478</td>\n    </tr>\n    <tr>\n      <th>2015-05-05</th>\n      <td>41.139999</td>\n      <td>41.139999</td>\n      <td>40.680000</td>\n      <td>40.750000</td>\n      <td>30.809839</td>\n      <td>11721300</td>\n      <td>-0.005127</td>\n    </tr>\n    <tr>\n      <th>2015-05-13</th>\n      <td>40.750000</td>\n      <td>41.360001</td>\n      <td>40.720001</td>\n      <td>41.049999</td>\n      <td>31.036657</td>\n      <td>13183700</td>\n      <td>0.008847</td>\n    </tr>\n    <tr>\n      <th>2015-05-22</th>\n      <td>41.119999</td>\n      <td>41.240002</td>\n      <td>41.040001</td>\n      <td>41.209999</td>\n      <td>31.157637</td>\n      <td>11909500</td>\n      <td>-0.000485</td>\n    </tr>\n    <tr>\n      <th>...</th>\n      <td>...</td>\n      <td>...</td>\n      <td>...</td>\n      <td>...</td>\n      <td>...</td>\n      <td>...</td>\n      <td>...</td>\n    </tr>\n    <tr>\n      <th>2023-12-15</th>\n      <td>58.830002</td>\n      <td>59.169998</td>\n      <td>57.799999</td>\n      <td>58.599998</td>\n      <td>58.599998</td>\n      <td>65172300</td>\n      <td>-0.007453</td>\n    </tr>\n    <tr>\n      <th>2024-01-17</th>\n      <td>59.860001</td>\n      <td>60.209999</td>\n      <td>59.820000</td>\n      <td>59.990002</td>\n      <td>59.990002</td>\n      <td>8982100</td>\n      <td>0.000000</td>\n    </tr>\n    <tr>\n      <th>2024-01-22</th>\n      <td>59.759998</td>\n      <td>60.070000</td>\n      <td>59.439999</td>\n      <td>59.570000</td>\n      <td>59.570000</td>\n      <td>14314300</td>\n      <td>-0.004346</td>\n    </tr>\n    <tr>\n      <th>2024-02-14</th>\n      <td>59.169998</td>\n      <td>59.590000</td>\n      <td>59.040001</td>\n      <td>59.290001</td>\n      <td>59.290001</td>\n      <td>15872500</td>\n      <td>-0.001011</td>\n    </tr>\n    <tr>\n      <th>2024-02-21</th>\n      <td>60.990002</td>\n      <td>61.279999</td>\n      <td>60.830002</td>\n      <td>61.240002</td>\n      <td>61.240002</td>\n      <td>14378300</td>\n      <td>0.008896</td>\n    </tr>\n  </tbody>\n</table>\n<p>137 rows × 7 columns</p>\n</div>"
     },
     "execution_count": 60,
     "metadata": {},
     "output_type": "execute_result"
    }
   ],
   "source": [
    "ko_returns_on_dates"
   ],
   "metadata": {
    "collapsed": false,
    "ExecuteTime": {
     "end_time": "2024-02-25T08:28:30.809037300Z",
     "start_time": "2024-02-25T08:28:30.787906900Z"
    }
   },
   "id": "ced10a9585e5b525",
   "execution_count": 60
  },
  {
   "cell_type": "code",
   "outputs": [],
   "source": [
    "new_df.rename(columns={'attribute0': 'Date'}, inplace=True)"
   ],
   "metadata": {
    "collapsed": false,
    "ExecuteTime": {
     "end_time": "2024-02-25T08:28:31.645573500Z",
     "start_time": "2024-02-25T08:28:31.626557400Z"
    }
   },
   "id": "45421d64a28ea0bc",
   "execution_count": 61
  },
  {
   "cell_type": "code",
   "outputs": [],
   "source": [
    "new_df.set_index('Date', inplace=True)"
   ],
   "metadata": {
    "collapsed": false,
    "ExecuteTime": {
     "end_time": "2024-02-25T08:28:32.376725300Z",
     "start_time": "2024-02-25T08:28:32.358406600Z"
    }
   },
   "id": "1a4ee7d6936d79c2",
   "execution_count": 62
  },
  {
   "cell_type": "code",
   "outputs": [],
   "source": [
    "new_df.rename(columns={'attribute0': 'Date'}, inplace=True)\n",
    "merged_df = pd.merge(new_df, ko_returns_on_dates[['Daily_Return']], \n",
    "                     left_on='Date', right_on='Date', how='left')"
   ],
   "metadata": {
    "collapsed": false,
    "ExecuteTime": {
     "end_time": "2024-02-25T08:29:18.488448800Z",
     "start_time": "2024-02-25T08:29:18.447038Z"
    }
   },
   "id": "4b06cfe953de5556",
   "execution_count": 65
  },
  {
   "cell_type": "code",
   "outputs": [
    {
     "data": {
      "text/plain": "            attribute4  attribute5  attribute6  Daily_Return\nDate                                                        \n2024-02-21         0.0          -1    0.000000      0.008896\n2024-02-21         1.0          -1    0.000578      0.008896\n2024-02-14         1.0          -1    0.005618     -0.001011\n2024-01-22         1.0          -1    0.011494     -0.004346\n2024-01-17         0.0          -1    0.042254      0.000000\n...                ...         ...         ...           ...\n2015-05-05         0.0          -1    0.000000     -0.005127\n2015-03-04         0.0          -1    0.000000     -0.010478\n2015-03-04         0.0          -1    0.000000     -0.010478\n2015-03-04         0.0          -1    0.000000     -0.010478\n2015-02-17         0.0          -1    0.000000           NaN\n\n[171 rows x 4 columns]",
      "text/html": "<div>\n<style scoped>\n    .dataframe tbody tr th:only-of-type {\n        vertical-align: middle;\n    }\n\n    .dataframe tbody tr th {\n        vertical-align: top;\n    }\n\n    .dataframe thead th {\n        text-align: right;\n    }\n</style>\n<table border=\"1\" class=\"dataframe\">\n  <thead>\n    <tr style=\"text-align: right;\">\n      <th></th>\n      <th>attribute4</th>\n      <th>attribute5</th>\n      <th>attribute6</th>\n      <th>Daily_Return</th>\n    </tr>\n    <tr>\n      <th>Date</th>\n      <th></th>\n      <th></th>\n      <th></th>\n      <th></th>\n    </tr>\n  </thead>\n  <tbody>\n    <tr>\n      <th>2024-02-21</th>\n      <td>0.0</td>\n      <td>-1</td>\n      <td>0.000000</td>\n      <td>0.008896</td>\n    </tr>\n    <tr>\n      <th>2024-02-21</th>\n      <td>1.0</td>\n      <td>-1</td>\n      <td>0.000578</td>\n      <td>0.008896</td>\n    </tr>\n    <tr>\n      <th>2024-02-14</th>\n      <td>1.0</td>\n      <td>-1</td>\n      <td>0.005618</td>\n      <td>-0.001011</td>\n    </tr>\n    <tr>\n      <th>2024-01-22</th>\n      <td>1.0</td>\n      <td>-1</td>\n      <td>0.011494</td>\n      <td>-0.004346</td>\n    </tr>\n    <tr>\n      <th>2024-01-17</th>\n      <td>0.0</td>\n      <td>-1</td>\n      <td>0.042254</td>\n      <td>0.000000</td>\n    </tr>\n    <tr>\n      <th>...</th>\n      <td>...</td>\n      <td>...</td>\n      <td>...</td>\n      <td>...</td>\n    </tr>\n    <tr>\n      <th>2015-05-05</th>\n      <td>0.0</td>\n      <td>-1</td>\n      <td>0.000000</td>\n      <td>-0.005127</td>\n    </tr>\n    <tr>\n      <th>2015-03-04</th>\n      <td>0.0</td>\n      <td>-1</td>\n      <td>0.000000</td>\n      <td>-0.010478</td>\n    </tr>\n    <tr>\n      <th>2015-03-04</th>\n      <td>0.0</td>\n      <td>-1</td>\n      <td>0.000000</td>\n      <td>-0.010478</td>\n    </tr>\n    <tr>\n      <th>2015-03-04</th>\n      <td>0.0</td>\n      <td>-1</td>\n      <td>0.000000</td>\n      <td>-0.010478</td>\n    </tr>\n    <tr>\n      <th>2015-02-17</th>\n      <td>0.0</td>\n      <td>-1</td>\n      <td>0.000000</td>\n      <td>NaN</td>\n    </tr>\n  </tbody>\n</table>\n<p>171 rows × 4 columns</p>\n</div>"
     },
     "execution_count": 66,
     "metadata": {},
     "output_type": "execute_result"
    }
   ],
   "source": [
    "merged_df"
   ],
   "metadata": {
    "collapsed": false,
    "ExecuteTime": {
     "end_time": "2024-02-25T08:29:25.587917500Z",
     "start_time": "2024-02-25T08:29:25.543866100Z"
    }
   },
   "id": "2b48798b34792dac",
   "execution_count": 66
  },
  {
   "cell_type": "code",
   "outputs": [],
   "source": [],
   "metadata": {
    "collapsed": false
   },
   "id": "c45523fdcfa8d6b"
  }
 ],
 "metadata": {
  "kernelspec": {
   "display_name": "Python 3",
   "language": "python",
   "name": "python3"
  },
  "language_info": {
   "codemirror_mode": {
    "name": "ipython",
    "version": 2
   },
   "file_extension": ".py",
   "mimetype": "text/x-python",
   "name": "python",
   "nbconvert_exporter": "python",
   "pygments_lexer": "ipython2",
   "version": "2.7.6"
  }
 },
 "nbformat": 4,
 "nbformat_minor": 5
}
