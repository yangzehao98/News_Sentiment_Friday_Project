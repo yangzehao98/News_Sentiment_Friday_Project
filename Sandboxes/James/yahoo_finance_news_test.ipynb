{
 "cells": [
  {
   "cell_type": "code",
   "execution_count": 20,
   "id": "initial_id",
   "metadata": {
    "collapsed": true,
    "ExecuteTime": {
     "end_time": "2024-02-24T03:53:00.617467Z",
     "start_time": "2024-02-24T03:53:00.536061Z"
    }
   },
   "outputs": [],
   "source": [
    "from typing import List, Optional\n",
    "import requests\n",
    "PUBLIC_KEY = 'PKA6TNIEWKQ5E2PLEI7Q'\n",
    "PRIVATE_KEY = 'UFefPAIEx6Y1omgv4ymBUN6tGLnbzcVL2Jm5gARZ'\n",
    "\n",
    "class AlpacaNewsAPI:\n",
    "    def __init__(self, api_key_id: str, api_secret_key:str, symbols: List[str]):\n",
    "        self.base_url = 'https://data.alpaca.markets/v1beta1/news'\n",
    "        self.api_key_id = api_key_id\n",
    "        self.api_secret_key = api_secret_key\n",
    "        self.headers = {\n",
    "            'Apca-Api-Key-Id': self.api_key_id,\n",
    "            'Apca-Api-Secret-Key': self.api_secret_key,\n",
    "            'symbols': 'COKE'\n",
    "        }\n",
    "\n",
    "    \n",
    "    def get_news(self, next_page_token: Optional[str] = None):\n",
    "        if next_page_token:\n",
    "            self.headers['next_page_token'] = next_page_token\n",
    "        response = requests.get(self.base_url, headers=self.headers)\n",
    "        return response.json()\n",
    "\n",
    "# Usage example:\n",
    "alpaca_news_api = AlpacaNewsAPI(api_key_id = PUBLIC_KEY, api_secret_key=PRIVATE_KEY, symbols=['COKE'])\n",
    "news = alpaca_news_api.get_news()"
   ]
  },
  {
   "cell_type": "code",
   "outputs": [
    {
     "data": {
      "text/plain": "{'news': [{'author': 'Ananya Gairola',\n   'content': '',\n   'created_at': '2024-02-24T03:23:03Z',\n   'headline': \"Elon Musk Slams Disney's Ad Spending On Meta Amid Instagram's Child Exploitation Allegations\",\n   'id': 37297493,\n   'images': [{'size': 'large',\n     'url': 'https://cdn.benzinga.com/files/imagecache/2048x1536xUP/images/story/2024/Disney-Musk--Shutterstock_0.png'},\n    {'size': 'small',\n     'url': 'https://cdn.benzinga.com/files/imagecache/1024x768xUP/images/story/2024/Disney-Musk--Shutterstock_0.png'},\n    {'size': 'thumb',\n     'url': 'https://cdn.benzinga.com/files/imagecache/250x187xUP/images/story/2024/Disney-Musk--Shutterstock_0.png'}],\n   'source': 'benzinga',\n   'summary': 'Elon Musk criticizes Disney&#39;s significant advertising expenditure on Meta Platforms amidst reports of child exploitation on Instagram, highlighting the controversy surrounding major corporations&#39; support of the platform despite ongoing concerns.',\n   'symbols': ['DIS', 'META'],\n   'updated_at': '2024-02-24T03:31:43Z',\n   'url': 'https://www.benzinga.com/news/24/02/37297493/elon-musk-slams-disneys-ad-spending-on-meta-amid-instagrams-child-exploitation-allegations'},\n  {'author': 'Navdeep Yadav',\n   'content': '',\n   'created_at': '2024-02-24T02:44:43Z',\n   'headline': \"US Says Houthi Missile Attack On Ship Carrying 'Tons Of Fertilizer' Led To 'Environmental Disaster' In Red Sea\",\n   'id': 37297434,\n   'images': [{'size': 'large',\n     'url': 'https://cdn.benzinga.com/files/imagecache/2048x1536xUP/images/story/2024/Red-Sea-Houthis_2.jpeg'},\n    {'size': 'small',\n     'url': 'https://cdn.benzinga.com/files/imagecache/1024x768xUP/images/story/2024/Red-Sea-Houthis_2.jpeg'},\n    {'size': 'thumb',\n     'url': 'https://cdn.benzinga.com/files/imagecache/250x187xUP/images/story/2024/Red-Sea-Houthis_2.jpeg'}],\n   'source': 'benzinga',\n   'summary': ' ',\n   'symbols': [],\n   'updated_at': '2024-02-24T02:44:43Z',\n   'url': 'https://www.benzinga.com/news/24/02/37297434/us-says-houthi-missile-attack-on-ship-carrying-tons-of-fertilizer-led-to-environmental-disaster-in-r'},\n  {'author': 'Benzinga Neuro',\n   'content': '',\n   'created_at': '2024-02-24T02:11:27Z',\n   'headline': \"Jim Cramer Sees Tesla Rival Ford As 'Really Interesting' Amid EV Market Slowdown\",\n   'id': 37297366,\n   'images': [{'size': 'large',\n     'url': 'https://cdn.benzinga.com/files/imagecache/2048x1536xUP/images/story/2024/Ford_6.png'},\n    {'size': 'small',\n     'url': 'https://cdn.benzinga.com/files/imagecache/1024x768xUP/images/story/2024/Ford_6.png'},\n    {'size': 'thumb',\n     'url': 'https://cdn.benzinga.com/files/imagecache/250x187xUP/images/story/2024/Ford_6.png'}],\n   'source': 'benzinga',\n   'summary': 'Jim Cramer, the host of CNBC&#39;s &#34;Mad Money,&#34; has expressed his optimism about Ford Motor Co. (NYSE: F) amid the slowdown in the electric vehicle (EV) market.',\n   'symbols': ['F'],\n   'updated_at': '2024-02-24T02:12:14Z',\n   'url': 'https://www.benzinga.com/news/24/02/37297366/jim-cramer-sees-tesla-rival-ford-as-really-interesting-amid-ev-market-slowdown'},\n  {'author': 'Maureen Meehan',\n   'content': '',\n   'created_at': '2024-02-24T01:41:58Z',\n   'headline': 'Tilray Medical Applauds German Bundestag And  Landmark Passage Of Medical Cannabis Act In Germany',\n   'id': 37297279,\n   'images': [{'size': 'large',\n     'url': 'https://cdn.benzinga.com/files/imagecache/2048x1536xUP/images/story/2024/Germany-cannabis.jpeg'},\n    {'size': 'small',\n     'url': 'https://cdn.benzinga.com/files/imagecache/1024x768xUP/images/story/2024/Germany-cannabis.jpeg'},\n    {'size': 'thumb',\n     'url': 'https://cdn.benzinga.com/files/imagecache/250x187xUP/images/story/2024/Germany-cannabis.jpeg'}],\n   'source': 'benzinga',\n   'summary': 'Tilray Medical&#39;s chief strategy officer Denise Faltischek said, &#34;The decision to open up the previously limited German medical cannabis market is an important step that will allow patients and physicians to explore effective treatment options tailored to individual needs.&#34;',\n   'symbols': ['TLRY'],\n   'updated_at': '2024-02-24T01:41:59Z',\n   'url': 'https://www.benzinga.com/markets/cannabis/24/02/37297279/tilray-medical-applauds-german-bundestag-and-landmark-passage-of-medical-cannabis-act-in-germany'},\n  {'author': 'Navdeep Yadav',\n   'content': '',\n   'created_at': '2024-02-24T01:33:48Z',\n   'headline': \"Jim Cramer Says McDonald's AI Drive-Thru Adoption Bodes Well For Nvidia: 'You Think Other Guys Can Possibly Risk Not Having This'\",\n   'id': 37297259,\n   'images': [{'size': 'large',\n     'url': 'https://cdn.benzinga.com/files/imagecache/2048x1536xUP/images/story/2024/jim-cramer-nvidia-shutter_2.jpeg'},\n    {'size': 'small',\n     'url': 'https://cdn.benzinga.com/files/imagecache/1024x768xUP/images/story/2024/jim-cramer-nvidia-shutter_2.jpeg'},\n    {'size': 'thumb',\n     'url': 'https://cdn.benzinga.com/files/imagecache/250x187xUP/images/story/2024/jim-cramer-nvidia-shutter_2.jpeg'}],\n   'source': 'benzinga',\n   'summary': 'McDonald&#39;s is introducing AI to its drive-thru lanes, indicating a growing adoption of the technology in the United States.',\n   'symbols': ['GOOG', 'GOOGL', 'IBM', 'MCD', 'NVDA'],\n   'updated_at': '2024-02-24T01:33:49Z',\n   'url': 'https://www.benzinga.com/markets/equities/24/02/37297259/jim-cramer-says-mcdonalds-ai-drive-thru-adoption-bodes-well-for-nvidia-you-think-other-guys-can-'},\n  {'author': 'Ananya Gairola',\n   'content': '',\n   'created_at': '2024-02-24T01:33:31Z',\n   'headline': \"Trump Would Lose General Election, Says GOP Presidential Candidate Nikki Haley: 'We Will Have A Female President'\",\n   'id': 37297258,\n   'images': [{'size': 'large',\n     'url': 'https://cdn.benzinga.com/files/imagecache/2048x1536xUP/images/story/2024/Trump-Haley--Shutterstock_0.png'},\n    {'size': 'small',\n     'url': 'https://cdn.benzinga.com/files/imagecache/1024x768xUP/images/story/2024/Trump-Haley--Shutterstock_0.png'},\n    {'size': 'thumb',\n     'url': 'https://cdn.benzinga.com/files/imagecache/250x187xUP/images/story/2024/Trump-Haley--Shutterstock_0.png'}],\n   'source': 'benzinga',\n   'summary': 'Nikki Haley, a Republican presidential candidate, predicts that former President Donald Trump would not win the 2024 general election if he were the GOP nominee, emphasizing the potential for a female president and raising concerns about both Trump and President Joe Biden&#39;s popularity and age.\\n',\n   'symbols': [],\n   'updated_at': '2024-02-24T01:33:31Z',\n   'url': 'https://www.benzinga.com/news/24/02/37297258/trump-would-lose-general-election-says-gop-presidential-candidate-nikki-haley-we-will-have-a-female'},\n  {'author': 'Rounak Jain',\n   'content': '',\n   'created_at': '2024-02-24T01:23:55Z',\n   'headline': \"'You Screw Us, We Screw You': Trump Vows To Impose Retaliatory Tariffs Against 'China Or Any Other Country' If Reelected\",\n   'id': 37297217,\n   'images': [{'size': 'large',\n     'url': 'https://cdn.benzinga.com/files/imagecache/2048x1536xUP/images/story/2024/Donald-Trump_69.jpeg'},\n    {'size': 'small',\n     'url': 'https://cdn.benzinga.com/files/imagecache/1024x768xUP/images/story/2024/Donald-Trump_69.jpeg'},\n    {'size': 'thumb',\n     'url': 'https://cdn.benzinga.com/files/imagecache/250x187xUP/images/story/2024/Donald-Trump_69.jpeg'}],\n   'source': 'benzinga',\n   'summary': 'In a recent rally in South Carolina, former President Donald Trump announced his intention to reintroduce retaliatory tariffs if he wins.',\n   'symbols': [],\n   'updated_at': '2024-02-24T01:23:55Z',\n   'url': 'https://www.benzinga.com/news/24/02/37297217/you-screw-us-we-screw-you-trump-vows-to-impose-retaliatory-tariffs-against-china-or-any-other-countr'},\n  {'author': 'Benzinga Newsdesk',\n   'content': '',\n   'created_at': '2024-02-24T00:50:04Z',\n   'headline': 'Trading Halt: Halted at 7:50:00 p.m. ET - Trading Halt: Halt News Pending',\n   'id': 37297081,\n   'images': [],\n   'source': 'benzinga',\n   'summary': '',\n   'symbols': ['LSDI'],\n   'updated_at': '2024-02-24T00:50:04Z',\n   'url': 'https://www.benzinga.com/24/02/37297081/trading-halt-halted-at-7-50-00-p-m-et-trading-halt-halt-news-pending'},\n  {'author': 'Murtuza Merchant',\n   'content': '',\n   'created_at': '2024-02-23T20:54:46Z',\n   'headline': \"CAKE Holders To Feast On New Tokens: PancakeSwap Expands With 'Affiliates' Program\",\n   'id': 37290234,\n   'images': [{'size': 'large',\n     'url': 'https://cdn.benzinga.com/files/imagecache/2048x1536xUP/images/story/2024/02/23/shutterstock_2076991390.jpg'},\n    {'size': 'small',\n     'url': 'https://cdn.benzinga.com/files/imagecache/1024x768xUP/images/story/2024/02/23/shutterstock_2076991390.jpg'},\n    {'size': 'thumb',\n     'url': 'https://cdn.benzinga.com/files/imagecache/250x187xUP/images/story/2024/02/23/shutterstock_2076991390.jpg'}],\n   'source': 'benzinga',\n   'summary': 'Decentralized exchange (DEX) PancakeSwap on Friday announced launch of a discussion proposal to introduce an &#34;Affiliates&#34; program aimed at extending its reach across new blockchains, directly benefiting CAKE (CRYPTO: CAKE) token holders with native DEX tokens from these collaboration',\n   'symbols': ['CAKEUSD'],\n   'updated_at': '2024-02-23T23:32:22Z',\n   'url': 'https://www.benzinga.com/markets/cryptocurrency/24/02/37290234/cake-holders-to-feast-on-new-tokens-pancakeswap-expands-with-affiliates-program'},\n  {'author': 'Charles Gross',\n   'content': '',\n   'created_at': '2024-02-23T23:26:02Z',\n   'headline': 'Intuitive Machines Shares Fall After Hours;  Company Said Moon Lander Tipped Over On Landing',\n   'id': 37296616,\n   'images': [],\n   'source': 'benzinga',\n   'summary': '',\n   'symbols': ['LUNR'],\n   'updated_at': '2024-02-23T23:26:03Z',\n   'url': 'https://www.benzinga.com/news/24/02/37296616/intuitive-machines-shares-fall-after-hours-company-said-moon-lander-tipped-over-on-landing'}],\n 'next_page_token': 'MTcwODczMDc2MzAwMDAwMDAwMHwzNzI5NjYxNg=='}"
     },
     "execution_count": 23,
     "metadata": {},
     "output_type": "execute_result"
    }
   ],
   "source": [
    "news"
   ],
   "metadata": {
    "collapsed": false,
    "ExecuteTime": {
     "end_time": "2024-02-24T03:53:11.017979Z",
     "start_time": "2024-02-24T03:53:11.011917Z"
    }
   },
   "id": "f1a9ca51318badef",
   "execution_count": 23
  },
  {
   "cell_type": "code",
   "outputs": [
    {
     "data": {
      "text/plain": "dict_keys(['news', 'next_page_token'])"
     },
     "execution_count": 15,
     "metadata": {},
     "output_type": "execute_result"
    }
   ],
   "source": [
    "news = alpaca_news_api.get_news(next_page_token=news['next_page_token'])\n"
   ],
   "metadata": {
    "collapsed": false,
    "ExecuteTime": {
     "end_time": "2024-02-24T03:50:30.403435Z",
     "start_time": "2024-02-24T03:50:30.399698Z"
    }
   },
   "id": "458f8e3dfcc2826",
   "execution_count": 15
  },
  {
   "cell_type": "code",
   "outputs": [
    {
     "data": {
      "text/plain": "'MTcwODczMDc2MzAwMDAwMDAwMHwzNzI5NjYxNg=='"
     },
     "execution_count": 16,
     "metadata": {},
     "output_type": "execute_result"
    }
   ],
   "source": [
    "news['next_page_token']"
   ],
   "metadata": {
    "collapsed": false,
    "ExecuteTime": {
     "end_time": "2024-02-24T03:50:30.586041Z",
     "start_time": "2024-02-24T03:50:30.582156Z"
    }
   },
   "id": "74ce3df440879a8d",
   "execution_count": 16
  },
  {
   "cell_type": "code",
   "outputs": [],
   "source": [],
   "metadata": {
    "collapsed": false
   },
   "id": "44b7bf4952c90d5b"
  }
 ],
 "metadata": {
  "kernelspec": {
   "display_name": "Python 3",
   "language": "python",
   "name": "python3"
  },
  "language_info": {
   "codemirror_mode": {
    "name": "ipython",
    "version": 2
   },
   "file_extension": ".py",
   "mimetype": "text/x-python",
   "name": "python",
   "nbconvert_exporter": "python",
   "pygments_lexer": "ipython2",
   "version": "2.7.6"
  }
 },
 "nbformat": 4,
 "nbformat_minor": 5
}
