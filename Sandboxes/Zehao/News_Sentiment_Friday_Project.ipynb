{
 "cells": [
  {
   "cell_type": "code",
   "execution_count": 2,
   "metadata": {
    "ExecuteTime": {
     "end_time": "2024-02-24T06:23:07.045867900Z",
     "start_time": "2024-02-24T06:23:05.526314400Z"
    }
   },
   "outputs": [
    {
     "name": "stderr",
     "output_type": "stream",
     "text": [
      "C:\\Users\\wzy\\AppData\\Local\\Temp\\ipykernel_18868\\3522604948.py:2: DeprecationWarning: \n",
      "Pyarrow will become a required dependency of pandas in the next major release of pandas (pandas 3.0),\n",
      "(to allow more performant data types, such as the Arrow string type, and better interoperability with other libraries)\n",
      "but was not found to be installed on your system.\n",
      "If this would cause problems for you,\n",
      "please provide us feedback at https://github.com/pandas-dev/pandas/issues/54466\n",
      "        \n",
      "  import pandas as pd\n"
     ]
    }
   ],
   "source": [
    "import numpy as np\n",
    "import pandas as pd\n",
    "\n",
    "sp500 = pd.read_pickle('SP500_rtn_data.pkl')"
   ]
  },
  {
   "cell_type": "code",
   "outputs": [
    {
     "name": "stderr",
     "output_type": "stream",
     "text": [
      "[nltk_data] Downloading package punkt to\n",
      "[nltk_data]     C:\\Users\\wzy\\AppData\\Roaming\\nltk_data...\n",
      "[nltk_data]   Package punkt is already up-to-date!\n",
      "[nltk_data] Downloading package wordnet to\n",
      "[nltk_data]     C:\\Users\\wzy\\AppData\\Roaming\\nltk_data...\n",
      "[nltk_data]   Package wordnet is already up-to-date!\n",
      "[nltk_data] Downloading package stopwords to\n",
      "[nltk_data]     C:\\Users\\wzy\\AppData\\Roaming\\nltk_data...\n",
      "[nltk_data]   Package stopwords is already up-to-date!\n"
     ]
    }
   ],
   "source": [
    "from Classes.DataProcessor import Tokenizer, NewsTokenizer, NewsSentimentAnalysis, SentenceSentimentAnalysis, Counter\n",
    "from Classes.Component import News"
   ],
   "metadata": {
    "collapsed": false,
    "ExecuteTime": {
     "end_time": "2024-02-24T06:31:02.734198400Z",
     "start_time": "2024-02-24T06:30:58.990873800Z"
    }
   },
   "execution_count": 14
  },
  {
   "cell_type": "code",
   "execution_count": 6,
   "metadata": {
    "ExecuteTime": {
     "end_time": "2024-02-24T06:23:57.648477300Z",
     "start_time": "2024-02-24T06:23:57.566361900Z"
    }
   },
   "outputs": [
    {
     "data": {
      "text/plain": "Ticker             A       AAL      AAPL      ABBV       ABT      ACGL  \\\nDate                                                                     \n2013-01-03  0.003582 -0.022890 -0.012622 -0.008257  0.038065 -0.002929   \n2013-01-04  0.019748  0.078331 -0.027855 -0.012633 -0.006011  0.008588   \n2013-01-07 -0.007233  0.007468 -0.005883  0.002035  0.008165 -0.009859   \n2013-01-08 -0.007991  0.021563  0.002692 -0.021764  0.000300  0.001358   \n2013-01-09  0.027008 -0.001979 -0.015629  0.005636  0.006597  0.003616   \n\nTicker           ACN      ADBE       ADI       ADM  ...        WY      WYNN  \\\nDate                                                ...                       \n2013-01-03 -0.003620 -0.015389 -0.016136 -0.008023  ...  0.000000  0.010757   \n2013-01-04  0.005523  0.010066 -0.017787  0.027426  ...  0.008234  0.012067   \n2013-01-07 -0.004336 -0.004983  0.003057 -0.041410  ...  0.003062  0.003394   \n2013-01-08  0.005807  0.005272 -0.010317  0.011781  ...  0.006784 -0.000825   \n2013-01-09  0.007071  0.013634 -0.002606  0.004940  ...  0.022911  0.003551   \n\nTicker           XEL       XOM      XRAY       XYL       YUM       ZBH  \\\nDate                                                                     \n2013-01-03 -0.002922 -0.001804 -0.002715 -0.003272  0.006254  0.014328   \n2013-01-04  0.003663  0.004630  0.008661 -0.001459  0.010950  0.005097   \n2013-01-07 -0.010584 -0.011578  0.003435 -0.013153 -0.006294  0.002463   \n2013-01-08  0.001844  0.006255 -0.011492 -0.012218 -0.041980  0.001445   \n2013-01-09  0.001473 -0.003843 -0.000494  0.015742  0.001777  0.018474   \n\nTicker          ZBRA      ZION  \nDate                            \n2013-01-03  0.000977  0.001365  \n2013-01-04 -0.008049  0.028610  \n2013-01-07  0.005655 -0.004856  \n2013-01-08  0.000733 -0.019964  \n2013-01-09  0.010750 -0.010864  \n\n[5 rows x 460 columns]",
      "text/html": "<div>\n<style scoped>\n    .dataframe tbody tr th:only-of-type {\n        vertical-align: middle;\n    }\n\n    .dataframe tbody tr th {\n        vertical-align: top;\n    }\n\n    .dataframe thead th {\n        text-align: right;\n    }\n</style>\n<table border=\"1\" class=\"dataframe\">\n  <thead>\n    <tr style=\"text-align: right;\">\n      <th>Ticker</th>\n      <th>A</th>\n      <th>AAL</th>\n      <th>AAPL</th>\n      <th>ABBV</th>\n      <th>ABT</th>\n      <th>ACGL</th>\n      <th>ACN</th>\n      <th>ADBE</th>\n      <th>ADI</th>\n      <th>ADM</th>\n      <th>...</th>\n      <th>WY</th>\n      <th>WYNN</th>\n      <th>XEL</th>\n      <th>XOM</th>\n      <th>XRAY</th>\n      <th>XYL</th>\n      <th>YUM</th>\n      <th>ZBH</th>\n      <th>ZBRA</th>\n      <th>ZION</th>\n    </tr>\n    <tr>\n      <th>Date</th>\n      <th></th>\n      <th></th>\n      <th></th>\n      <th></th>\n      <th></th>\n      <th></th>\n      <th></th>\n      <th></th>\n      <th></th>\n      <th></th>\n      <th></th>\n      <th></th>\n      <th></th>\n      <th></th>\n      <th></th>\n      <th></th>\n      <th></th>\n      <th></th>\n      <th></th>\n      <th></th>\n      <th></th>\n    </tr>\n  </thead>\n  <tbody>\n    <tr>\n      <th>2013-01-03</th>\n      <td>0.003582</td>\n      <td>-0.022890</td>\n      <td>-0.012622</td>\n      <td>-0.008257</td>\n      <td>0.038065</td>\n      <td>-0.002929</td>\n      <td>-0.003620</td>\n      <td>-0.015389</td>\n      <td>-0.016136</td>\n      <td>-0.008023</td>\n      <td>...</td>\n      <td>0.000000</td>\n      <td>0.010757</td>\n      <td>-0.002922</td>\n      <td>-0.001804</td>\n      <td>-0.002715</td>\n      <td>-0.003272</td>\n      <td>0.006254</td>\n      <td>0.014328</td>\n      <td>0.000977</td>\n      <td>0.001365</td>\n    </tr>\n    <tr>\n      <th>2013-01-04</th>\n      <td>0.019748</td>\n      <td>0.078331</td>\n      <td>-0.027855</td>\n      <td>-0.012633</td>\n      <td>-0.006011</td>\n      <td>0.008588</td>\n      <td>0.005523</td>\n      <td>0.010066</td>\n      <td>-0.017787</td>\n      <td>0.027426</td>\n      <td>...</td>\n      <td>0.008234</td>\n      <td>0.012067</td>\n      <td>0.003663</td>\n      <td>0.004630</td>\n      <td>0.008661</td>\n      <td>-0.001459</td>\n      <td>0.010950</td>\n      <td>0.005097</td>\n      <td>-0.008049</td>\n      <td>0.028610</td>\n    </tr>\n    <tr>\n      <th>2013-01-07</th>\n      <td>-0.007233</td>\n      <td>0.007468</td>\n      <td>-0.005883</td>\n      <td>0.002035</td>\n      <td>0.008165</td>\n      <td>-0.009859</td>\n      <td>-0.004336</td>\n      <td>-0.004983</td>\n      <td>0.003057</td>\n      <td>-0.041410</td>\n      <td>...</td>\n      <td>0.003062</td>\n      <td>0.003394</td>\n      <td>-0.010584</td>\n      <td>-0.011578</td>\n      <td>0.003435</td>\n      <td>-0.013153</td>\n      <td>-0.006294</td>\n      <td>0.002463</td>\n      <td>0.005655</td>\n      <td>-0.004856</td>\n    </tr>\n    <tr>\n      <th>2013-01-08</th>\n      <td>-0.007991</td>\n      <td>0.021563</td>\n      <td>0.002692</td>\n      <td>-0.021764</td>\n      <td>0.000300</td>\n      <td>0.001358</td>\n      <td>0.005807</td>\n      <td>0.005272</td>\n      <td>-0.010317</td>\n      <td>0.011781</td>\n      <td>...</td>\n      <td>0.006784</td>\n      <td>-0.000825</td>\n      <td>0.001844</td>\n      <td>0.006255</td>\n      <td>-0.011492</td>\n      <td>-0.012218</td>\n      <td>-0.041980</td>\n      <td>0.001445</td>\n      <td>0.000733</td>\n      <td>-0.019964</td>\n    </tr>\n    <tr>\n      <th>2013-01-09</th>\n      <td>0.027008</td>\n      <td>-0.001979</td>\n      <td>-0.015629</td>\n      <td>0.005636</td>\n      <td>0.006597</td>\n      <td>0.003616</td>\n      <td>0.007071</td>\n      <td>0.013634</td>\n      <td>-0.002606</td>\n      <td>0.004940</td>\n      <td>...</td>\n      <td>0.022911</td>\n      <td>0.003551</td>\n      <td>0.001473</td>\n      <td>-0.003843</td>\n      <td>-0.000494</td>\n      <td>0.015742</td>\n      <td>0.001777</td>\n      <td>0.018474</td>\n      <td>0.010750</td>\n      <td>-0.010864</td>\n    </tr>\n  </tbody>\n</table>\n<p>5 rows × 460 columns</p>\n</div>"
     },
     "execution_count": 6,
     "metadata": {},
     "output_type": "execute_result"
    }
   ],
   "source": [
    "sp500.head()"
   ]
  },
  {
   "cell_type": "code",
   "execution_count": 7,
   "metadata": {
    "ExecuteTime": {
     "end_time": "2024-02-24T06:24:05.302721100Z",
     "start_time": "2024-02-24T06:24:05.242375600Z"
    }
   },
   "outputs": [
    {
     "data": {
      "text/plain": "Index(['A', 'AAL', 'AAPL', 'ABBV', 'ABT', 'ACGL', 'ACN', 'ADBE', 'ADI', 'ADM',\n       ...\n       'WY', 'WYNN', 'XEL', 'XOM', 'XRAY', 'XYL', 'YUM', 'ZBH', 'ZBRA',\n       'ZION'],\n      dtype='object', name='Ticker', length=460)"
     },
     "execution_count": 7,
     "metadata": {},
     "output_type": "execute_result"
    }
   ],
   "source": [
    "sp500.columns"
   ]
  },
  {
   "cell_type": "code",
   "execution_count": 8,
   "metadata": {
    "ExecuteTime": {
     "end_time": "2024-02-24T06:24:06.689065200Z",
     "start_time": "2024-02-24T06:24:06.662335700Z"
    }
   },
   "outputs": [],
   "source": [
    "ticker_list = list(sp500.columns)"
   ]
  },
  {
   "cell_type": "code",
   "execution_count": 9,
   "metadata": {
    "ExecuteTime": {
     "end_time": "2024-02-24T06:24:07.256752900Z",
     "start_time": "2024-02-24T06:24:07.231383400Z"
    }
   },
   "outputs": [
    {
     "data": {
      "text/plain": "460"
     },
     "execution_count": 9,
     "metadata": {},
     "output_type": "execute_result"
    }
   ],
   "source": [
    "len(ticker_list)"
   ]
  },
  {
   "cell_type": "code",
   "execution_count": 10,
   "metadata": {
    "ExecuteTime": {
     "end_time": "2024-02-24T06:24:09.793385800Z",
     "start_time": "2024-02-24T06:24:07.913633900Z"
    }
   },
   "outputs": [],
   "source": [
    "import yfinance as yf\n",
    "\n",
    "stock = yf.Ticker(\"AAPL\")\n",
    "\n",
    "info = stock.info"
   ]
  },
  {
   "cell_type": "code",
   "execution_count": 11,
   "metadata": {
    "ExecuteTime": {
     "end_time": "2024-02-24T06:24:10.491236300Z",
     "start_time": "2024-02-24T06:24:10.443243400Z"
    }
   },
   "outputs": [
    {
     "data": {
      "text/plain": "{'address1': 'One Apple Park Way',\n 'city': 'Cupertino',\n 'state': 'CA',\n 'zip': '95014',\n 'country': 'United States',\n 'phone': '408 996 1010',\n 'website': 'https://www.apple.com',\n 'industry': 'Consumer Electronics',\n 'industryKey': 'consumer-electronics',\n 'industryDisp': 'Consumer Electronics',\n 'sector': 'Technology',\n 'sectorKey': 'technology',\n 'sectorDisp': 'Technology',\n 'longBusinessSummary': 'Apple Inc. designs, manufactures, and markets smartphones, personal computers, tablets, wearables, and accessories worldwide. The company offers iPhone, a line of smartphones; Mac, a line of personal computers; iPad, a line of multi-purpose tablets; and wearables, home, and accessories comprising AirPods, Apple TV, Apple Watch, Beats products, and HomePod. It also provides AppleCare support and cloud services; and operates various platforms, including the App Store that allow customers to discover and download applications and digital content, such as books, music, video, games, and podcasts. In addition, the company offers various services, such as Apple Arcade, a game subscription service; Apple Fitness+, a personalized fitness service; Apple Music, which offers users a curated listening experience with on-demand radio stations; Apple News+, a subscription news and magazine service; Apple TV+, which offers exclusive original content; Apple Card, a co-branded credit card; and Apple Pay, a cashless payment service, as well as licenses its intellectual property. The company serves consumers, and small and mid-sized businesses; and the education, enterprise, and government markets. It distributes third-party applications for its products through the App Store. The company also sells its products through its retail and online stores, and direct sales force; and third-party cellular network carriers, wholesalers, retailers, and resellers. Apple Inc. was founded in 1976 and is headquartered in Cupertino, California.',\n 'fullTimeEmployees': 161000,\n 'companyOfficers': [{'maxAge': 1,\n   'name': 'Mr. Timothy D. Cook',\n   'age': 62,\n   'title': 'CEO & Director',\n   'yearBorn': 1961,\n   'fiscalYear': 2023,\n   'totalPay': 16239562,\n   'exercisedValue': 0,\n   'unexercisedValue': 0},\n  {'maxAge': 1,\n   'name': 'Mr. Luca  Maestri',\n   'age': 60,\n   'title': 'CFO & Senior VP',\n   'yearBorn': 1963,\n   'fiscalYear': 2023,\n   'totalPay': 4612242,\n   'exercisedValue': 0,\n   'unexercisedValue': 0},\n  {'maxAge': 1,\n   'name': 'Mr. Jeffrey E. Williams',\n   'age': 59,\n   'title': 'Chief Operating Officer',\n   'yearBorn': 1964,\n   'fiscalYear': 2023,\n   'totalPay': 4637585,\n   'exercisedValue': 0,\n   'unexercisedValue': 0},\n  {'maxAge': 1,\n   'name': 'Ms. Katherine L. Adams',\n   'age': 59,\n   'title': 'Senior VP, General Counsel & Secretary',\n   'yearBorn': 1964,\n   'fiscalYear': 2023,\n   'totalPay': 4618064,\n   'exercisedValue': 0,\n   'unexercisedValue': 0},\n  {'maxAge': 1,\n   'name': \"Ms. Deirdre  O'Brien\",\n   'age': 56,\n   'title': 'Senior Vice President of Retail',\n   'yearBorn': 1967,\n   'fiscalYear': 2023,\n   'totalPay': 4613369,\n   'exercisedValue': 0,\n   'unexercisedValue': 0},\n  {'maxAge': 1,\n   'name': 'Mr. Chris  Kondo',\n   'title': 'Senior Director of Corporate Accounting',\n   'fiscalYear': 2023,\n   'exercisedValue': 0,\n   'unexercisedValue': 0},\n  {'maxAge': 1,\n   'name': 'Mr. James  Wilson',\n   'title': 'Chief Technology Officer',\n   'fiscalYear': 2023,\n   'exercisedValue': 0,\n   'unexercisedValue': 0},\n  {'maxAge': 1,\n   'name': 'Suhasini  Chandramouli',\n   'title': 'Director of Investor Relations',\n   'fiscalYear': 2023,\n   'exercisedValue': 0,\n   'unexercisedValue': 0},\n  {'maxAge': 1,\n   'name': 'Mr. Greg  Joswiak',\n   'title': 'Senior Vice President of Worldwide Marketing',\n   'fiscalYear': 2023,\n   'exercisedValue': 0,\n   'unexercisedValue': 0},\n  {'maxAge': 1,\n   'name': 'Mr. Adrian  Perica',\n   'age': 49,\n   'title': 'Head of Corporate Development',\n   'yearBorn': 1974,\n   'fiscalYear': 2023,\n   'exercisedValue': 0,\n   'unexercisedValue': 0}],\n 'auditRisk': 4,\n 'boardRisk': 1,\n 'compensationRisk': 6,\n 'shareHolderRightsRisk': 1,\n 'overallRisk': 1,\n 'governanceEpochDate': 1706745600,\n 'compensationAsOfEpochDate': 1703980800,\n 'maxAge': 86400,\n 'priceHint': 2,\n 'previousClose': 184.37,\n 'open': 185.01,\n 'dayLow': 182.31,\n 'dayHigh': 185.02,\n 'regularMarketPreviousClose': 184.37,\n 'regularMarketOpen': 185.01,\n 'regularMarketDayLow': 182.31,\n 'regularMarketDayHigh': 185.02,\n 'dividendRate': 0.96,\n 'dividendYield': 0.0053,\n 'exDividendDate': 1707436800,\n 'payoutRatio': 0.14770001,\n 'fiveYearAvgDividendYield': 0.78,\n 'beta': 1.312,\n 'trailingPE': 28.429907,\n 'forwardPE': 25.456068,\n 'volume': 43669467,\n 'regularMarketVolume': 43669467,\n 'averageVolume': 54123437,\n 'averageVolume10days': 50579500,\n 'averageDailyVolume10Day': 50579500,\n 'bid': 182.32,\n 'ask': 182.28,\n 'bidSize': 900,\n 'askSize': 1100,\n 'marketCap': 2818455633920,\n 'fiftyTwoWeekLow': 143.9,\n 'fiftyTwoWeekHigh': 199.62,\n 'priceToSalesTrailing12Months': 7.3072643,\n 'fiftyDayAverage': 188.9672,\n 'twoHundredDayAverage': 183.73265,\n 'trailingAnnualDividendRate': 0.95,\n 'trailingAnnualDividendYield': 0.0051526823,\n 'currency': 'USD',\n 'enterpriseValue': 2853392089088,\n 'profitMargins': 0.26163,\n 'floatShares': 15414703289,\n 'sharesOutstanding': 15441899520,\n 'sharesShort': 99244672,\n 'sharesShortPriorMonth': 108220157,\n 'sharesShortPreviousMonthDate': 1703808000,\n 'dateShortInterest': 1706659200,\n 'sharesPercentSharesOut': 0.0064,\n 'heldPercentInsiders': 0.059369996,\n 'heldPercentInstitutions': 0.56676996,\n 'shortRatio': 1.76,\n 'shortPercentOfFloat': 0.0064,\n 'impliedSharesOutstanding': 15770500096,\n 'bookValue': 4.793,\n 'priceToBook': 38.080532,\n 'lastFiscalYearEnd': 1696032000,\n 'nextFiscalYearEnd': 1727654400,\n 'mostRecentQuarter': 1703894400,\n 'earningsQuarterlyGrowth': 0.131,\n 'netIncomeToCommon': 100912996352,\n 'trailingEps': 6.42,\n 'forwardEps': 7.17,\n 'pegRatio': 2.56,\n 'lastSplitFactor': '4:1',\n 'lastSplitDate': 1598832000,\n 'enterpriseToRevenue': 7.398,\n 'enterpriseToEbitda': 21.931,\n '52WeekChange': 0.2339102,\n 'SandP52WeekChange': 0.27787375,\n 'lastDividendValue': 0.24,\n 'lastDividendDate': 1707436800,\n 'exchange': 'NMS',\n 'quoteType': 'EQUITY',\n 'symbol': 'AAPL',\n 'underlyingSymbol': 'AAPL',\n 'shortName': 'Apple Inc.',\n 'longName': 'Apple Inc.',\n 'firstTradeDateEpochUtc': 345479400,\n 'timeZoneFullName': 'America/New_York',\n 'timeZoneShortName': 'EST',\n 'uuid': '8b10e4ae-9eeb-3684-921a-9ab27e4d87aa',\n 'messageBoardId': 'finmb_24937',\n 'gmtOffSetMilliseconds': -18000000,\n 'currentPrice': 182.52,\n 'targetHighPrice': 250.0,\n 'targetLowPrice': 158.0,\n 'targetMeanPrice': 201.41,\n 'targetMedianPrice': 200.0,\n 'recommendationMean': 2.2,\n 'recommendationKey': 'buy',\n 'numberOfAnalystOpinions': 39,\n 'totalCash': 73100001280,\n 'totalCashPerShare': 4.734,\n 'ebitda': 130108997632,\n 'totalDebt': 108040003584,\n 'quickRatio': 0.92,\n 'currentRatio': 1.073,\n 'totalRevenue': 385706000384,\n 'debtToEquity': 145.803,\n 'revenuePerShare': 24.648,\n 'returnOnAssets': 0.21181,\n 'returnOnEquity': 1.5426899,\n 'freeCashflow': 86563127296,\n 'operatingCashflow': 116433002496,\n 'earningsGrowth': 0.16,\n 'revenueGrowth': 0.021,\n 'grossMargins': 0.45027,\n 'ebitdaMargins': 0.33733,\n 'operatingMargins': 0.33764,\n 'financialCurrency': 'USD',\n 'trailingPegRatio': 2.2467}"
     },
     "execution_count": 11,
     "metadata": {},
     "output_type": "execute_result"
    }
   ],
   "source": [
    "info"
   ]
  },
  {
   "cell_type": "code",
   "execution_count": 12,
   "metadata": {
    "ExecuteTime": {
     "end_time": "2024-02-24T06:24:16.943815300Z",
     "start_time": "2024-02-24T06:24:16.709847200Z"
    }
   },
   "outputs": [],
   "source": [
    "lm_data = pd.read_csv('Loughran-McDonald_MasterDictionary_1993-2021.csv')"
   ]
  },
  {
   "cell_type": "code",
   "outputs": [
    {
     "data": {
      "text/plain": "        Word  Seq_num  Word Count  Word Proportion  Average Proportion  \\\n0   AARDVARK        1         354     1.550000e-08        1.420000e-08   \n1  AARDVARKS        2           3     1.310000e-10        8.650000e-12   \n2      ABACI        3           9     3.940000e-10        1.170000e-10   \n3      ABACK        4          29     1.270000e-09        6.650000e-10   \n4     ABACUS        5        8570     3.750000e-07        3.810000e-07   \n\n        Std Dev  Doc Count  Negative  Positive  Uncertainty  Litigious  \\\n0  3.820000e-06         99         0         0            0          0   \n1  9.240000e-09          1         0         0            0          0   \n2  5.290000e-08          7         0         0            0          0   \n3  1.600000e-07         28         0         0            0          0   \n4  3.530000e-05       1108         0         0            0          0   \n\n   Strong_Modal  Weak_Modal  Constraining  Syllables     Source  \n0             0           0             0          2  12of12inf  \n1             0           0             0          2  12of12inf  \n2             0           0             0          3  12of12inf  \n3             0           0             0          2  12of12inf  \n4             0           0             0          3  12of12inf  ",
      "text/html": "<div>\n<style scoped>\n    .dataframe tbody tr th:only-of-type {\n        vertical-align: middle;\n    }\n\n    .dataframe tbody tr th {\n        vertical-align: top;\n    }\n\n    .dataframe thead th {\n        text-align: right;\n    }\n</style>\n<table border=\"1\" class=\"dataframe\">\n  <thead>\n    <tr style=\"text-align: right;\">\n      <th></th>\n      <th>Word</th>\n      <th>Seq_num</th>\n      <th>Word Count</th>\n      <th>Word Proportion</th>\n      <th>Average Proportion</th>\n      <th>Std Dev</th>\n      <th>Doc Count</th>\n      <th>Negative</th>\n      <th>Positive</th>\n      <th>Uncertainty</th>\n      <th>Litigious</th>\n      <th>Strong_Modal</th>\n      <th>Weak_Modal</th>\n      <th>Constraining</th>\n      <th>Syllables</th>\n      <th>Source</th>\n    </tr>\n  </thead>\n  <tbody>\n    <tr>\n      <th>0</th>\n      <td>AARDVARK</td>\n      <td>1</td>\n      <td>354</td>\n      <td>1.550000e-08</td>\n      <td>1.420000e-08</td>\n      <td>3.820000e-06</td>\n      <td>99</td>\n      <td>0</td>\n      <td>0</td>\n      <td>0</td>\n      <td>0</td>\n      <td>0</td>\n      <td>0</td>\n      <td>0</td>\n      <td>2</td>\n      <td>12of12inf</td>\n    </tr>\n    <tr>\n      <th>1</th>\n      <td>AARDVARKS</td>\n      <td>2</td>\n      <td>3</td>\n      <td>1.310000e-10</td>\n      <td>8.650000e-12</td>\n      <td>9.240000e-09</td>\n      <td>1</td>\n      <td>0</td>\n      <td>0</td>\n      <td>0</td>\n      <td>0</td>\n      <td>0</td>\n      <td>0</td>\n      <td>0</td>\n      <td>2</td>\n      <td>12of12inf</td>\n    </tr>\n    <tr>\n      <th>2</th>\n      <td>ABACI</td>\n      <td>3</td>\n      <td>9</td>\n      <td>3.940000e-10</td>\n      <td>1.170000e-10</td>\n      <td>5.290000e-08</td>\n      <td>7</td>\n      <td>0</td>\n      <td>0</td>\n      <td>0</td>\n      <td>0</td>\n      <td>0</td>\n      <td>0</td>\n      <td>0</td>\n      <td>3</td>\n      <td>12of12inf</td>\n    </tr>\n    <tr>\n      <th>3</th>\n      <td>ABACK</td>\n      <td>4</td>\n      <td>29</td>\n      <td>1.270000e-09</td>\n      <td>6.650000e-10</td>\n      <td>1.600000e-07</td>\n      <td>28</td>\n      <td>0</td>\n      <td>0</td>\n      <td>0</td>\n      <td>0</td>\n      <td>0</td>\n      <td>0</td>\n      <td>0</td>\n      <td>2</td>\n      <td>12of12inf</td>\n    </tr>\n    <tr>\n      <th>4</th>\n      <td>ABACUS</td>\n      <td>5</td>\n      <td>8570</td>\n      <td>3.750000e-07</td>\n      <td>3.810000e-07</td>\n      <td>3.530000e-05</td>\n      <td>1108</td>\n      <td>0</td>\n      <td>0</td>\n      <td>0</td>\n      <td>0</td>\n      <td>0</td>\n      <td>0</td>\n      <td>0</td>\n      <td>3</td>\n      <td>12of12inf</td>\n    </tr>\n  </tbody>\n</table>\n</div>"
     },
     "execution_count": 13,
     "metadata": {},
     "output_type": "execute_result"
    }
   ],
   "source": [
    "lm_data.head()"
   ],
   "metadata": {
    "collapsed": false,
    "ExecuteTime": {
     "end_time": "2024-02-24T06:24:22.222258400Z",
     "start_time": "2024-02-24T06:24:22.182516900Z"
    }
   },
   "execution_count": 13
  },
  {
   "cell_type": "code",
   "outputs": [],
   "source": [
    "# Assuming the Tokenizer class is defined as above and the DataFrame df is loaded\n",
    "tokenizer = Tokenizer(lemmatize=True)\n",
    "\n",
    "# Update the 'Word' column by applying the lemmatization\n",
    "lm_data['Word'] = lm_data['Word'].apply(lambda word: tokenizer.lemmatizer.lemmatize(word.lower()) if pd.notnull(word) else word)\n",
    "\n",
    "# Now the 'Word' column is lemmatized and you can save or use the DataFrame as needed\n",
    "lm_data.to_csv('Lemmatized_Words.csv', index=False)"
   ],
   "metadata": {
    "collapsed": false,
    "ExecuteTime": {
     "end_time": "2024-02-24T06:35:35.347146100Z",
     "start_time": "2024-02-24T06:35:33.839394400Z"
    }
   },
   "execution_count": 16
  },
  {
   "cell_type": "code",
   "outputs": [
    {
     "data": {
      "text/plain": "           Word  Seq_num  Word Count  Word Proportion  Average Proportion  \\\n0      aardvark        1         354     1.550000e-08        1.420000e-08   \n1      aardvark        2           3     1.310000e-10        8.650000e-12   \n2        abacus        3           9     3.940000e-10        1.170000e-10   \n3         aback        4          29     1.270000e-09        6.650000e-10   \n4        abacus        5        8570     3.750000e-07        3.810000e-07   \n...         ...      ...         ...              ...                 ...   \n86526    zygote    86529          50     2.190000e-09        8.730000e-10   \n86527    zygote    86530           1     4.380000e-11        1.810000e-11   \n86528   zygotic    86531           0     0.000000e+00        0.000000e+00   \n86529   zymurgy    86532           0     0.000000e+00        0.000000e+00   \n86530   zymurgy    86533           0     0.000000e+00        0.000000e+00   \n\n            Std Dev  Doc Count  Negative  Positive  Uncertainty  Litigious  \\\n0      3.820000e-06         99         0         0            0          0   \n1      9.240000e-09          1         0         0            0          0   \n2      5.290000e-08          7         0         0            0          0   \n3      1.600000e-07         28         0         0            0          0   \n4      3.530000e-05       1108         0         0            0          0   \n...             ...        ...       ...       ...          ...        ...   \n86526  1.890000e-07         35         0         0            0          0   \n86527  1.930000e-08          1         0         0            0          0   \n86528  0.000000e+00          0         0         0            0          0   \n86529  0.000000e+00          0         0         0            0          0   \n86530  0.000000e+00          0         0         0            0          0   \n\n       Strong_Modal  Weak_Modal  Constraining  Syllables     Source  \n0                 0           0             0          2  12of12inf  \n1                 0           0             0          2  12of12inf  \n2                 0           0             0          3  12of12inf  \n3                 0           0             0          2  12of12inf  \n4                 0           0             0          3  12of12inf  \n...             ...         ...           ...        ...        ...  \n86526             0           0             0          2  12of12inf  \n86527             0           0             0          2  12of12inf  \n86528             0           0             0          3  12of12inf  \n86529             0           0             0          3  12of12inf  \n86530             0           0             0          3  12of12inf  \n\n[86531 rows x 16 columns]",
      "text/html": "<div>\n<style scoped>\n    .dataframe tbody tr th:only-of-type {\n        vertical-align: middle;\n    }\n\n    .dataframe tbody tr th {\n        vertical-align: top;\n    }\n\n    .dataframe thead th {\n        text-align: right;\n    }\n</style>\n<table border=\"1\" class=\"dataframe\">\n  <thead>\n    <tr style=\"text-align: right;\">\n      <th></th>\n      <th>Word</th>\n      <th>Seq_num</th>\n      <th>Word Count</th>\n      <th>Word Proportion</th>\n      <th>Average Proportion</th>\n      <th>Std Dev</th>\n      <th>Doc Count</th>\n      <th>Negative</th>\n      <th>Positive</th>\n      <th>Uncertainty</th>\n      <th>Litigious</th>\n      <th>Strong_Modal</th>\n      <th>Weak_Modal</th>\n      <th>Constraining</th>\n      <th>Syllables</th>\n      <th>Source</th>\n    </tr>\n  </thead>\n  <tbody>\n    <tr>\n      <th>0</th>\n      <td>aardvark</td>\n      <td>1</td>\n      <td>354</td>\n      <td>1.550000e-08</td>\n      <td>1.420000e-08</td>\n      <td>3.820000e-06</td>\n      <td>99</td>\n      <td>0</td>\n      <td>0</td>\n      <td>0</td>\n      <td>0</td>\n      <td>0</td>\n      <td>0</td>\n      <td>0</td>\n      <td>2</td>\n      <td>12of12inf</td>\n    </tr>\n    <tr>\n      <th>1</th>\n      <td>aardvark</td>\n      <td>2</td>\n      <td>3</td>\n      <td>1.310000e-10</td>\n      <td>8.650000e-12</td>\n      <td>9.240000e-09</td>\n      <td>1</td>\n      <td>0</td>\n      <td>0</td>\n      <td>0</td>\n      <td>0</td>\n      <td>0</td>\n      <td>0</td>\n      <td>0</td>\n      <td>2</td>\n      <td>12of12inf</td>\n    </tr>\n    <tr>\n      <th>2</th>\n      <td>abacus</td>\n      <td>3</td>\n      <td>9</td>\n      <td>3.940000e-10</td>\n      <td>1.170000e-10</td>\n      <td>5.290000e-08</td>\n      <td>7</td>\n      <td>0</td>\n      <td>0</td>\n      <td>0</td>\n      <td>0</td>\n      <td>0</td>\n      <td>0</td>\n      <td>0</td>\n      <td>3</td>\n      <td>12of12inf</td>\n    </tr>\n    <tr>\n      <th>3</th>\n      <td>aback</td>\n      <td>4</td>\n      <td>29</td>\n      <td>1.270000e-09</td>\n      <td>6.650000e-10</td>\n      <td>1.600000e-07</td>\n      <td>28</td>\n      <td>0</td>\n      <td>0</td>\n      <td>0</td>\n      <td>0</td>\n      <td>0</td>\n      <td>0</td>\n      <td>0</td>\n      <td>2</td>\n      <td>12of12inf</td>\n    </tr>\n    <tr>\n      <th>4</th>\n      <td>abacus</td>\n      <td>5</td>\n      <td>8570</td>\n      <td>3.750000e-07</td>\n      <td>3.810000e-07</td>\n      <td>3.530000e-05</td>\n      <td>1108</td>\n      <td>0</td>\n      <td>0</td>\n      <td>0</td>\n      <td>0</td>\n      <td>0</td>\n      <td>0</td>\n      <td>0</td>\n      <td>3</td>\n      <td>12of12inf</td>\n    </tr>\n    <tr>\n      <th>...</th>\n      <td>...</td>\n      <td>...</td>\n      <td>...</td>\n      <td>...</td>\n      <td>...</td>\n      <td>...</td>\n      <td>...</td>\n      <td>...</td>\n      <td>...</td>\n      <td>...</td>\n      <td>...</td>\n      <td>...</td>\n      <td>...</td>\n      <td>...</td>\n      <td>...</td>\n      <td>...</td>\n    </tr>\n    <tr>\n      <th>86526</th>\n      <td>zygote</td>\n      <td>86529</td>\n      <td>50</td>\n      <td>2.190000e-09</td>\n      <td>8.730000e-10</td>\n      <td>1.890000e-07</td>\n      <td>35</td>\n      <td>0</td>\n      <td>0</td>\n      <td>0</td>\n      <td>0</td>\n      <td>0</td>\n      <td>0</td>\n      <td>0</td>\n      <td>2</td>\n      <td>12of12inf</td>\n    </tr>\n    <tr>\n      <th>86527</th>\n      <td>zygote</td>\n      <td>86530</td>\n      <td>1</td>\n      <td>4.380000e-11</td>\n      <td>1.810000e-11</td>\n      <td>1.930000e-08</td>\n      <td>1</td>\n      <td>0</td>\n      <td>0</td>\n      <td>0</td>\n      <td>0</td>\n      <td>0</td>\n      <td>0</td>\n      <td>0</td>\n      <td>2</td>\n      <td>12of12inf</td>\n    </tr>\n    <tr>\n      <th>86528</th>\n      <td>zygotic</td>\n      <td>86531</td>\n      <td>0</td>\n      <td>0.000000e+00</td>\n      <td>0.000000e+00</td>\n      <td>0.000000e+00</td>\n      <td>0</td>\n      <td>0</td>\n      <td>0</td>\n      <td>0</td>\n      <td>0</td>\n      <td>0</td>\n      <td>0</td>\n      <td>0</td>\n      <td>3</td>\n      <td>12of12inf</td>\n    </tr>\n    <tr>\n      <th>86529</th>\n      <td>zymurgy</td>\n      <td>86532</td>\n      <td>0</td>\n      <td>0.000000e+00</td>\n      <td>0.000000e+00</td>\n      <td>0.000000e+00</td>\n      <td>0</td>\n      <td>0</td>\n      <td>0</td>\n      <td>0</td>\n      <td>0</td>\n      <td>0</td>\n      <td>0</td>\n      <td>0</td>\n      <td>3</td>\n      <td>12of12inf</td>\n    </tr>\n    <tr>\n      <th>86530</th>\n      <td>zymurgy</td>\n      <td>86533</td>\n      <td>0</td>\n      <td>0.000000e+00</td>\n      <td>0.000000e+00</td>\n      <td>0.000000e+00</td>\n      <td>0</td>\n      <td>0</td>\n      <td>0</td>\n      <td>0</td>\n      <td>0</td>\n      <td>0</td>\n      <td>0</td>\n      <td>0</td>\n      <td>3</td>\n      <td>12of12inf</td>\n    </tr>\n  </tbody>\n</table>\n<p>86531 rows × 16 columns</p>\n</div>"
     },
     "execution_count": 17,
     "metadata": {},
     "output_type": "execute_result"
    }
   ],
   "source": [
    "lm_data"
   ],
   "metadata": {
    "collapsed": false,
    "ExecuteTime": {
     "end_time": "2024-02-24T06:35:51.486082100Z",
     "start_time": "2024-02-24T06:35:51.439231300Z"
    }
   },
   "execution_count": 17
  },
  {
   "cell_type": "code",
   "outputs": [],
   "source": [],
   "metadata": {
    "collapsed": false
   }
  },
  {
   "cell_type": "code",
   "outputs": [
    {
     "data": {
      "text/plain": "          Seq_num  Word Count  Word Proportion  Average Proportion  \\\nWord                                                                 \na            3816   227893921     9.978922e-03        9.629821e-03   \naardvark        3         357     1.563100e-08        1.420865e-08   \nab            228      186031     8.150000e-06        7.650000e-06   \naba            20           2     8.760000e-11        1.170000e-10   \naback           4          29     1.270000e-09        6.650000e-10   \n...           ...         ...              ...                 ...   \nzwieback   173051           4     1.750000e-10        2.210000e-10   \nzydeco     173055        3167     1.390438e-07        1.170669e-07   \nzygote     173059          51     2.233800e-09        8.911000e-10   \nzygotic     86531           0     0.000000e+00        0.000000e+00   \nzymurgy    173065           0     0.000000e+00        0.000000e+00   \n\n               Std Dev  Doc Count  Negative  Positive  Uncertainty  Litigious  \\\nWord                                                                            \na         2.768318e-03    1139728         0         0            0          0   \naardvark  3.829240e-06        100         0         0            0          0   \nab        1.362510e-04      16969         0         0            0          0   \naba       1.020000e-07          2         0         0            0          0   \naback     1.600000e-07         28         0         0            0          0   \n...                ...        ...       ...       ...          ...        ...   \nzwieback  1.700000e-07          2         0         0            0          0   \nzydeco    1.827140e-05        126         0         0            0          0   \nzygote    2.083000e-07         36         0         0            0          0   \nzygotic   0.000000e+00          0         0         0            0          0   \nzymurgy   0.000000e+00          0         0         0            0          0   \n\n          Strong_Modal  Weak_Modal  Constraining  Syllables  \\\nWord                                                          \na                    0           0             0          1   \naardvark             0           0             0          4   \nab                   0           0             0          1   \naba                  0           0             0          3   \naback                0           0             0          2   \n...                ...         ...           ...        ...   \nzwieback             0           0             0          4   \nzydeco               0           0             0          6   \nzygote               0           0             0          4   \nzygotic              0           0             0          3   \nzymurgy              0           0             0          6   \n\n                      Source  \nWord                          \na                  12of12inf  \naardvark  12of12inf12of12inf  \nab                 12of12inf  \naba                12of12inf  \naback              12of12inf  \n...                      ...  \nzwieback  12of12inf12of12inf  \nzydeco    12of12inf12of12inf  \nzygote    12of12inf12of12inf  \nzygotic            12of12inf  \nzymurgy   12of12inf12of12inf  \n\n[63731 rows x 15 columns]",
      "text/html": "<div>\n<style scoped>\n    .dataframe tbody tr th:only-of-type {\n        vertical-align: middle;\n    }\n\n    .dataframe tbody tr th {\n        vertical-align: top;\n    }\n\n    .dataframe thead th {\n        text-align: right;\n    }\n</style>\n<table border=\"1\" class=\"dataframe\">\n  <thead>\n    <tr style=\"text-align: right;\">\n      <th></th>\n      <th>Seq_num</th>\n      <th>Word Count</th>\n      <th>Word Proportion</th>\n      <th>Average Proportion</th>\n      <th>Std Dev</th>\n      <th>Doc Count</th>\n      <th>Negative</th>\n      <th>Positive</th>\n      <th>Uncertainty</th>\n      <th>Litigious</th>\n      <th>Strong_Modal</th>\n      <th>Weak_Modal</th>\n      <th>Constraining</th>\n      <th>Syllables</th>\n      <th>Source</th>\n    </tr>\n    <tr>\n      <th>Word</th>\n      <th></th>\n      <th></th>\n      <th></th>\n      <th></th>\n      <th></th>\n      <th></th>\n      <th></th>\n      <th></th>\n      <th></th>\n      <th></th>\n      <th></th>\n      <th></th>\n      <th></th>\n      <th></th>\n      <th></th>\n    </tr>\n  </thead>\n  <tbody>\n    <tr>\n      <th>a</th>\n      <td>3816</td>\n      <td>227893921</td>\n      <td>9.978922e-03</td>\n      <td>9.629821e-03</td>\n      <td>2.768318e-03</td>\n      <td>1139728</td>\n      <td>0</td>\n      <td>0</td>\n      <td>0</td>\n      <td>0</td>\n      <td>0</td>\n      <td>0</td>\n      <td>0</td>\n      <td>1</td>\n      <td>12of12inf</td>\n    </tr>\n    <tr>\n      <th>aardvark</th>\n      <td>3</td>\n      <td>357</td>\n      <td>1.563100e-08</td>\n      <td>1.420865e-08</td>\n      <td>3.829240e-06</td>\n      <td>100</td>\n      <td>0</td>\n      <td>0</td>\n      <td>0</td>\n      <td>0</td>\n      <td>0</td>\n      <td>0</td>\n      <td>0</td>\n      <td>4</td>\n      <td>12of12inf12of12inf</td>\n    </tr>\n    <tr>\n      <th>ab</th>\n      <td>228</td>\n      <td>186031</td>\n      <td>8.150000e-06</td>\n      <td>7.650000e-06</td>\n      <td>1.362510e-04</td>\n      <td>16969</td>\n      <td>0</td>\n      <td>0</td>\n      <td>0</td>\n      <td>0</td>\n      <td>0</td>\n      <td>0</td>\n      <td>0</td>\n      <td>1</td>\n      <td>12of12inf</td>\n    </tr>\n    <tr>\n      <th>aba</th>\n      <td>20</td>\n      <td>2</td>\n      <td>8.760000e-11</td>\n      <td>1.170000e-10</td>\n      <td>1.020000e-07</td>\n      <td>2</td>\n      <td>0</td>\n      <td>0</td>\n      <td>0</td>\n      <td>0</td>\n      <td>0</td>\n      <td>0</td>\n      <td>0</td>\n      <td>3</td>\n      <td>12of12inf</td>\n    </tr>\n    <tr>\n      <th>aback</th>\n      <td>4</td>\n      <td>29</td>\n      <td>1.270000e-09</td>\n      <td>6.650000e-10</td>\n      <td>1.600000e-07</td>\n      <td>28</td>\n      <td>0</td>\n      <td>0</td>\n      <td>0</td>\n      <td>0</td>\n      <td>0</td>\n      <td>0</td>\n      <td>0</td>\n      <td>2</td>\n      <td>12of12inf</td>\n    </tr>\n    <tr>\n      <th>...</th>\n      <td>...</td>\n      <td>...</td>\n      <td>...</td>\n      <td>...</td>\n      <td>...</td>\n      <td>...</td>\n      <td>...</td>\n      <td>...</td>\n      <td>...</td>\n      <td>...</td>\n      <td>...</td>\n      <td>...</td>\n      <td>...</td>\n      <td>...</td>\n      <td>...</td>\n    </tr>\n    <tr>\n      <th>zwieback</th>\n      <td>173051</td>\n      <td>4</td>\n      <td>1.750000e-10</td>\n      <td>2.210000e-10</td>\n      <td>1.700000e-07</td>\n      <td>2</td>\n      <td>0</td>\n      <td>0</td>\n      <td>0</td>\n      <td>0</td>\n      <td>0</td>\n      <td>0</td>\n      <td>0</td>\n      <td>4</td>\n      <td>12of12inf12of12inf</td>\n    </tr>\n    <tr>\n      <th>zydeco</th>\n      <td>173055</td>\n      <td>3167</td>\n      <td>1.390438e-07</td>\n      <td>1.170669e-07</td>\n      <td>1.827140e-05</td>\n      <td>126</td>\n      <td>0</td>\n      <td>0</td>\n      <td>0</td>\n      <td>0</td>\n      <td>0</td>\n      <td>0</td>\n      <td>0</td>\n      <td>6</td>\n      <td>12of12inf12of12inf</td>\n    </tr>\n    <tr>\n      <th>zygote</th>\n      <td>173059</td>\n      <td>51</td>\n      <td>2.233800e-09</td>\n      <td>8.911000e-10</td>\n      <td>2.083000e-07</td>\n      <td>36</td>\n      <td>0</td>\n      <td>0</td>\n      <td>0</td>\n      <td>0</td>\n      <td>0</td>\n      <td>0</td>\n      <td>0</td>\n      <td>4</td>\n      <td>12of12inf12of12inf</td>\n    </tr>\n    <tr>\n      <th>zygotic</th>\n      <td>86531</td>\n      <td>0</td>\n      <td>0.000000e+00</td>\n      <td>0.000000e+00</td>\n      <td>0.000000e+00</td>\n      <td>0</td>\n      <td>0</td>\n      <td>0</td>\n      <td>0</td>\n      <td>0</td>\n      <td>0</td>\n      <td>0</td>\n      <td>0</td>\n      <td>3</td>\n      <td>12of12inf</td>\n    </tr>\n    <tr>\n      <th>zymurgy</th>\n      <td>173065</td>\n      <td>0</td>\n      <td>0.000000e+00</td>\n      <td>0.000000e+00</td>\n      <td>0.000000e+00</td>\n      <td>0</td>\n      <td>0</td>\n      <td>0</td>\n      <td>0</td>\n      <td>0</td>\n      <td>0</td>\n      <td>0</td>\n      <td>0</td>\n      <td>6</td>\n      <td>12of12inf12of12inf</td>\n    </tr>\n  </tbody>\n</table>\n<p>63731 rows × 15 columns</p>\n</div>"
     },
     "execution_count": 21,
     "metadata": {},
     "output_type": "execute_result"
    }
   ],
   "source": [
    "lm_filtered = lm_data.groupby(\"Word\").sum()\n",
    "lm_filtered"
   ],
   "metadata": {
    "collapsed": false,
    "ExecuteTime": {
     "end_time": "2024-02-24T06:38:50.466334300Z",
     "start_time": "2024-02-24T06:38:50.342679Z"
    }
   },
   "execution_count": 21
  },
  {
   "cell_type": "code",
   "outputs": [],
   "source": [
    "# 6. Current Sentiment: Positive, Neutral, Negative - \n",
    "# Provides more detailed sentiment indication [heuristic; all between 0 and 1]\n",
    "# Decide if the word is positive, neutral, or negative.\n",
    "# Define 3 lists of parsed keywords like \"good\", \"increasing\", \"positive\", \"decreasing\", etc. for determining 3\n",
    "# lists of \"positive words\": \"neutral words\", or \"negative words\". Use these for sentiment formula\n",
    "\n",
    "def determine_sentiment(pos_count, neg_count, neu_count):\n",
    "    if pos_count > neg_count and pos_count > neu_count:\n",
    "        return 1  # positive\n",
    "    elif neg_count > pos_count and neg_count > neu_count:\n",
    "        return -1  # negative\n",
    "    else:\n",
    "        return 0  # neutral or ambiguous\n",
    "\n",
    "# 应用新的函数来计算情感得分\n",
    "lm_filtered['Sentiment'] = lm_filtered.apply(\n",
    "    lambda x: determine_sentiment(x['Positive'], x['Negative'], x['Uncertainty']),axis=1)"
   ],
   "metadata": {
    "collapsed": false,
    "ExecuteTime": {
     "end_time": "2024-02-24T07:01:40.631574500Z",
     "start_time": "2024-02-24T07:01:39.301009800Z"
    }
   },
   "execution_count": 24
  },
  {
   "cell_type": "code",
   "outputs": [
    {
     "data": {
      "text/plain": "          Seq_num  Word Count  Word Proportion  Average Proportion  \\\nWord                                                                 \na            3816   227893921     9.978922e-03        9.629821e-03   \naardvark        3         357     1.563100e-08        1.420865e-08   \nab            228      186031     8.150000e-06        7.650000e-06   \naba            20           2     8.760000e-11        1.170000e-10   \naback           4          29     1.270000e-09        6.650000e-10   \n...           ...         ...              ...                 ...   \nzwieback   173051           4     1.750000e-10        2.210000e-10   \nzydeco     173055        3167     1.390438e-07        1.170669e-07   \nzygote     173059          51     2.233800e-09        8.911000e-10   \nzygotic     86531           0     0.000000e+00        0.000000e+00   \nzymurgy    173065           0     0.000000e+00        0.000000e+00   \n\n               Std Dev  Doc Count  Negative  Positive  Uncertainty  Litigious  \\\nWord                                                                            \na         2.768318e-03    1139728         0         0            0          0   \naardvark  3.829240e-06        100         0         0            0          0   \nab        1.362510e-04      16969         0         0            0          0   \naba       1.020000e-07          2         0         0            0          0   \naback     1.600000e-07         28         0         0            0          0   \n...                ...        ...       ...       ...          ...        ...   \nzwieback  1.700000e-07          2         0         0            0          0   \nzydeco    1.827140e-05        126         0         0            0          0   \nzygote    2.083000e-07         36         0         0            0          0   \nzygotic   0.000000e+00          0         0         0            0          0   \nzymurgy   0.000000e+00          0         0         0            0          0   \n\n          Strong_Modal  Weak_Modal  Constraining  Syllables  \\\nWord                                                          \na                    0           0             0          1   \naardvark             0           0             0          4   \nab                   0           0             0          1   \naba                  0           0             0          3   \naback                0           0             0          2   \n...                ...         ...           ...        ...   \nzwieback             0           0             0          4   \nzydeco               0           0             0          6   \nzygote               0           0             0          4   \nzygotic              0           0             0          3   \nzymurgy              0           0             0          6   \n\n                      Source  sentiment  Sentiment  \nWord                                                \na                  12of12inf          0          0  \naardvark  12of12inf12of12inf          0          0  \nab                 12of12inf          0          0  \naba                12of12inf          0          0  \naback              12of12inf          0          0  \n...                      ...        ...        ...  \nzwieback  12of12inf12of12inf          0          0  \nzydeco    12of12inf12of12inf          0          0  \nzygote    12of12inf12of12inf          0          0  \nzygotic            12of12inf          0          0  \nzymurgy   12of12inf12of12inf          0          0  \n\n[63731 rows x 17 columns]",
      "text/html": "<div>\n<style scoped>\n    .dataframe tbody tr th:only-of-type {\n        vertical-align: middle;\n    }\n\n    .dataframe tbody tr th {\n        vertical-align: top;\n    }\n\n    .dataframe thead th {\n        text-align: right;\n    }\n</style>\n<table border=\"1\" class=\"dataframe\">\n  <thead>\n    <tr style=\"text-align: right;\">\n      <th></th>\n      <th>Seq_num</th>\n      <th>Word Count</th>\n      <th>Word Proportion</th>\n      <th>Average Proportion</th>\n      <th>Std Dev</th>\n      <th>Doc Count</th>\n      <th>Negative</th>\n      <th>Positive</th>\n      <th>Uncertainty</th>\n      <th>Litigious</th>\n      <th>Strong_Modal</th>\n      <th>Weak_Modal</th>\n      <th>Constraining</th>\n      <th>Syllables</th>\n      <th>Source</th>\n      <th>sentiment</th>\n      <th>Sentiment</th>\n    </tr>\n    <tr>\n      <th>Word</th>\n      <th></th>\n      <th></th>\n      <th></th>\n      <th></th>\n      <th></th>\n      <th></th>\n      <th></th>\n      <th></th>\n      <th></th>\n      <th></th>\n      <th></th>\n      <th></th>\n      <th></th>\n      <th></th>\n      <th></th>\n      <th></th>\n      <th></th>\n    </tr>\n  </thead>\n  <tbody>\n    <tr>\n      <th>a</th>\n      <td>3816</td>\n      <td>227893921</td>\n      <td>9.978922e-03</td>\n      <td>9.629821e-03</td>\n      <td>2.768318e-03</td>\n      <td>1139728</td>\n      <td>0</td>\n      <td>0</td>\n      <td>0</td>\n      <td>0</td>\n      <td>0</td>\n      <td>0</td>\n      <td>0</td>\n      <td>1</td>\n      <td>12of12inf</td>\n      <td>0</td>\n      <td>0</td>\n    </tr>\n    <tr>\n      <th>aardvark</th>\n      <td>3</td>\n      <td>357</td>\n      <td>1.563100e-08</td>\n      <td>1.420865e-08</td>\n      <td>3.829240e-06</td>\n      <td>100</td>\n      <td>0</td>\n      <td>0</td>\n      <td>0</td>\n      <td>0</td>\n      <td>0</td>\n      <td>0</td>\n      <td>0</td>\n      <td>4</td>\n      <td>12of12inf12of12inf</td>\n      <td>0</td>\n      <td>0</td>\n    </tr>\n    <tr>\n      <th>ab</th>\n      <td>228</td>\n      <td>186031</td>\n      <td>8.150000e-06</td>\n      <td>7.650000e-06</td>\n      <td>1.362510e-04</td>\n      <td>16969</td>\n      <td>0</td>\n      <td>0</td>\n      <td>0</td>\n      <td>0</td>\n      <td>0</td>\n      <td>0</td>\n      <td>0</td>\n      <td>1</td>\n      <td>12of12inf</td>\n      <td>0</td>\n      <td>0</td>\n    </tr>\n    <tr>\n      <th>aba</th>\n      <td>20</td>\n      <td>2</td>\n      <td>8.760000e-11</td>\n      <td>1.170000e-10</td>\n      <td>1.020000e-07</td>\n      <td>2</td>\n      <td>0</td>\n      <td>0</td>\n      <td>0</td>\n      <td>0</td>\n      <td>0</td>\n      <td>0</td>\n      <td>0</td>\n      <td>3</td>\n      <td>12of12inf</td>\n      <td>0</td>\n      <td>0</td>\n    </tr>\n    <tr>\n      <th>aback</th>\n      <td>4</td>\n      <td>29</td>\n      <td>1.270000e-09</td>\n      <td>6.650000e-10</td>\n      <td>1.600000e-07</td>\n      <td>28</td>\n      <td>0</td>\n      <td>0</td>\n      <td>0</td>\n      <td>0</td>\n      <td>0</td>\n      <td>0</td>\n      <td>0</td>\n      <td>2</td>\n      <td>12of12inf</td>\n      <td>0</td>\n      <td>0</td>\n    </tr>\n    <tr>\n      <th>...</th>\n      <td>...</td>\n      <td>...</td>\n      <td>...</td>\n      <td>...</td>\n      <td>...</td>\n      <td>...</td>\n      <td>...</td>\n      <td>...</td>\n      <td>...</td>\n      <td>...</td>\n      <td>...</td>\n      <td>...</td>\n      <td>...</td>\n      <td>...</td>\n      <td>...</td>\n      <td>...</td>\n      <td>...</td>\n    </tr>\n    <tr>\n      <th>zwieback</th>\n      <td>173051</td>\n      <td>4</td>\n      <td>1.750000e-10</td>\n      <td>2.210000e-10</td>\n      <td>1.700000e-07</td>\n      <td>2</td>\n      <td>0</td>\n      <td>0</td>\n      <td>0</td>\n      <td>0</td>\n      <td>0</td>\n      <td>0</td>\n      <td>0</td>\n      <td>4</td>\n      <td>12of12inf12of12inf</td>\n      <td>0</td>\n      <td>0</td>\n    </tr>\n    <tr>\n      <th>zydeco</th>\n      <td>173055</td>\n      <td>3167</td>\n      <td>1.390438e-07</td>\n      <td>1.170669e-07</td>\n      <td>1.827140e-05</td>\n      <td>126</td>\n      <td>0</td>\n      <td>0</td>\n      <td>0</td>\n      <td>0</td>\n      <td>0</td>\n      <td>0</td>\n      <td>0</td>\n      <td>6</td>\n      <td>12of12inf12of12inf</td>\n      <td>0</td>\n      <td>0</td>\n    </tr>\n    <tr>\n      <th>zygote</th>\n      <td>173059</td>\n      <td>51</td>\n      <td>2.233800e-09</td>\n      <td>8.911000e-10</td>\n      <td>2.083000e-07</td>\n      <td>36</td>\n      <td>0</td>\n      <td>0</td>\n      <td>0</td>\n      <td>0</td>\n      <td>0</td>\n      <td>0</td>\n      <td>0</td>\n      <td>4</td>\n      <td>12of12inf12of12inf</td>\n      <td>0</td>\n      <td>0</td>\n    </tr>\n    <tr>\n      <th>zygotic</th>\n      <td>86531</td>\n      <td>0</td>\n      <td>0.000000e+00</td>\n      <td>0.000000e+00</td>\n      <td>0.000000e+00</td>\n      <td>0</td>\n      <td>0</td>\n      <td>0</td>\n      <td>0</td>\n      <td>0</td>\n      <td>0</td>\n      <td>0</td>\n      <td>0</td>\n      <td>3</td>\n      <td>12of12inf</td>\n      <td>0</td>\n      <td>0</td>\n    </tr>\n    <tr>\n      <th>zymurgy</th>\n      <td>173065</td>\n      <td>0</td>\n      <td>0.000000e+00</td>\n      <td>0.000000e+00</td>\n      <td>0.000000e+00</td>\n      <td>0</td>\n      <td>0</td>\n      <td>0</td>\n      <td>0</td>\n      <td>0</td>\n      <td>0</td>\n      <td>0</td>\n      <td>0</td>\n      <td>6</td>\n      <td>12of12inf12of12inf</td>\n      <td>0</td>\n      <td>0</td>\n    </tr>\n  </tbody>\n</table>\n<p>63731 rows × 17 columns</p>\n</div>"
     },
     "execution_count": 25,
     "metadata": {},
     "output_type": "execute_result"
    }
   ],
   "source": [
    "lm_filtered"
   ],
   "metadata": {
    "collapsed": false,
    "ExecuteTime": {
     "end_time": "2024-02-24T07:01:43.813497200Z",
     "start_time": "2024-02-24T07:01:43.691439600Z"
    }
   },
   "execution_count": 25
  },
  {
   "cell_type": "code",
   "outputs": [],
   "source": [
    "lm_filtered.reset_index(inplace=True)\n",
    "\n",
    "word_sentiment_df = lm_filtered[['Word', 'Sentiment']]\n",
    "\n",
    "word_sentiment_df.to_csv('word_sentiment.csv', index=False)"
   ],
   "metadata": {
    "collapsed": false,
    "ExecuteTime": {
     "end_time": "2024-02-24T07:04:04.153281800Z",
     "start_time": "2024-02-24T07:04:04.000853300Z"
    }
   },
   "execution_count": 27
  },
  {
   "cell_type": "code",
   "outputs": [
    {
     "data": {
      "text/plain": "           Word  Sentiment\n0             a          0\n1      aardvark          0\n2            ab          0\n3           aba          0\n4         aback          0\n...         ...        ...\n63726  zwieback          0\n63727    zydeco          0\n63728    zygote          0\n63729   zygotic          0\n63730   zymurgy          0\n\n[63731 rows x 2 columns]",
      "text/html": "<div>\n<style scoped>\n    .dataframe tbody tr th:only-of-type {\n        vertical-align: middle;\n    }\n\n    .dataframe tbody tr th {\n        vertical-align: top;\n    }\n\n    .dataframe thead th {\n        text-align: right;\n    }\n</style>\n<table border=\"1\" class=\"dataframe\">\n  <thead>\n    <tr style=\"text-align: right;\">\n      <th></th>\n      <th>Word</th>\n      <th>Sentiment</th>\n    </tr>\n  </thead>\n  <tbody>\n    <tr>\n      <th>0</th>\n      <td>a</td>\n      <td>0</td>\n    </tr>\n    <tr>\n      <th>1</th>\n      <td>aardvark</td>\n      <td>0</td>\n    </tr>\n    <tr>\n      <th>2</th>\n      <td>ab</td>\n      <td>0</td>\n    </tr>\n    <tr>\n      <th>3</th>\n      <td>aba</td>\n      <td>0</td>\n    </tr>\n    <tr>\n      <th>4</th>\n      <td>aback</td>\n      <td>0</td>\n    </tr>\n    <tr>\n      <th>...</th>\n      <td>...</td>\n      <td>...</td>\n    </tr>\n    <tr>\n      <th>63726</th>\n      <td>zwieback</td>\n      <td>0</td>\n    </tr>\n    <tr>\n      <th>63727</th>\n      <td>zydeco</td>\n      <td>0</td>\n    </tr>\n    <tr>\n      <th>63728</th>\n      <td>zygote</td>\n      <td>0</td>\n    </tr>\n    <tr>\n      <th>63729</th>\n      <td>zygotic</td>\n      <td>0</td>\n    </tr>\n    <tr>\n      <th>63730</th>\n      <td>zymurgy</td>\n      <td>0</td>\n    </tr>\n  </tbody>\n</table>\n<p>63731 rows × 2 columns</p>\n</div>"
     },
     "execution_count": 28,
     "metadata": {},
     "output_type": "execute_result"
    }
   ],
   "source": [
    "word_sentiment_df"
   ],
   "metadata": {
    "collapsed": false,
    "ExecuteTime": {
     "end_time": "2024-02-24T07:04:12.378551Z",
     "start_time": "2024-02-24T07:04:12.227672700Z"
    }
   },
   "execution_count": 28
  },
  {
   "cell_type": "code",
   "outputs": [],
   "source": [],
   "metadata": {
    "collapsed": false
   }
  }
 ],
 "metadata": {
  "kernelspec": {
   "display_name": "risk",
   "language": "python",
   "name": "python3"
  },
  "language_info": {
   "codemirror_mode": {
    "name": "ipython",
    "version": 3
   },
   "file_extension": ".py",
   "mimetype": "text/x-python",
   "name": "python",
   "nbconvert_exporter": "python",
   "pygments_lexer": "ipython3",
   "version": "3.11.5"
  }
 },
 "nbformat": 4,
 "nbformat_minor": 2
}
