{
 "cells": [
  {
   "cell_type": "code",
   "execution_count": 1,
   "id": "initial_id",
   "metadata": {
    "collapsed": true,
    "ExecuteTime": {
     "end_time": "2024-02-24T09:24:03.651575Z",
     "start_time": "2024-02-24T09:24:03.180946Z"
    }
   },
   "outputs": [],
   "source": [
    "import numpy as np\n",
    "import pandas as pd"
   ]
  },
  {
   "cell_type": "code",
   "outputs": [
    {
     "name": "stdout",
     "output_type": "stream",
     "text": [
      "author                                        Benzinga Newsdesk\n",
      "content                                                        \n",
      "created_at                                 2024-02-21T21:53:56Z\n",
      "headline      Coca-Cola Consolidated Q4 Adj $13.39 Down From...\n",
      "id                                                     37247897\n",
      "images                                                       []\n",
      "source                                                 benzinga\n",
      "summary                                                        \n",
      "symbols                                                  [COKE]\n",
      "updated_at                                 2024-02-21T21:53:57Z\n",
      "url           https://www.benzinga.com/news/earnings/24/02/3...\n",
      "Name: 0, dtype: object\n"
     ]
    }
   ],
   "source": [
    "import json\n",
    "import pandas as pd\n",
    "\n",
    "# Step 1: Read the JSON file\n",
    "with open('news_data.json', 'r') as file:\n",
    "    data = json.load(file)\n",
    "\n",
    "# Step 2: Convert the list of JSON objects to a DataFrame\n",
    "df = pd.DataFrame.from_dict(data)\n",
    "\n",
    "# Display the first few rows of the DataFrame\n",
    "print(df.iloc[0])\n"
   ],
   "metadata": {
    "collapsed": false,
    "ExecuteTime": {
     "end_time": "2024-02-24T09:25:44.061953Z",
     "start_time": "2024-02-24T09:25:44.054222Z"
    }
   },
   "id": "c4d677617f27bec6",
   "execution_count": 3
  },
  {
   "cell_type": "code",
   "outputs": [
    {
     "data": {
      "text/plain": "Index(['author', 'content', 'created_at', 'headline', 'id', 'images', 'source',\n       'summary', 'symbols', 'updated_at', 'url'],\n      dtype='object')"
     },
     "execution_count": 5,
     "metadata": {},
     "output_type": "execute_result"
    }
   ],
   "source": [
    "df.columns"
   ],
   "metadata": {
    "collapsed": false,
    "ExecuteTime": {
     "end_time": "2024-02-24T09:27:09.632504Z",
     "start_time": "2024-02-24T09:27:09.602859Z"
    }
   },
   "id": "ace6ca6fd9e8d82f",
   "execution_count": 5
  },
  {
   "cell_type": "code",
   "outputs": [
    {
     "name": "stdout",
     "output_type": "stream",
     "text": [
      "author                                        Benzinga Insights\n",
      "content       • Gatos Silver GATO is estimated to report qua...\n",
      "created_at                                 2024-02-21T10:09:04Z\n",
      "headline               Earnings Scheduled For February 21, 2024\n",
      "id                                                     37230455\n",
      "images        [{'size': 'large', 'url': 'https://cdn.benzing...\n",
      "source                                                 benzinga\n",
      "summary       Companies Reporting Before The Bell\\n\\n• Gatos...\n",
      "symbols       [ACVA, ADI, AGI, AGR, ALIT, AMK, AMSF, ANSS, A...\n",
      "updated_at                                 2024-02-21T10:09:05Z\n",
      "url           https://www.benzinga.com/insights/earnings/24/...\n",
      "Name: 1, dtype: object\n"
     ]
    }
   ],
   "source": [
    "print(df.iloc[1])"
   ],
   "metadata": {
    "collapsed": false,
    "ExecuteTime": {
     "end_time": "2024-02-24T09:25:56.639876Z",
     "start_time": "2024-02-24T09:25:56.637066Z"
    }
   },
   "id": "e0c036097f389e2",
   "execution_count": 4
  },
  {
   "cell_type": "code",
   "outputs": [],
   "source": [
    "df_recrods = df.to_dict('records')"
   ],
   "metadata": {
    "collapsed": false,
    "ExecuteTime": {
     "end_time": "2024-02-24T09:28:05.688533Z",
     "start_time": "2024-02-24T09:28:05.687024Z"
    }
   },
   "id": "b155bfaf1b33419e",
   "execution_count": 6
  },
  {
   "cell_type": "code",
   "outputs": [
    {
     "data": {
      "text/plain": "{'author': 'Benzinga Newsdesk',\n 'content': '',\n 'created_at': '2024-02-21T21:53:56Z',\n 'headline': 'Coca-Cola Consolidated Q4 Adj $13.39 Down From $13.54 YoY, Sales $1.63B Up From $1.57B YoY',\n 'id': 37247897,\n 'images': [],\n 'source': 'benzinga',\n 'summary': '',\n 'symbols': ['COKE'],\n 'updated_at': '2024-02-21T21:53:57Z',\n 'url': 'https://www.benzinga.com/news/earnings/24/02/37247897/coca-cola-consolidated-q4-adj-13-39-down-from-13-54-yoy-sales-1-63b-up-from-1-57b-yoy'}"
     },
     "execution_count": 7,
     "metadata": {},
     "output_type": "execute_result"
    }
   ],
   "source": [
    "df_recrods[0]"
   ],
   "metadata": {
    "collapsed": false,
    "ExecuteTime": {
     "end_time": "2024-02-24T09:28:07.589039Z",
     "start_time": "2024-02-24T09:28:07.584876Z"
    }
   },
   "id": "3e024dccb20d8009",
   "execution_count": 7
  },
  {
   "cell_type": "code",
   "outputs": [
    {
     "data": {
      "text/plain": "\"Coca-Cola Consolidated's COKE short percent of float has risen 4.79% since its last report. The company recently reported that it has 102 thousand shares sold short, which is 1.75% of all regular shares that are available for trading. Based on its trading volume, it would take traders 2.21 days to cover their short positions on average. Short interest is the number of shares that have been sold short but have not yet been covered or closed out. Short selling is when a trader sells shares of a company they do not own, with the hope that the price will fall. Traders make money from short selling if the price of the stock falls and they lose if it rises. Short interest is important to track because it can act as an indicator of market sentiment towards a particular stock. An increase in short interest can signal that investors have become more bearish, while a decrease in short interest can signal they have become more bullish. See Also: List of the most shorted stocks As you can see from the chart above the percentage of shares that are sold short for Coca-Cola Consolidated has grown since its last report. This does not mean that the stock is going to fall in the near-term but traders should be aware that more shares are being shorted. Peer comparison is a popular technique amongst analysts and investors for gauging how well a company is performing. A company's peer is another company that has similar characteristics to it, such as industry, size, age, and financial structure. You can find a company's peer group by reading its 10-K, proxy filing, or by doing your own similarity analysis. According to Benzinga Pro, Coca-Cola Consolidated's peer group average for short interest as a percentage of float is 7.57%, which means the company has less short interest than most of its peers. Did you know that increasing short interest can actually be bullish for a stock? This post by Benzinga Money explains how you can profit from it. This article was generated by Benzinga's automated content engine and was reviewed by an editor.\""
     },
     "execution_count": 10,
     "metadata": {},
     "output_type": "execute_result"
    }
   ],
   "source": [
    "df_recrods[2]['content']"
   ],
   "metadata": {
    "collapsed": false,
    "ExecuteTime": {
     "end_time": "2024-02-24T09:45:27.724661Z",
     "start_time": "2024-02-24T09:45:27.719810Z"
    }
   },
   "id": "25825f95fa4fd52e",
   "execution_count": 10
  },
  {
   "cell_type": "code",
   "outputs": [],
   "source": [],
   "metadata": {
    "collapsed": false
   },
   "id": "388cae3134d949a7"
  }
 ],
 "metadata": {
  "kernelspec": {
   "display_name": "Python 3",
   "language": "python",
   "name": "python3"
  },
  "language_info": {
   "codemirror_mode": {
    "name": "ipython",
    "version": 2
   },
   "file_extension": ".py",
   "mimetype": "text/x-python",
   "name": "python",
   "nbconvert_exporter": "python",
   "pygments_lexer": "ipython2",
   "version": "2.7.6"
  }
 },
 "nbformat": 4,
 "nbformat_minor": 5
}
