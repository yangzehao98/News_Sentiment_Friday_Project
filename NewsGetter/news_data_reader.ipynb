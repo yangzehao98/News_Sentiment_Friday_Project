{
 "cells": [
  {
   "cell_type": "code",
   "execution_count": 1,
   "id": "initial_id",
   "metadata": {
    "collapsed": true,
    "ExecuteTime": {
     "end_time": "2024-02-24T09:24:03.651575Z",
     "start_time": "2024-02-24T09:24:03.180946Z"
    }
   },
   "outputs": [],
   "source": [
    "import numpy as np\n",
    "import pandas as pd"
   ]
  },
  {
   "cell_type": "code",
   "outputs": [
    {
     "name": "stdout",
     "output_type": "stream",
     "text": [
      "author                                        Benzinga Newsdesk\n",
      "content                                                        \n",
      "created_at                                 2024-02-21T21:53:56Z\n",
      "headline      Coca-Cola Consolidated Q4 Adj $13.39 Down From...\n",
      "id                                                     37247897\n",
      "images                                                       []\n",
      "source                                                 benzinga\n",
      "summary                                                        \n",
      "symbols                                                  [COKE]\n",
      "updated_at                                 2024-02-21T21:53:57Z\n",
      "url           https://www.benzinga.com/news/earnings/24/02/3...\n",
      "Name: 0, dtype: object\n"
     ]
    }
   ],
   "source": [
    "import json\n",
    "import pandas as pd\n",
    "\n",
    "# Step 1: Read the JSON file\n",
    "with open('news_data.json', 'r') as file:\n",
    "    data = json.load(file)\n",
    "\n",
    "# Step 2: Convert the list of JSON objects to a DataFrame\n",
    "df = pd.DataFrame.from_dict(data)\n",
    "\n",
    "# Display the first few rows of the DataFrame\n",
    "print(df.iloc[0])\n"
   ],
   "metadata": {
    "collapsed": false,
    "ExecuteTime": {
     "end_time": "2024-02-24T19:49:44.448594100Z",
     "start_time": "2024-02-24T19:49:44.433273600Z"
    }
   },
   "id": "c4d677617f27bec6",
   "execution_count": 18
  },
  {
   "cell_type": "code",
   "outputs": [
    {
     "data": {
      "text/plain": "Index(['author', 'content', 'created_at', 'headline', 'id', 'images', 'source',\n       'summary', 'symbols', 'updated_at', 'url'],\n      dtype='object')"
     },
     "execution_count": 19,
     "metadata": {},
     "output_type": "execute_result"
    }
   ],
   "source": [
    "df.columns"
   ],
   "metadata": {
    "collapsed": false,
    "ExecuteTime": {
     "end_time": "2024-02-24T19:49:44.748253100Z",
     "start_time": "2024-02-24T19:49:44.738433200Z"
    }
   },
   "id": "ace6ca6fd9e8d82f",
   "execution_count": 19
  },
  {
   "cell_type": "code",
   "outputs": [
    {
     "name": "stdout",
     "output_type": "stream",
     "text": [
      "author                                        Benzinga Insights\n",
      "content       • Gatos Silver GATO is estimated to report qua...\n",
      "created_at                                 2024-02-21T10:09:04Z\n",
      "headline               Earnings Scheduled For February 21, 2024\n",
      "id                                                     37230455\n",
      "images        [{'size': 'large', 'url': 'https://cdn.benzing...\n",
      "source                                                 benzinga\n",
      "summary       Companies Reporting Before The Bell\\n\\n• Gatos...\n",
      "symbols       [ACVA, ADI, AGI, AGR, ALIT, AMK, AMSF, ANSS, A...\n",
      "updated_at                                 2024-02-21T10:09:05Z\n",
      "url           https://www.benzinga.com/insights/earnings/24/...\n",
      "Name: 1, dtype: object\n"
     ]
    }
   ],
   "source": [
    "print(df.iloc[1])"
   ],
   "metadata": {
    "collapsed": false,
    "ExecuteTime": {
     "end_time": "2024-02-24T19:49:45.127557100Z",
     "start_time": "2024-02-24T19:49:45.120309800Z"
    }
   },
   "id": "e0c036097f389e2",
   "execution_count": 20
  },
  {
   "cell_type": "code",
   "outputs": [],
   "source": [
    "df_recrods = df.to_dict('records')"
   ],
   "metadata": {
    "collapsed": false,
    "ExecuteTime": {
     "end_time": "2024-02-24T19:49:45.433322500Z",
     "start_time": "2024-02-24T19:49:45.427809800Z"
    }
   },
   "id": "b155bfaf1b33419e",
   "execution_count": 21
  },
  {
   "cell_type": "code",
   "outputs": [
    {
     "data": {
      "text/plain": "{'author': 'Benzinga Newsdesk',\n 'content': '',\n 'created_at': '2024-02-21T21:53:56Z',\n 'headline': 'Coca-Cola Consolidated Q4 Adj $13.39 Down From $13.54 YoY, Sales $1.63B Up From $1.57B YoY',\n 'id': 37247897,\n 'images': [],\n 'source': 'benzinga',\n 'summary': '',\n 'symbols': ['COKE'],\n 'updated_at': '2024-02-21T21:53:57Z',\n 'url': 'https://www.benzinga.com/news/earnings/24/02/37247897/coca-cola-consolidated-q4-adj-13-39-down-from-13-54-yoy-sales-1-63b-up-from-1-57b-yoy'}"
     },
     "execution_count": 22,
     "metadata": {},
     "output_type": "execute_result"
    }
   ],
   "source": [
    "df_recrods[0]"
   ],
   "metadata": {
    "collapsed": false,
    "ExecuteTime": {
     "end_time": "2024-02-24T19:49:46.101369800Z",
     "start_time": "2024-02-24T19:49:46.089048100Z"
    }
   },
   "id": "3e024dccb20d8009",
   "execution_count": 22
  },
  {
   "cell_type": "code",
   "outputs": [
    {
     "data": {
      "text/plain": "\"Coca-Cola Consolidated's COKE short percent of float has risen 4.79% since its last report. The company recently reported that it has 102 thousand shares sold short, which is 1.75% of all regular shares that are available for trading. Based on its trading volume, it would take traders 2.21 days to cover their short positions on average. Short interest is the number of shares that have been sold short but have not yet been covered or closed out. Short selling is when a trader sells shares of a company they do not own, with the hope that the price will fall. Traders make money from short selling if the price of the stock falls and they lose if it rises. Short interest is important to track because it can act as an indicator of market sentiment towards a particular stock. An increase in short interest can signal that investors have become more bearish, while a decrease in short interest can signal they have become more bullish. See Also: List of the most shorted stocks As you can see from the chart above the percentage of shares that are sold short for Coca-Cola Consolidated has grown since its last report. This does not mean that the stock is going to fall in the near-term but traders should be aware that more shares are being shorted. Peer comparison is a popular technique amongst analysts and investors for gauging how well a company is performing. A company's peer is another company that has similar characteristics to it, such as industry, size, age, and financial structure. You can find a company's peer group by reading its 10-K, proxy filing, or by doing your own similarity analysis. According to Benzinga Pro, Coca-Cola Consolidated's peer group average for short interest as a percentage of float is 7.57%, which means the company has less short interest than most of its peers. Did you know that increasing short interest can actually be bullish for a stock? This post by Benzinga Money explains how you can profit from it. This article was generated by Benzinga's automated content engine and was reviewed by an editor.\""
     },
     "execution_count": 23,
     "metadata": {},
     "output_type": "execute_result"
    }
   ],
   "source": [
    "df_recrods[2]['content']"
   ],
   "metadata": {
    "collapsed": false,
    "ExecuteTime": {
     "end_time": "2024-02-24T19:49:50.340436600Z",
     "start_time": "2024-02-24T19:49:50.330640Z"
    }
   },
   "id": "25825f95fa4fd52e",
   "execution_count": 23
  },
  {
   "cell_type": "code",
   "outputs": [],
   "source": [
    "from Classes.DataProcessor import Tokenizer, NewsTokenizer, NewsSentimentAnalysis, SentenceSentimentAnalysis, Counter\n",
    "from Classes.Component import News"
   ],
   "metadata": {
    "collapsed": false,
    "ExecuteTime": {
     "end_time": "2024-02-24T19:49:50.621453500Z",
     "start_time": "2024-02-24T19:49:50.596792300Z"
    }
   },
   "id": "388cae3134d949a7",
   "execution_count": 24
  },
  {
   "cell_type": "code",
   "outputs": [
    {
     "data": {
      "text/plain": "                author                                            content  \\\n0    Benzinga Newsdesk                                                      \n1    Benzinga Insights  • Gatos Silver GATO is estimated to report qua...   \n2    Benzinga Insights  Coca-Cola Consolidated's COKE short percent of...   \n3    Benzinga Insights  Wednesday marks the last chance for investors ...   \n4           Avi Kapoor  As of Jan. 17, 2024, three stocks in the consu...   \n..                 ...                                                ...   \n166           Benzinga                                                      \n167           Benzinga                                                      \n168           Benzinga                                                      \n169           Benzinga                                                      \n170           Benzinga                                                      \n\n               created_at                                           headline  \\\n0    2024-02-21T21:53:56Z  Coca-Cola Consolidated Q4 Adj $13.39 Down From...   \n1    2024-02-21T10:09:04Z           Earnings Scheduled For February 21, 2024   \n2    2024-02-14T19:15:24Z  How Is The Market Feeling About Coca-Cola Cons...   \n3    2024-01-22T14:45:50Z          Coca-Cola Consolidated: Dividend Insights   \n4    2024-01-17T13:19:08Z  Top 3 Defensive Stocks That May Fall Off A Cli...   \n..                    ...                                                ...   \n166  2015-05-05T21:37:28Z  Coca-Cola Bottling Reports Q1 EPS $0.24, Sales...   \n167  2015-03-04T21:13:53Z  UPDATE: Coca Cola Bottling Reports Q4 Adj EPS ...   \n168  2015-03-04T21:10:58Z  Coca Cola Bottling Reports Q4 EPS $0.32 Vs Est...   \n169  2015-03-04T10:09:57Z               Earnings Scheduled For March 4, 2015   \n170  2015-02-17T21:24:24Z  Coca-Cola Bottling Co. Consolidated Announces ...   \n\n           id                                             images    source  \\\n0    37247897                                                 []  benzinga   \n1    37230455  [{'size': 'large', 'url': 'https://cdn.benzing...  benzinga   \n2    37135989  [{'size': 'large', 'url': 'https://cdn.benzing...  benzinga   \n3    36716853  [{'size': 'large', 'url': 'https://cdn.benzing...  benzinga   \n4    36658443                                                 []  benzinga   \n..        ...                                                ...       ...   \n166   5479525                                                 []             \n167   5298943                                                 []             \n168   5298880                                                 []             \n169   5296029                                                 []             \n170   5248413                                                 []             \n\n                                               summary  \\\n0                                                        \n1    Companies Reporting Before The Bell\\n\\n• Gatos...   \n2                                                        \n3                                                        \n4    As of Jan. 17, 2024, three stocks in the consu...   \n..                                                 ...   \n166                                                      \n167                                                      \n168                                                      \n169                                                      \n170                                                      \n\n                                               symbols            updated_at  \\\n0                                               [COKE]  2024-02-21T21:53:57Z   \n1    [ACVA, ADI, AGI, AGR, ALIT, AMK, AMSF, ANSS, A...  2024-02-21T10:09:05Z   \n2                                               [COKE]  2024-02-14T19:15:25Z   \n3                                               [COKE]  2024-01-22T14:45:50Z   \n4                                   [COKE, NHTC, NOMD]  2024-01-17T13:19:09Z   \n..                                                 ...                   ...   \n166                                             [COKE]  2015-05-05T21:37:28Z   \n167                                             [COKE]  2015-03-04T21:13:53Z   \n168                                             [COKE]  2015-03-04T21:10:58Z   \n169  [AEO, ALG, ALSK, AMED, ANF, ATHM, BF-B, BFB, C...  2015-03-04T10:09:57Z   \n170                                         [COKE, KO]  2015-02-17T21:24:25Z   \n\n                                                   url  \n0    https://www.benzinga.com/news/earnings/24/02/3...  \n1    https://www.benzinga.com/insights/earnings/24/...  \n2    https://www.benzinga.com/insights/short-seller...  \n3    https://www.benzinga.com/insights/dividends/24...  \n4    https://www.benzinga.com/news/24/01/36658443/t...  \n..                                                 ...  \n166              https://www.benzinga.com/node/5479525  \n167              https://www.benzinga.com/node/5298943  \n168              https://www.benzinga.com/node/5298880  \n169              https://www.benzinga.com/node/5296029  \n170              https://www.benzinga.com/node/5248413  \n\n[171 rows x 11 columns]",
      "text/html": "<div>\n<style scoped>\n    .dataframe tbody tr th:only-of-type {\n        vertical-align: middle;\n    }\n\n    .dataframe tbody tr th {\n        vertical-align: top;\n    }\n\n    .dataframe thead th {\n        text-align: right;\n    }\n</style>\n<table border=\"1\" class=\"dataframe\">\n  <thead>\n    <tr style=\"text-align: right;\">\n      <th></th>\n      <th>author</th>\n      <th>content</th>\n      <th>created_at</th>\n      <th>headline</th>\n      <th>id</th>\n      <th>images</th>\n      <th>source</th>\n      <th>summary</th>\n      <th>symbols</th>\n      <th>updated_at</th>\n      <th>url</th>\n    </tr>\n  </thead>\n  <tbody>\n    <tr>\n      <th>0</th>\n      <td>Benzinga Newsdesk</td>\n      <td></td>\n      <td>2024-02-21T21:53:56Z</td>\n      <td>Coca-Cola Consolidated Q4 Adj $13.39 Down From...</td>\n      <td>37247897</td>\n      <td>[]</td>\n      <td>benzinga</td>\n      <td></td>\n      <td>[COKE]</td>\n      <td>2024-02-21T21:53:57Z</td>\n      <td>https://www.benzinga.com/news/earnings/24/02/3...</td>\n    </tr>\n    <tr>\n      <th>1</th>\n      <td>Benzinga Insights</td>\n      <td>• Gatos Silver GATO is estimated to report qua...</td>\n      <td>2024-02-21T10:09:04Z</td>\n      <td>Earnings Scheduled For February 21, 2024</td>\n      <td>37230455</td>\n      <td>[{'size': 'large', 'url': 'https://cdn.benzing...</td>\n      <td>benzinga</td>\n      <td>Companies Reporting Before The Bell\\n\\n• Gatos...</td>\n      <td>[ACVA, ADI, AGI, AGR, ALIT, AMK, AMSF, ANSS, A...</td>\n      <td>2024-02-21T10:09:05Z</td>\n      <td>https://www.benzinga.com/insights/earnings/24/...</td>\n    </tr>\n    <tr>\n      <th>2</th>\n      <td>Benzinga Insights</td>\n      <td>Coca-Cola Consolidated's COKE short percent of...</td>\n      <td>2024-02-14T19:15:24Z</td>\n      <td>How Is The Market Feeling About Coca-Cola Cons...</td>\n      <td>37135989</td>\n      <td>[{'size': 'large', 'url': 'https://cdn.benzing...</td>\n      <td>benzinga</td>\n      <td></td>\n      <td>[COKE]</td>\n      <td>2024-02-14T19:15:25Z</td>\n      <td>https://www.benzinga.com/insights/short-seller...</td>\n    </tr>\n    <tr>\n      <th>3</th>\n      <td>Benzinga Insights</td>\n      <td>Wednesday marks the last chance for investors ...</td>\n      <td>2024-01-22T14:45:50Z</td>\n      <td>Coca-Cola Consolidated: Dividend Insights</td>\n      <td>36716853</td>\n      <td>[{'size': 'large', 'url': 'https://cdn.benzing...</td>\n      <td>benzinga</td>\n      <td></td>\n      <td>[COKE]</td>\n      <td>2024-01-22T14:45:50Z</td>\n      <td>https://www.benzinga.com/insights/dividends/24...</td>\n    </tr>\n    <tr>\n      <th>4</th>\n      <td>Avi Kapoor</td>\n      <td>As of Jan. 17, 2024, three stocks in the consu...</td>\n      <td>2024-01-17T13:19:08Z</td>\n      <td>Top 3 Defensive Stocks That May Fall Off A Cli...</td>\n      <td>36658443</td>\n      <td>[]</td>\n      <td>benzinga</td>\n      <td>As of Jan. 17, 2024, three stocks in the consu...</td>\n      <td>[COKE, NHTC, NOMD]</td>\n      <td>2024-01-17T13:19:09Z</td>\n      <td>https://www.benzinga.com/news/24/01/36658443/t...</td>\n    </tr>\n    <tr>\n      <th>...</th>\n      <td>...</td>\n      <td>...</td>\n      <td>...</td>\n      <td>...</td>\n      <td>...</td>\n      <td>...</td>\n      <td>...</td>\n      <td>...</td>\n      <td>...</td>\n      <td>...</td>\n      <td>...</td>\n    </tr>\n    <tr>\n      <th>166</th>\n      <td>Benzinga</td>\n      <td></td>\n      <td>2015-05-05T21:37:28Z</td>\n      <td>Coca-Cola Bottling Reports Q1 EPS $0.24, Sales...</td>\n      <td>5479525</td>\n      <td>[]</td>\n      <td></td>\n      <td></td>\n      <td>[COKE]</td>\n      <td>2015-05-05T21:37:28Z</td>\n      <td>https://www.benzinga.com/node/5479525</td>\n    </tr>\n    <tr>\n      <th>167</th>\n      <td>Benzinga</td>\n      <td></td>\n      <td>2015-03-04T21:13:53Z</td>\n      <td>UPDATE: Coca Cola Bottling Reports Q4 Adj EPS ...</td>\n      <td>5298943</td>\n      <td>[]</td>\n      <td></td>\n      <td></td>\n      <td>[COKE]</td>\n      <td>2015-03-04T21:13:53Z</td>\n      <td>https://www.benzinga.com/node/5298943</td>\n    </tr>\n    <tr>\n      <th>168</th>\n      <td>Benzinga</td>\n      <td></td>\n      <td>2015-03-04T21:10:58Z</td>\n      <td>Coca Cola Bottling Reports Q4 EPS $0.32 Vs Est...</td>\n      <td>5298880</td>\n      <td>[]</td>\n      <td></td>\n      <td></td>\n      <td>[COKE]</td>\n      <td>2015-03-04T21:10:58Z</td>\n      <td>https://www.benzinga.com/node/5298880</td>\n    </tr>\n    <tr>\n      <th>169</th>\n      <td>Benzinga</td>\n      <td></td>\n      <td>2015-03-04T10:09:57Z</td>\n      <td>Earnings Scheduled For March 4, 2015</td>\n      <td>5296029</td>\n      <td>[]</td>\n      <td></td>\n      <td></td>\n      <td>[AEO, ALG, ALSK, AMED, ANF, ATHM, BF-B, BFB, C...</td>\n      <td>2015-03-04T10:09:57Z</td>\n      <td>https://www.benzinga.com/node/5296029</td>\n    </tr>\n    <tr>\n      <th>170</th>\n      <td>Benzinga</td>\n      <td></td>\n      <td>2015-02-17T21:24:24Z</td>\n      <td>Coca-Cola Bottling Co. Consolidated Announces ...</td>\n      <td>5248413</td>\n      <td>[]</td>\n      <td></td>\n      <td></td>\n      <td>[COKE, KO]</td>\n      <td>2015-02-17T21:24:25Z</td>\n      <td>https://www.benzinga.com/node/5248413</td>\n    </tr>\n  </tbody>\n</table>\n<p>171 rows × 11 columns</p>\n</div>"
     },
     "execution_count": 25,
     "metadata": {},
     "output_type": "execute_result"
    }
   ],
   "source": [
    "# News dataframe\n",
    "df"
   ],
   "metadata": {
    "collapsed": false,
    "ExecuteTime": {
     "end_time": "2024-02-24T19:49:51.198906900Z",
     "start_time": "2024-02-24T19:49:51.171723500Z"
    }
   },
   "id": "23b938bd27f41d9f",
   "execution_count": 25
  },
  {
   "cell_type": "code",
   "outputs": [],
   "source": [
    "from Classes.DataProcessor import Tokenizer, NewsTokenizer, NewsSentimentAnalysis, SentenceSentimentAnalysis, Counter\n",
    "from Classes.Component import News"
   ],
   "metadata": {
    "collapsed": false,
    "ExecuteTime": {
     "end_time": "2024-02-24T19:49:53.595833900Z",
     "start_time": "2024-02-24T19:49:53.581210600Z"
    }
   },
   "id": "4f8f0675f2227716",
   "execution_count": 26
  },
  {
   "cell_type": "code",
   "outputs": [
    {
     "ename": "AttributeError",
     "evalue": "'News' object has no attribute 'to_dict'",
     "output_type": "error",
     "traceback": [
      "\u001B[1;31m---------------------------------------------------------------------------\u001B[0m",
      "\u001B[1;31mAttributeError\u001B[0m                            Traceback (most recent call last)",
      "Cell \u001B[1;32mIn[27], line 1\u001B[0m\n\u001B[1;32m----> 1\u001B[0m news_list \u001B[38;5;241m=\u001B[39m \u001B[43m[\u001B[49m\u001B[43mNews\u001B[49m\u001B[43m(\u001B[49m\u001B[43mrow\u001B[49m\u001B[38;5;241;43m.\u001B[39;49m\u001B[43mto_dict\u001B[49m\u001B[43m(\u001B[49m\u001B[43m)\u001B[49m\u001B[43m)\u001B[49m\u001B[38;5;241;43m.\u001B[39;49m\u001B[43mto_dict\u001B[49m\u001B[43m(\u001B[49m\u001B[43m)\u001B[49m\u001B[43m \u001B[49m\u001B[38;5;28;43;01mfor\u001B[39;49;00m\u001B[43m \u001B[49m\u001B[43m_\u001B[49m\u001B[43m,\u001B[49m\u001B[43m \u001B[49m\u001B[43mrow\u001B[49m\u001B[43m \u001B[49m\u001B[38;5;129;43;01min\u001B[39;49;00m\u001B[43m \u001B[49m\u001B[43mdf\u001B[49m\u001B[38;5;241;43m.\u001B[39;49m\u001B[43miterrows\u001B[49m\u001B[43m(\u001B[49m\u001B[43m)\u001B[49m\u001B[43m]\u001B[49m\n\u001B[0;32m      3\u001B[0m \u001B[38;5;28;01mimport\u001B[39;00m \u001B[38;5;21;01mjson\u001B[39;00m\n\u001B[0;32m      4\u001B[0m json_output \u001B[38;5;241m=\u001B[39m json\u001B[38;5;241m.\u001B[39mdumps(news_list)\n",
      "Cell \u001B[1;32mIn[27], line 1\u001B[0m, in \u001B[0;36m<listcomp>\u001B[1;34m(.0)\u001B[0m\n\u001B[1;32m----> 1\u001B[0m news_list \u001B[38;5;241m=\u001B[39m [\u001B[43mNews\u001B[49m\u001B[43m(\u001B[49m\u001B[43mrow\u001B[49m\u001B[38;5;241;43m.\u001B[39;49m\u001B[43mto_dict\u001B[49m\u001B[43m(\u001B[49m\u001B[43m)\u001B[49m\u001B[43m)\u001B[49m\u001B[38;5;241;43m.\u001B[39;49m\u001B[43mto_dict\u001B[49m() \u001B[38;5;28;01mfor\u001B[39;00m _, row \u001B[38;5;129;01min\u001B[39;00m df\u001B[38;5;241m.\u001B[39miterrows()]\n\u001B[0;32m      3\u001B[0m \u001B[38;5;28;01mimport\u001B[39;00m \u001B[38;5;21;01mjson\u001B[39;00m\n\u001B[0;32m      4\u001B[0m json_output \u001B[38;5;241m=\u001B[39m json\u001B[38;5;241m.\u001B[39mdumps(news_list)\n",
      "\u001B[1;31mAttributeError\u001B[0m: 'News' object has no attribute 'to_dict'"
     ]
    }
   ],
   "source": [
    "news_list = [News(row.to_dict()).to_dict() for _, row in df.iterrows()]\n",
    "\n",
    "import json\n",
    "json_output = json.dumps(news_list)\n",
    "\n",
    "output_path = '../Data/all_news.json'\n",
    "with open(output_path, 'w') as file:\n",
    "    file.write(json_output)\n",
    "\n",
    "output_path"
   ],
   "metadata": {
    "collapsed": false,
    "ExecuteTime": {
     "end_time": "2024-02-24T19:49:58.618212100Z",
     "start_time": "2024-02-24T19:49:58.595275700Z"
    }
   },
   "id": "58bbea5c8bc145bc",
   "execution_count": 27
  },
  {
   "cell_type": "code",
   "outputs": [],
   "source": [],
   "metadata": {
    "collapsed": false
   },
   "id": "e7c5958900a857a5"
  }
 ],
 "metadata": {
  "kernelspec": {
   "display_name": "Python 3",
   "language": "python",
   "name": "python3"
  },
  "language_info": {
   "codemirror_mode": {
    "name": "ipython",
    "version": 2
   },
   "file_extension": ".py",
   "mimetype": "text/x-python",
   "name": "python",
   "nbconvert_exporter": "python",
   "pygments_lexer": "ipython2",
   "version": "2.7.6"
  }
 },
 "nbformat": 4,
 "nbformat_minor": 5
}
