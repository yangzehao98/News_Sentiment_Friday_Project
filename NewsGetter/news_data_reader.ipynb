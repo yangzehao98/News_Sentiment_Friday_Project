{
 "cells": [
  {
   "cell_type": "code",
   "execution_count": 1,
   "id": "initial_id",
   "metadata": {
    "collapsed": true,
    "ExecuteTime": {
     "end_time": "2024-02-24T09:24:03.651575Z",
     "start_time": "2024-02-24T09:24:03.180946Z"
    }
   },
   "outputs": [],
   "source": [
    "import numpy as np\n",
    "import pandas as pd"
   ]
  },
  {
   "cell_type": "code",
   "outputs": [
    {
     "name": "stdout",
     "output_type": "stream",
     "text": [
      "author                                        Benzinga Newsdesk\n",
      "content                                                        \n",
      "created_at                                 2024-02-21T21:53:56Z\n",
      "headline      Coca-Cola Consolidated Q4 Adj $13.39 Down From...\n",
      "id                                                     37247897\n",
      "images                                                       []\n",
      "source                                                 benzinga\n",
      "summary                                                        \n",
      "symbols                                                  [COKE]\n",
      "updated_at                                 2024-02-21T21:53:57Z\n",
      "url           https://www.benzinga.com/news/earnings/24/02/3...\n",
      "Name: 0, dtype: object\n"
     ]
    }
   ],
   "source": [
    "import json\n",
    "import pandas as pd\n",
    "\n",
    "# Step 1: Read the JSON file\n",
    "with open('news_data.json', 'r') as file:\n",
    "    data = json.load(file)\n",
    "\n",
    "# Step 2: Convert the list of JSON objects to a DataFrame\n",
    "df = pd.DataFrame.from_dict(data)\n",
    "\n",
    "# Display the first few rows of the DataFrame\n",
    "print(df.iloc[0])\n"
   ],
   "metadata": {
    "collapsed": false,
    "ExecuteTime": {
     "end_time": "2024-02-24T09:25:44.061953Z",
     "start_time": "2024-02-24T09:25:44.054222Z"
    }
   },
   "id": "c4d677617f27bec6",
   "execution_count": 3
  },
  {
   "cell_type": "code",
   "outputs": [
    {
     "data": {
      "text/plain": "Index(['author', 'content', 'created_at', 'headline', 'id', 'images', 'source',\n       'summary', 'symbols', 'updated_at', 'url'],\n      dtype='object')"
     },
     "execution_count": 5,
     "metadata": {},
     "output_type": "execute_result"
    }
   ],
   "source": [
    "df.columns"
   ],
   "metadata": {
    "collapsed": false,
    "ExecuteTime": {
     "end_time": "2024-02-24T09:27:09.632504Z",
     "start_time": "2024-02-24T09:27:09.602859Z"
    }
   },
   "id": "ace6ca6fd9e8d82f",
   "execution_count": 5
  },
  {
   "cell_type": "code",
   "outputs": [
    {
     "name": "stdout",
     "output_type": "stream",
     "text": [
      "author                                        Benzinga Insights\n",
      "content       • Gatos Silver GATO is estimated to report qua...\n",
      "created_at                                 2024-02-21T10:09:04Z\n",
      "headline               Earnings Scheduled For February 21, 2024\n",
      "id                                                     37230455\n",
      "images        [{'size': 'large', 'url': 'https://cdn.benzing...\n",
      "source                                                 benzinga\n",
      "summary       Companies Reporting Before The Bell\\n\\n• Gatos...\n",
      "symbols       [ACVA, ADI, AGI, AGR, ALIT, AMK, AMSF, ANSS, A...\n",
      "updated_at                                 2024-02-21T10:09:05Z\n",
      "url           https://www.benzinga.com/insights/earnings/24/...\n",
      "Name: 1, dtype: object\n"
     ]
    }
   ],
   "source": [
    "print(df.iloc[1])"
   ],
   "metadata": {
    "collapsed": false,
    "ExecuteTime": {
     "end_time": "2024-02-24T09:25:56.639876Z",
     "start_time": "2024-02-24T09:25:56.637066Z"
    }
   },
   "id": "e0c036097f389e2",
   "execution_count": 4
  },
  {
   "cell_type": "code",
   "outputs": [],
   "source": [
    "df_recrods = df.to_dict('records')"
   ],
   "metadata": {
    "collapsed": false,
    "ExecuteTime": {
     "end_time": "2024-02-24T09:28:05.688533Z",
     "start_time": "2024-02-24T09:28:05.687024Z"
    }
   },
   "id": "b155bfaf1b33419e",
   "execution_count": 6
  },
  {
   "cell_type": "code",
   "outputs": [
    {
     "data": {
      "text/plain": "{'author': 'Benzinga Newsdesk',\n 'content': '',\n 'created_at': '2024-02-21T21:53:56Z',\n 'headline': 'Coca-Cola Consolidated Q4 Adj $13.39 Down From $13.54 YoY, Sales $1.63B Up From $1.57B YoY',\n 'id': 37247897,\n 'images': [],\n 'source': 'benzinga',\n 'summary': '',\n 'symbols': ['COKE'],\n 'updated_at': '2024-02-21T21:53:57Z',\n 'url': 'https://www.benzinga.com/news/earnings/24/02/37247897/coca-cola-consolidated-q4-adj-13-39-down-from-13-54-yoy-sales-1-63b-up-from-1-57b-yoy'}"
     },
     "execution_count": 7,
     "metadata": {},
     "output_type": "execute_result"
    }
   ],
   "source": [
    "df_recrods[0]"
   ],
   "metadata": {
    "collapsed": false,
    "ExecuteTime": {
     "end_time": "2024-02-24T09:28:07.589039Z",
     "start_time": "2024-02-24T09:28:07.584876Z"
    }
   },
   "id": "3e024dccb20d8009",
   "execution_count": 7
  },
  {
   "cell_type": "code",
   "outputs": [
    {
     "data": {
      "text/plain": "{'author': 'Lisa Levin',\n 'content': 'Now Read This:  Top 5 Energy Stocks That Should Keep You Up At Night',\n 'created_at': '2023-08-03T16:48:38Z',\n 'headline': \"Why Cummins Shares Are Trading Lower By Over 9%? Here Are Other Stocks Moving In Thursday's Mid-Day Session\",\n 'id': 33554692,\n 'images': [{'size': 'large',\n   'url': 'https://cdn.benzinga.com/files/imagecache/2048x1536xUP/images/story/2023/08/03/cummins_-_logo.jpg'},\n  {'size': 'small',\n   'url': 'https://cdn.benzinga.com/files/imagecache/1024x768xUP/images/story/2023/08/03/cummins_-_logo.jpg'},\n  {'size': 'thumb',\n   'url': 'https://cdn.benzinga.com/files/imagecache/250x187xUP/images/story/2023/08/03/cummins_-_logo.jpg'}],\n 'source': 'benzinga',\n 'summary': 'Gainers\\n\\n\\n\\tBluejay Diagnostics, Inc.  (NASDAQ: BJDX) shares jumped 75% to $9.60.\\n',\n 'symbols': ['ADMP',\n  'AFG',\n  'ALG',\n  'AMSC',\n  'AMWL',\n  'ARAV',\n  'ARW',\n  'BJDX',\n  'BPTH',\n  'BPTS',\n  'BRSH',\n  'CENT',\n  'CHRS',\n  'CLX',\n  'CMI',\n  'COKE',\n  'COMM',\n  'COOK',\n  'DGII',\n  'DMRC',\n  'DRTT',\n  'DSKE',\n  'DUO',\n  'DXC',\n  'ERII',\n  'ETD',\n  'ETSY',\n  'EVGO',\n  'EXPE',\n  'FARO',\n  'FOXO',\n  'FSLY',\n  'GCI',\n  'GLT',\n  'GT',\n  'H',\n  'HDSN',\n  'HLF',\n  'HOOD',\n  'HUBS',\n  'INSG',\n  'KRP',\n  'KTB',\n  'LIDR',\n  'LMND',\n  'LTRY',\n  'MEDS',\n  'MGM',\n  'MSGM',\n  'NCR',\n  'NEON',\n  'NGVT',\n  'NIO',\n  'ONEW',\n  'PWM',\n  'PYPL',\n  'QCOM',\n  'QS',\n  'RBOT',\n  'RELY',\n  'RSI',\n  'RUN',\n  'SABR',\n  'SDGR',\n  'SONM',\n  'STAA',\n  'TCBP',\n  'TRIP',\n  'TTOO',\n  'UPWK',\n  'VAC',\n  'VIA',\n  'VITL',\n  'W',\n  'WCC'],\n 'updated_at': '2023-08-03T16:48:38Z',\n 'url': 'https://www.benzinga.com/news/23/08/33554692/why-cummins-shares-are-trading-lower-by-over-9-here-are-other-stocks-moving-in-thursdays-mid-day-ses'}"
     },
     "execution_count": 8,
     "metadata": {},
     "output_type": "execute_result"
    }
   ],
   "source": [
    "df_recrods[11]"
   ],
   "metadata": {
    "collapsed": false,
    "ExecuteTime": {
     "end_time": "2024-02-24T09:35:48.743404Z",
     "start_time": "2024-02-24T09:35:48.738512Z"
    }
   },
   "id": "25825f95fa4fd52e",
   "execution_count": 8
  },
  {
   "cell_type": "code",
   "outputs": [],
   "source": [],
   "metadata": {
    "collapsed": false
   },
   "id": "388cae3134d949a7"
  }
 ],
 "metadata": {
  "kernelspec": {
   "display_name": "Python 3",
   "language": "python",
   "name": "python3"
  },
  "language_info": {
   "codemirror_mode": {
    "name": "ipython",
    "version": 2
   },
   "file_extension": ".py",
   "mimetype": "text/x-python",
   "name": "python",
   "nbconvert_exporter": "python",
   "pygments_lexer": "ipython2",
   "version": "2.7.6"
  }
 },
 "nbformat": 4,
 "nbformat_minor": 5
}
