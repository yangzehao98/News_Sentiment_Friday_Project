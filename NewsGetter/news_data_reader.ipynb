{
 "cells": [
  {
   "cell_type": "code",
   "execution_count": 1,
   "id": "initial_id",
   "metadata": {
    "collapsed": true,
    "ExecuteTime": {
     "end_time": "2024-02-24T09:24:03.651575Z",
     "start_time": "2024-02-24T09:24:03.180946Z"
    }
   },
   "outputs": [],
   "source": [
    "import numpy as np\n",
    "import pandas as pd"
   ]
  },
  {
   "cell_type": "code",
   "outputs": [
    {
     "name": "stdout",
     "output_type": "stream",
     "text": [
      "author                                        Benzinga Newsdesk\n",
      "content                                                        \n",
      "created_at                                 2024-02-21T21:53:56Z\n",
      "headline      Coca-Cola Consolidated Q4 Adj $13.39 Down From...\n",
      "id                                                     37247897\n",
      "images                                                       []\n",
      "source                                                 benzinga\n",
      "summary                                                        \n",
      "symbols                                                  [COKE]\n",
      "updated_at                                 2024-02-21T21:53:57Z\n",
      "url           https://www.benzinga.com/news/earnings/24/02/3...\n",
      "Name: 0, dtype: object\n"
     ]
    }
   ],
   "source": [
    "import json\n",
    "import pandas as pd\n",
    "\n",
    "# Step 1: Read the JSON file\n",
    "with open('news_data.json', 'r') as file:\n",
    "    data = json.load(file)\n",
    "\n",
    "# Step 2: Convert the list of JSON objects to a DataFrame\n",
    "df = pd.DataFrame.from_dict(data)\n",
    "\n",
    "# Display the first few rows of the DataFrame\n",
    "print(df.iloc[0])\n"
   ],
   "metadata": {
    "collapsed": false,
    "ExecuteTime": {
     "end_time": "2024-02-24T09:25:44.061953Z",
     "start_time": "2024-02-24T09:25:44.054222Z"
    }
   },
   "id": "c4d677617f27bec6",
   "execution_count": 3
  },
  {
   "cell_type": "code",
   "outputs": [
    {
     "name": "stdout",
     "output_type": "stream",
     "text": [
      "author                                        Benzinga Insights\n",
      "content       • Gatos Silver GATO is estimated to report qua...\n",
      "created_at                                 2024-02-21T10:09:04Z\n",
      "headline               Earnings Scheduled For February 21, 2024\n",
      "id                                                     37230455\n",
      "images        [{'size': 'large', 'url': 'https://cdn.benzing...\n",
      "source                                                 benzinga\n",
      "summary       Companies Reporting Before The Bell\\n\\n• Gatos...\n",
      "symbols       [ACVA, ADI, AGI, AGR, ALIT, AMK, AMSF, ANSS, A...\n",
      "updated_at                                 2024-02-21T10:09:05Z\n",
      "url           https://www.benzinga.com/insights/earnings/24/...\n",
      "Name: 1, dtype: object\n"
     ]
    }
   ],
   "source": [
    "print(df.iloc[1])"
   ],
   "metadata": {
    "collapsed": false,
    "ExecuteTime": {
     "end_time": "2024-02-24T09:25:56.639876Z",
     "start_time": "2024-02-24T09:25:56.637066Z"
    }
   },
   "id": "e0c036097f389e2",
   "execution_count": 4
  },
  {
   "cell_type": "code",
   "outputs": [],
   "source": [],
   "metadata": {
    "collapsed": false
   },
   "id": "b155bfaf1b33419e"
  }
 ],
 "metadata": {
  "kernelspec": {
   "display_name": "Python 3",
   "language": "python",
   "name": "python3"
  },
  "language_info": {
   "codemirror_mode": {
    "name": "ipython",
    "version": 2
   },
   "file_extension": ".py",
   "mimetype": "text/x-python",
   "name": "python",
   "nbconvert_exporter": "python",
   "pygments_lexer": "ipython2",
   "version": "2.7.6"
  }
 },
 "nbformat": 4,
 "nbformat_minor": 5
}
